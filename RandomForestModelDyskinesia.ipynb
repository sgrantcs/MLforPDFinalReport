{
 "cells": [
  {
   "cell_type": "code",
   "execution_count": 1,
   "metadata": {},
   "outputs": [],
   "source": [
    "from sklearn.metrics import confusion_matrix\n",
    "from sklearn.model_selection import train_test_split\n",
    "from sklearn.metrics import accuracy_score, precision_score, recall_score, roc_curve, auc\n",
    "from sklearn import svm, datasets\n",
    "from sklearn.svm import SVC\n",
    "from sklearn.model_selection import KFold\n",
    "from sklearn.model_selection import cross_val_score\n",
    "import matplotlib.pyplot as plt\n",
    "import numpy as np\n",
    "import pandas as pd\n",
    "import tensorflow as tf\n",
    "\n",
    "import statistics\n",
    "\n",
    "k_fold = KFold(n_splits=5, shuffle=True, random_state=0)"
   ]
  },
  {
   "cell_type": "code",
   "execution_count": 2,
   "metadata": {},
   "outputs": [],
   "source": [
    "def my_mode( input_data ):\n",
    "\n",
    "    freq_count = dict() \n",
    "\n",
    "    for d in input_data: \n",
    "        if ( d in freq_count ):\n",
    "            freq_count[d] += 1 \n",
    "        else: \n",
    "            freq_count[d] = 1 \n",
    "\n",
    "    max_count = 0 \n",
    "    mode_value = None \n",
    "\n",
    "    for k,v in freq_count.items():\n",
    "        if ( v > max_count ):\n",
    "            mode_value = k \n",
    "            max_count = v\n",
    "\n",
    "    return mode_value ; "
   ]
  },
  {
   "cell_type": "code",
   "execution_count": 3,
   "metadata": {},
   "outputs": [],
   "source": [
    "def normalise_data(input_data):\n",
    "\n",
    "    #print(input_data[0:100])\n",
    "    max_value = np.argmax(input_data)\n",
    "    min_value = np.argmin(input_data)\n",
    "    for i in range(0, len(input_data)):\n",
    "        input_data[i] = (input_data[i] - min_value)/(max_value-min_value)\n",
    "    return input_data"
   ]
  },
  {
   "cell_type": "code",
   "execution_count": 8,
   "metadata": {},
   "outputs": [],
   "source": [
    "def generate_data_samples( input_dataset, x_columns, y_column, sample_size):\n",
    "\n",
    "    #y_values = [] \n",
    "    # First take the y series data and apply the compression function to get a single value per sample. \n",
    "    #y_series = input_dataset[y_column]; \n",
    "    y_values = input_dataset[y_column];\n",
    "    #for i in range(0,len(input_dataset), sample_size): \n",
    "\n",
    "    #    if ( (i + 128) <= len(y_series)):\n",
    "    #        value = y_compress_function(y_series[i:i+sample_size])\n",
    "    #        y_values.append(value)\n",
    "            \n",
    "\n",
    "    # Now truncate the dataset, since we need the rows to be divisible by the sample size. \n",
    "    #input_dataset = input_dataset.truncate(after=len(y_values*sample_size)-1)\n",
    "\n",
    "    input_dataset = input_dataset[x_columns]\n",
    "    #input_dataset.replace(np.nan, 0)\n",
    "    np_x_values = input_dataset.to_numpy()\n",
    "    np_x_values = np_x_values.astype(np.float32)\n",
    "    np_x_values = np.nan_to_num(np_x_values, 0)\n",
    "    \n",
    "    #Regularize the data \n",
    "    #np_x_values.shape\n",
    "#    for i in range (0, np_x_values.shape[1]): \n",
    "#        normalise_data(np_x_values[:,i])     \n",
    "    np_x_values.shape\n",
    "    np_x_values = np_x_values.reshape(np_x_values.shape[0], np_x_values.shape[1] )\n",
    "    #np_x_values = np_x_values.reshape(-1, sample_size, np_x_values.shape[1] )\n",
    "    #np_x_values = np_x_values.reshape(np_x_values.shape[0], np_x_values.shape[1], np_x_values.shape[2], 1) \n",
    "    \n",
    "    np_y_values = np.array(y_values); \n",
    "    np_y_values = np_y_values.reshape(np_y_values.shape[0], 1)\n",
    "\n",
    "    return np_x_values.astype(np.float32), np_y_values.astype(np.int32) "
   ]
  },
  {
   "cell_type": "code",
   "execution_count": 4,
   "metadata": {},
   "outputs": [],
   "source": [
    "def getFileList(rootFolder, searchExp = None):\n",
    "\n",
    "    filesFound = [] \n",
    "\n",
    "    for root, subdirs, files in os.walk(rootFolder): \n",
    "        for fileName in files :\n",
    "            if ( (searchExp is None) or re.search(searchExp, fileName) ):\n",
    "                filesFound.append(os.path.join(root,fileName)) \n",
    "    return filesFound"
   ]
  },
  {
   "cell_type": "code",
   "execution_count": 6,
   "metadata": {},
   "outputs": [
    {
     "name": "stdout",
     "output_type": "stream",
     "text": [
      "2477700\n",
      "2477700\n"
     ]
    }
   ],
   "source": [
    "training_dataframe = pd.read_csv(\"./Training/3_BOS_LeftLowerLimb/rawData_Day1_l.csv\")\n",
    "X_train, Y_train = generate_data_samples(training_dataframe, ['leftAnkle_X', 'leftAnkle_Y','leftAnkle_Z'], 'Dysk_Score', 128)\n",
    "np.where(np.isnan(X_train))\n",
    "X_train.shape\n",
    "Y_train.shape\n",
    "print(len(X_train))\n",
    "print(len(Y_train))"
   ]
  },
  {
   "cell_type": "code",
   "execution_count": 5,
   "metadata": {},
   "outputs": [
    {
     "name": "stdout",
     "output_type": "stream",
     "text": [
      "['./Training\\\\10_BOS_LeftLowerLimb\\\\rawData_Day1_l.csv', './Training\\\\10_BOS_LeftLowerLimb\\\\rawData_Day4_l.csv', './Training\\\\13_BOS_LeftLowerLimb\\\\rawData_Day1_l.csv', './Training\\\\13_BOS_LeftLowerLimb\\\\rawData_Day4_l.csv', './Training\\\\15_BOS_LeftLowerLimb\\\\rawData_Day1_l.csv', './Training\\\\15_BOS_LeftLowerLimb\\\\rawData_Day4_l.csv', './Training\\\\16_BOS_LeftLowerLimb\\\\rawData_Day1_l.csv', './Training\\\\16_BOS_LeftLowerLimb\\\\rawData_Day4_l.csv', './Training\\\\17_BOS_LeftLowerLimb\\\\rawData_Day1_l.csv', './Training\\\\17_BOS_LeftLowerLimb\\\\rawData_Day4_l.csv', './Training\\\\3_BOS_LeftLowerLimb\\\\rawData_Day1_l.csv', './Training\\\\3_BOS_LeftLowerLimb\\\\rawData_Day4_l.csv', './Training\\\\4_BOS_LeftLowerLimb\\\\rawData_Day1_l.csv', './Training\\\\4_BOS_LeftLowerLimb\\\\rawData_Day4_l.csv', './Training\\\\5_BOS_LeftLowerLimb\\\\rawData_Day1_l.csv', './Training\\\\5_BOS_LeftLowerLimb\\\\rawData_Day4_l.csv', './Training\\\\6_BOS_LeftLowerLimb\\\\rawData_Day1_l.csv', './Training\\\\6_BOS_LeftLowerLimb\\\\rawData_Day4_l.csv', './Training\\\\7_BOS_LeftLowerLimb\\\\rawData_Day1_l.csv', './Training\\\\7_BOS_LeftLowerLimb\\\\rawData_Day4_l.csv', './Training\\\\8_BOS_LeftLowerLimb\\\\rawData_Day1_l.csv', './Training\\\\8_BOS_LeftLowerLimb\\\\rawData_Day4_l.csv', './Training\\\\9_BOS_LeftLowerLimb\\\\rawData_Day1_l.csv', './Training\\\\9_BOS_LeftLowerLimb\\\\rawData_Day4_l.csv']\n"
     ]
    }
   ],
   "source": [
    "import os\n",
    "import re\n",
    "file_names = getFileList('./Training', searchExp = \"rawData.*l.csv\")\n",
    "print(file_names)"
   ]
  },
  {
   "cell_type": "code",
   "execution_count": null,
   "metadata": {},
   "outputs": [],
   "source": [
    "for data_file in file_names:\n",
    "    training_dataframe = pd.read_csv(data_file)\n",
    "    print(data_file)\n",
    "    X_train, Y_train = generate_data_samples(training_dataframe, ['leftAnkle_X', 'leftAnkle_Y','leftAnkle_Z'], 'Dysk_Score', 128)\n",
    "    Y_train = Y_train.reshape(-1)\n",
    "    print((X_train)[0:5])\n",
    "    print((Y_train)[0:5])"
   ]
  },
  {
   "cell_type": "code",
   "execution_count": 14,
   "metadata": {},
   "outputs": [
    {
     "name": "stderr",
     "output_type": "stream",
     "text": [
      "C:\\Users\\svetl\\AppData\\Local\\Continuum\\anaconda3\\lib\\site-packages\\IPython\\core\\interactiveshell.py:3058: DtypeWarning: Columns (2,3,4,5) have mixed types. Specify dtype option on import or set low_memory=False.\n",
      "  interactivity=interactivity, compiler=compiler, result=result)\n"
     ]
    },
    {
     "name": "stdout",
     "output_type": "stream",
     "text": [
      "./Training\\10_BOS_LeftLowerLimb\\rawData_Day1_l.csv\n",
      "2543898\n",
      "2543898\n",
      "{'fit_time': array([63.22971272, 62.48409796, 64.20195317, 63.16633129, 62.34449148]), 'score_time': array([1.19758201, 0.97852969, 0.99293971, 0.99049997, 0.9819293 ]), 'test_score': array([0.9961732 , 0.99617516, 0.99634223, 0.99627736, 0.99635991])}\n",
      "./Training\\10_BOS_LeftLowerLimb\\rawData_Day4_l.csv\n",
      "2174039\n",
      "2174039\n",
      "{'fit_time': array([33.31907368, 33.87244248, 34.28001928, 33.87290812, 34.18509245]), 'score_time': array([0.77282453, 0.76526213, 0.76395249, 0.77060795, 0.76195097]), 'test_score': array([0.99065795, 0.99073844, 0.99062345, 0.99087643, 0.99085341])}\n"
     ]
    },
    {
     "name": "stderr",
     "output_type": "stream",
     "text": [
      "C:\\Users\\svetl\\AppData\\Local\\Continuum\\anaconda3\\lib\\site-packages\\IPython\\core\\interactiveshell.py:3058: DtypeWarning: Columns (2,3,4,5) have mixed types. Specify dtype option on import or set low_memory=False.\n",
      "  interactivity=interactivity, compiler=compiler, result=result)\n"
     ]
    },
    {
     "name": "stdout",
     "output_type": "stream",
     "text": [
      "./Training\\13_BOS_LeftLowerLimb\\rawData_Day1_l.csv\n",
      "2634603\n",
      "2634603\n",
      "{'fit_time': array([59.61716461, 58.71348023, 59.65636301, 58.80965519, 61.50911641]), 'score_time': array([1.134094  , 1.0942781 , 1.12679744, 1.12775826, 1.11631274]), 'test_score': array([0.99007062, 0.99002887, 0.9902585 , 0.99014461, 0.99001177])}\n",
      "./Training\\13_BOS_LeftLowerLimb\\rawData_Day4_l.csv\n",
      "2451821\n",
      "2451821\n",
      "{'fit_time': array([47.45807362, 44.40994   , 46.25088   , 45.81290054, 46.01266289]), 'score_time': array([1.07229328, 0.99583745, 1.04406953, 0.98085237, 1.02502847]), 'test_score': array([0.99196313, 0.99184483, 0.99169393, 0.99188358, 0.99213238])}\n"
     ]
    },
    {
     "name": "stderr",
     "output_type": "stream",
     "text": [
      "C:\\Users\\svetl\\AppData\\Local\\Continuum\\anaconda3\\lib\\site-packages\\IPython\\core\\interactiveshell.py:3058: DtypeWarning: Columns (2,3,4,5) have mixed types. Specify dtype option on import or set low_memory=False.\n",
      "  interactivity=interactivity, compiler=compiler, result=result)\n"
     ]
    },
    {
     "name": "stdout",
     "output_type": "stream",
     "text": [
      "./Training\\15_BOS_LeftLowerLimb\\rawData_Day1_l.csv\n",
      "2399045\n",
      "2399045\n",
      "{'fit_time': array([57.8833003 , 58.31511116, 57.18395519, 60.64616275, 55.88460588]), 'score_time': array([1.1161356 , 1.10472274, 1.08215451, 1.07370019, 1.1067071 ]), 'test_score': array([0.99455617, 0.99456034, 0.99455617, 0.99454783, 0.99427272])}\n"
     ]
    },
    {
     "name": "stderr",
     "output_type": "stream",
     "text": [
      "C:\\Users\\svetl\\AppData\\Local\\Continuum\\anaconda3\\lib\\site-packages\\IPython\\core\\interactiveshell.py:3058: DtypeWarning: Columns (2,3,4,5) have mixed types. Specify dtype option on import or set low_memory=False.\n",
      "  interactivity=interactivity, compiler=compiler, result=result)\n"
     ]
    },
    {
     "name": "stdout",
     "output_type": "stream",
     "text": [
      "./Training\\15_BOS_LeftLowerLimb\\rawData_Day4_l.csv\n",
      "2448498\n",
      "2448498\n",
      "{'fit_time': array([46.96030402, 46.77885365, 44.4392693 , 42.24185228, 43.30087805]), 'score_time': array([0.95978212, 1.07009387, 0.95364141, 0.94004607, 0.95458245]), 'test_score': array([0.98823157, 0.9889177 , 0.98876863, 0.98867263, 0.98867263])}\n",
      "./Training\\16_BOS_LeftLowerLimb\\rawData_Day1_l.csv\n",
      "2577691\n",
      "2577691\n",
      "{'fit_time': array([91.68292117, 79.35733056, 79.78791618, 71.71206737, 73.10350084]), 'score_time': array([1.57877731, 1.51880527, 1.50796533, 1.56102777, 1.50277901]), 'test_score': array([0.96221236, 0.96231704, 0.96265649, 0.96213858, 0.96261769])}\n"
     ]
    },
    {
     "name": "stderr",
     "output_type": "stream",
     "text": [
      "C:\\Users\\svetl\\AppData\\Local\\Continuum\\anaconda3\\lib\\site-packages\\IPython\\core\\interactiveshell.py:3058: DtypeWarning: Columns (2,3,4,5) have mixed types. Specify dtype option on import or set low_memory=False.\n",
      "  interactivity=interactivity, compiler=compiler, result=result)\n"
     ]
    },
    {
     "name": "stdout",
     "output_type": "stream",
     "text": [
      "./Training\\16_BOS_LeftLowerLimb\\rawData_Day4_l.csv\n",
      "2492220\n",
      "2492220\n",
      "{'fit_time': array([59.0902791 , 59.53397059, 59.19598222, 60.00446653, 60.12097764]), 'score_time': array([1.1798377 , 1.15092325, 1.18283749, 1.18205357, 1.14892793]), 'test_score': array([0.98623516, 0.98623918, 0.986181  , 0.98605861, 0.98626124])}\n"
     ]
    },
    {
     "name": "stderr",
     "output_type": "stream",
     "text": [
      "C:\\Users\\svetl\\AppData\\Local\\Continuum\\anaconda3\\lib\\site-packages\\IPython\\core\\interactiveshell.py:3058: DtypeWarning: Columns (2,3,4,5) have mixed types. Specify dtype option on import or set low_memory=False.\n",
      "  interactivity=interactivity, compiler=compiler, result=result)\n"
     ]
    },
    {
     "name": "stdout",
     "output_type": "stream",
     "text": [
      "./Training\\17_BOS_LeftLowerLimb\\rawData_Day1_l.csv\n",
      "2624196\n",
      "2624196\n",
      "{'fit_time': array([71.4062295 , 69.37876487, 70.84437728, 71.30311942, 70.5652163 ]), 'score_time': array([1.34549642, 1.37641788, 1.3773191 , 1.3852849 , 1.37330747]), 'test_score': array([0.95831301, 0.95845774, 0.9588026 , 0.958231  , 0.95832246])}\n"
     ]
    },
    {
     "name": "stderr",
     "output_type": "stream",
     "text": [
      "C:\\Users\\svetl\\AppData\\Local\\Continuum\\anaconda3\\lib\\site-packages\\IPython\\core\\interactiveshell.py:3058: DtypeWarning: Columns (2,3,4,5) have mixed types. Specify dtype option on import or set low_memory=False.\n",
      "  interactivity=interactivity, compiler=compiler, result=result)\n"
     ]
    },
    {
     "name": "stdout",
     "output_type": "stream",
     "text": [
      "./Training\\17_BOS_LeftLowerLimb\\rawData_Day4_l.csv\n",
      "2683102\n",
      "2683102\n",
      "{'fit_time': array([63.76390982, 61.72702599, 63.41561127, 61.85635424, 63.67095613]), 'score_time': array([1.35342932, 1.30854225, 1.34044909, 1.33576369, 1.32441854]), 'test_score': array([0.97263432, 0.9733145 , 0.97288398, 0.97313555, 0.97284671])}\n",
      "./Training\\3_BOS_LeftLowerLimb\\rawData_Day1_l.csv\n",
      "2477700\n",
      "2477700\n",
      "{'fit_time': array([64.29374242, 63.91749883, 63.93534255, 63.89378524, 66.75969124]), 'score_time': array([1.0807538 , 1.0933578 , 1.10404229, 1.11518526, 1.18481565]), 'test_score': array([0.97300319, 0.97387698, 0.97369738, 0.9737337 , 0.97370747])}\n"
     ]
    },
    {
     "name": "stderr",
     "output_type": "stream",
     "text": [
      "C:\\Users\\svetl\\AppData\\Local\\Continuum\\anaconda3\\lib\\site-packages\\IPython\\core\\interactiveshell.py:3058: DtypeWarning: Columns (2,3,4,5) have mixed types. Specify dtype option on import or set low_memory=False.\n",
      "  interactivity=interactivity, compiler=compiler, result=result)\n"
     ]
    },
    {
     "name": "stdout",
     "output_type": "stream",
     "text": [
      "./Training\\3_BOS_LeftLowerLimb\\rawData_Day4_l.csv\n",
      "2459648\n",
      "2459648\n",
      "{'fit_time': array([54.40850282, 53.40367651, 53.30300498, 56.16194224, 54.71765947]), 'score_time': array([0.96940756, 0.96920347, 1.01229048, 0.99949741, 0.99550891]), 'test_score': array([0.97862907, 0.9782774 , 0.97881812, 0.9786087 , 0.97833427])}\n"
     ]
    },
    {
     "name": "stderr",
     "output_type": "stream",
     "text": [
      "C:\\Users\\svetl\\AppData\\Local\\Continuum\\anaconda3\\lib\\site-packages\\IPython\\core\\interactiveshell.py:3058: DtypeWarning: Columns (2,3,4,5) have mixed types. Specify dtype option on import or set low_memory=False.\n",
      "  interactivity=interactivity, compiler=compiler, result=result)\n"
     ]
    },
    {
     "name": "stdout",
     "output_type": "stream",
     "text": [
      "./Training\\4_BOS_LeftLowerLimb\\rawData_Day1_l.csv\n",
      "2485791\n",
      "2485791\n",
      "{'fit_time': array([61.05332851, 61.53068161, 60.53279519, 61.74230027, 61.4242456 ]), 'score_time': array([1.09382582, 1.10023475, 1.09520984, 1.09933019, 1.10204649]), 'test_score': array([0.9689898 , 0.96962535, 0.96932565, 0.96942823, 0.96966357])}\n"
     ]
    },
    {
     "name": "stderr",
     "output_type": "stream",
     "text": [
      "C:\\Users\\svetl\\AppData\\Local\\Continuum\\anaconda3\\lib\\site-packages\\IPython\\core\\interactiveshell.py:3058: DtypeWarning: Columns (2,3,4,5) have mixed types. Specify dtype option on import or set low_memory=False.\n",
      "  interactivity=interactivity, compiler=compiler, result=result)\n"
     ]
    },
    {
     "name": "stdout",
     "output_type": "stream",
     "text": [
      "./Training\\4_BOS_LeftLowerLimb\\rawData_Day4_l.csv\n",
      "2485050\n",
      "2485050\n",
      "{'fit_time': array([54.68518329, 56.58214092, 56.57763767, 55.1600163 , 56.21038651]), 'score_time': array([1.01589847, 1.08825541, 1.0329864 , 1.06614423, 1.02895784]), 'test_score': array([0.95729663, 0.9574576 , 0.95770508, 0.95788415, 0.95771111])}\n"
     ]
    },
    {
     "name": "stderr",
     "output_type": "stream",
     "text": [
      "C:\\Users\\svetl\\AppData\\Local\\Continuum\\anaconda3\\lib\\site-packages\\IPython\\core\\interactiveshell.py:3058: DtypeWarning: Columns (2,3,4,5) have mixed types. Specify dtype option on import or set low_memory=False.\n",
      "  interactivity=interactivity, compiler=compiler, result=result)\n"
     ]
    },
    {
     "name": "stdout",
     "output_type": "stream",
     "text": [
      "./Training\\5_BOS_LeftLowerLimb\\rawData_Day1_l.csv\n",
      "2448195\n",
      "2448195\n",
      "{'fit_time': array([59.97413588, 58.68912911, 58.46184802, 59.09382939, 60.8814621 ]), 'score_time': array([1.10589671, 1.08041954, 1.10734296, 1.10468197, 1.0734024 ]), 'test_score': array([0.98135565, 0.98163749, 0.98152108, 0.98158031, 0.98165179])}\n"
     ]
    },
    {
     "name": "stderr",
     "output_type": "stream",
     "text": [
      "C:\\Users\\svetl\\AppData\\Local\\Continuum\\anaconda3\\lib\\site-packages\\IPython\\core\\interactiveshell.py:3058: DtypeWarning: Columns (2,3,4,5) have mixed types. Specify dtype option on import or set low_memory=False.\n",
      "  interactivity=interactivity, compiler=compiler, result=result)\n"
     ]
    },
    {
     "name": "stdout",
     "output_type": "stream",
     "text": [
      "./Training\\5_BOS_LeftLowerLimb\\rawData_Day4_l.csv\n",
      "2734462\n",
      "2734462\n",
      "{'fit_time': array([56.29748106, 54.36363721, 53.69861317, 56.15867758, 56.29167056]), 'score_time': array([1.07319117, 1.06315494, 1.0640769 , 1.04854274, 1.05010891]), 'test_score': array([0.99043871, 0.99026135, 0.99061972, 0.99053195, 0.99023573])}\n"
     ]
    },
    {
     "name": "stderr",
     "output_type": "stream",
     "text": [
      "C:\\Users\\svetl\\AppData\\Local\\Continuum\\anaconda3\\lib\\site-packages\\IPython\\core\\interactiveshell.py:3058: DtypeWarning: Columns (2,3,4,5) have mixed types. Specify dtype option on import or set low_memory=False.\n",
      "  interactivity=interactivity, compiler=compiler, result=result)\n"
     ]
    },
    {
     "name": "stdout",
     "output_type": "stream",
     "text": [
      "./Training\\6_BOS_LeftLowerLimb\\rawData_Day1_l.csv\n",
      "2623920\n",
      "2623920\n",
      "{'fit_time': array([65.12066412, 65.1526897 , 66.46233225, 65.796278  , 66.17282009]), 'score_time': array([1.16629815, 1.22283888, 1.17842889, 1.28308678, 1.26137543]), 'test_score': array([0.97362915, 0.97345193, 0.97349576, 0.97326329, 0.97334332])}\n"
     ]
    },
    {
     "name": "stderr",
     "output_type": "stream",
     "text": [
      "C:\\Users\\svetl\\AppData\\Local\\Continuum\\anaconda3\\lib\\site-packages\\IPython\\core\\interactiveshell.py:3058: DtypeWarning: Columns (2,3,4,5) have mixed types. Specify dtype option on import or set low_memory=False.\n",
      "  interactivity=interactivity, compiler=compiler, result=result)\n"
     ]
    },
    {
     "name": "stdout",
     "output_type": "stream",
     "text": [
      "./Training\\6_BOS_LeftLowerLimb\\rawData_Day4_l.csv\n",
      "2197651\n",
      "2197651\n",
      "{'fit_time': array([40.67198324, 40.05824661, 40.26719618, 42.26379871, 40.32315969]), 'score_time': array([0.80513048, 0.79988098, 0.79856586, 0.83876061, 0.79487443]), 'test_score': array([0.98988922, 0.98980274, 0.98998021, 0.99012354, 0.98961163])}\n"
     ]
    },
    {
     "name": "stderr",
     "output_type": "stream",
     "text": [
      "C:\\Users\\svetl\\AppData\\Local\\Continuum\\anaconda3\\lib\\site-packages\\IPython\\core\\interactiveshell.py:3058: DtypeWarning: Columns (2,3,4,5) have mixed types. Specify dtype option on import or set low_memory=False.\n",
      "  interactivity=interactivity, compiler=compiler, result=result)\n"
     ]
    },
    {
     "name": "stdout",
     "output_type": "stream",
     "text": [
      "./Training\\7_BOS_LeftLowerLimb\\rawData_Day1_l.csv\n",
      "2740054\n",
      "2740054\n",
      "{'fit_time': array([73.14968204, 74.68367624, 74.35287142, 72.31126475, 73.56914949]), 'score_time': array([1.25058103, 1.2137692 , 1.25066137, 1.23727059, 1.25763559]), 'test_score': array([0.99648182, 0.99655481, 0.9964508 , 0.99634314, 0.99646904])}\n"
     ]
    },
    {
     "name": "stderr",
     "output_type": "stream",
     "text": [
      "C:\\Users\\svetl\\AppData\\Local\\Continuum\\anaconda3\\lib\\site-packages\\IPython\\core\\interactiveshell.py:3058: DtypeWarning: Columns (2,3,4,5) have mixed types. Specify dtype option on import or set low_memory=False.\n",
      "  interactivity=interactivity, compiler=compiler, result=result)\n"
     ]
    },
    {
     "name": "stdout",
     "output_type": "stream",
     "text": [
      "./Training\\7_BOS_LeftLowerLimb\\rawData_Day4_l.csv\n",
      "2122898\n",
      "2122898\n",
      "{'fit_time': array([39.38080955, 36.23379374, 36.75073528, 38.40939045, 35.57292342]), 'score_time': array([0.82479715, 0.79785728, 0.82274508, 0.78658223, 0.78295922]), 'test_score': array([0.9808917 , 0.98059965, 0.9802181 , 0.98029106, 0.98069617])}\n"
     ]
    },
    {
     "name": "stderr",
     "output_type": "stream",
     "text": [
      "C:\\Users\\svetl\\AppData\\Local\\Continuum\\anaconda3\\lib\\site-packages\\IPython\\core\\interactiveshell.py:3058: DtypeWarning: Columns (2,3,4,5) have mixed types. Specify dtype option on import or set low_memory=False.\n",
      "  interactivity=interactivity, compiler=compiler, result=result)\n"
     ]
    },
    {
     "name": "stdout",
     "output_type": "stream",
     "text": [
      "./Training\\8_BOS_LeftLowerLimb\\rawData_Day1_l.csv\n",
      "2779515\n",
      "2779515\n",
      "{'fit_time': array([56.38405275, 57.91340709, 57.17962408, 57.81791162, 56.70398498]), 'score_time': array([1.08810997, 1.13296461, 1.10152578, 1.14007425, 1.11800313]), 'test_score': array([0.99286566, 0.99299698, 0.9931265 , 0.99272175, 0.99267138])}\n"
     ]
    },
    {
     "name": "stderr",
     "output_type": "stream",
     "text": [
      "C:\\Users\\svetl\\AppData\\Local\\Continuum\\anaconda3\\lib\\site-packages\\IPython\\core\\interactiveshell.py:3058: DtypeWarning: Columns (2,3,4,5) have mixed types. Specify dtype option on import or set low_memory=False.\n",
      "  interactivity=interactivity, compiler=compiler, result=result)\n"
     ]
    },
    {
     "name": "stdout",
     "output_type": "stream",
     "text": [
      "./Training\\8_BOS_LeftLowerLimb\\rawData_Day4_l.csv\n",
      "2160924\n",
      "2160924\n",
      "{'fit_time': array([43.79034185, 43.00482798, 44.9963553 , 43.72285151, 47.23154783]), 'score_time': array([0.89351726, 0.87429547, 0.85703063, 0.89098525, 0.88575459]), 'test_score': array([0.99358839, 0.99339172, 0.99346345, 0.99349815, 0.99340327])}\n",
      "./Training\\9_BOS_LeftLowerLimb\\rawData_Day1_l.csv\n",
      "2704503\n",
      "2704503\n",
      "{'fit_time': array([67.45607448, 68.36192799, 66.65881395, 65.99086809, 69.9596467 ]), 'score_time': array([1.30147719, 1.21541429, 1.30293584, 1.28236461, 1.23481178]), 'test_score': array([0.98228511, 0.98184696, 0.98226293, 0.98173415, 0.98242189])}\n"
     ]
    },
    {
     "name": "stderr",
     "output_type": "stream",
     "text": [
      "C:\\Users\\svetl\\AppData\\Local\\Continuum\\anaconda3\\lib\\site-packages\\IPython\\core\\interactiveshell.py:3058: DtypeWarning: Columns (2,3,4,5) have mixed types. Specify dtype option on import or set low_memory=False.\n",
      "  interactivity=interactivity, compiler=compiler, result=result)\n"
     ]
    },
    {
     "name": "stdout",
     "output_type": "stream",
     "text": [
      "./Training\\9_BOS_LeftLowerLimb\\rawData_Day4_l.csv\n",
      "2251728\n",
      "2251728\n",
      "{'fit_time': array([48.8401227 , 47.06490207, 49.4425869 , 51.4289453 , 48.04434848]), 'score_time': array([0.99600744, 0.98374271, 1.09697199, 1.06909704, 1.03485346]), 'test_score': array([0.97626048, 0.97643812, 0.97657357, 0.9764958 , 0.97631372])}\n"
     ]
    }
   ],
   "source": [
    "from sklearn.ensemble import RandomForestClassifier\n",
    "from sklearn.model_selection import cross_validate\n",
    "from sklearn.metrics import confusion_matrix\n",
    "\n",
    "classifier = RandomForestClassifier(n_estimators=30, max_depth=10)\n",
    "for data_file in file_names:\n",
    "    training_dataframe = pd.read_csv(data_file)\n",
    "    print(data_file)\n",
    "    X_train, Y_train = generate_data_samples(training_dataframe, ['leftAnkle_X', 'leftAnkle_Y','leftAnkle_Z'], 'Dysk_Score', 128)\n",
    "    Y_train = Y_train.reshape(-1)\n",
    "    print(len(X_train))\n",
    "    print(len(Y_train))\n",
    "    classifier.fit(X_train, Y_train)\n",
    "    scoring = 'accuracy'\n",
    "    score_RandomForest = cross_validate(classifier, X_train, Y_train, cv=k_fold, n_jobs=1, scoring=scoring)\n",
    "    print(score_RandomForest)\n",
    "    #model.fit(x=X_train, y=Y_train, epochs=5,class_weight=class_weight)\n",
    "    "
   ]
  },
  {
   "cell_type": "code",
   "execution_count": null,
   "metadata": {},
   "outputs": [],
   "source": []
  },
  {
   "cell_type": "code",
   "execution_count": 8,
   "metadata": {},
   "outputs": [
    {
     "name": "stderr",
     "output_type": "stream",
     "text": [
      "C:\\Users\\svetl\\AppData\\Local\\Continuum\\anaconda3\\lib\\site-packages\\ipykernel_launcher.py:2: DataConversionWarning: A column-vector y was passed when a 1d array was expected. Please change the shape of y to (n_samples,), for example using ravel().\n",
      "  \n",
      "C:\\Users\\svetl\\AppData\\Local\\Continuum\\anaconda3\\lib\\site-packages\\sklearn\\model_selection\\_validation.py:598: DataConversionWarning: A column-vector y was passed when a 1d array was expected. Please change the shape of y to (n_samples,), for example using ravel().\n",
      "  estimator.fit(X_train, y_train, **fit_params)\n",
      "C:\\Users\\svetl\\AppData\\Local\\Continuum\\anaconda3\\lib\\site-packages\\sklearn\\model_selection\\_validation.py:598: DataConversionWarning: A column-vector y was passed when a 1d array was expected. Please change the shape of y to (n_samples,), for example using ravel().\n",
      "  estimator.fit(X_train, y_train, **fit_params)\n",
      "C:\\Users\\svetl\\AppData\\Local\\Continuum\\anaconda3\\lib\\site-packages\\sklearn\\model_selection\\_validation.py:598: DataConversionWarning: A column-vector y was passed when a 1d array was expected. Please change the shape of y to (n_samples,), for example using ravel().\n",
      "  estimator.fit(X_train, y_train, **fit_params)\n",
      "C:\\Users\\svetl\\AppData\\Local\\Continuum\\anaconda3\\lib\\site-packages\\sklearn\\model_selection\\_validation.py:598: DataConversionWarning: A column-vector y was passed when a 1d array was expected. Please change the shape of y to (n_samples,), for example using ravel().\n",
      "  estimator.fit(X_train, y_train, **fit_params)\n",
      "C:\\Users\\svetl\\AppData\\Local\\Continuum\\anaconda3\\lib\\site-packages\\sklearn\\model_selection\\_validation.py:598: DataConversionWarning: A column-vector y was passed when a 1d array was expected. Please change the shape of y to (n_samples,), for example using ravel().\n",
      "  estimator.fit(X_train, y_train, **fit_params)\n"
     ]
    },
    {
     "name": "stdout",
     "output_type": "stream",
     "text": [
      "[0.97282359 0.97370142 0.97353392 0.97357428 0.97348145]\n"
     ]
    }
   ],
   "source": [
    "from sklearn.ensemble import RandomForestClassifier\n",
    "classifier = RandomForestClassifier(n_estimators=30, max_depth=10).fit(X_train, Y_train)\n",
    "\n",
    "scoring = 'accuracy'\n",
    "score_RandomForest = cross_val_score(classifier, X_train, Y_train, cv=k_fold, n_jobs=1, scoring=scoring)\n",
    "print(score_RandomForest)"
   ]
  },
  {
   "cell_type": "code",
   "execution_count": null,
   "metadata": {},
   "outputs": [],
   "source": [
    "file_names = [\"./Training/3_BOS_LeftLowerLimb/rawData_Day1_l.csv\", \"./Training/3_BOS_LeftLowerLimb/rawData_Day4_l.csv\"]"
   ]
  },
  {
   "cell_type": "markdown",
   "metadata": {},
   "source": [
    "Merge Patient 10_BOS data for days 1 and 4 to create a single dataframe that will be used for validation."
   ]
  },
  {
   "cell_type": "code",
   "execution_count": null,
   "metadata": {},
   "outputs": [],
   "source": [
    "traindata_day1 = pd.read_csv(\"./Training/10_BOS_LeftLowerLimb/rawData_Day1_l.csv\")\n",
    "traindata_day1.head()\n",
    "traindata_day4 = pd.read_csv(\"./Training/10_BOS_LeftLowerLimb/rawData_Day4_l.csv\")\n",
    "traindata_day4.head()\n",
    "trainingdata = pd.concat([traindata_day1, traindata_day4], ignore_index=True)\n",
    "#X_train, Y_train = generate_data_samples(trainingdata, ['leftAnkle_X', 'leftAnkle_Y','leftAnkle_Z'], 'Dysk_Score', 128)\n",
    "print(len(trainingdata))\n",
    "#trainingdata.shape\n",
    "X_train = trainingdata[ ['leftAnkle_X', 'leftAnkle_Y','leftAnkle_Z'] ] #create a dataframe for 3 axel readings\n",
    "Y_train = trainingdata['Dysk_Score'] # create a dataframe for the labels\n",
    "X_train = X_train.to_numpy()\n",
    "Y_train = Y_train.to_numpy()\n",
    "X_train = X_train.astype(np.float64)\n",
    "#print(X_train[:10])\n",
    "#print(Y_train[:10])\n",
    "#print(len(training_labels))"
   ]
  },
  {
   "cell_type": "code",
   "execution_count": null,
   "metadata": {},
   "outputs": [],
   "source": [
    "X_train = np.nan_to_num(X_train)\n",
    "print(X_train[:10])\n",
    "np.where(np.isnan(X_train))"
   ]
  },
  {
   "cell_type": "code",
   "execution_count": null,
   "metadata": {},
   "outputs": [],
   "source": [
    "Y_train.shape"
   ]
  },
  {
   "cell_type": "code",
   "execution_count": 10,
   "metadata": {},
   "outputs": [
    {
     "name": "stderr",
     "output_type": "stream",
     "text": [
      "C:\\Users\\svetl\\AppData\\Local\\Continuum\\anaconda3\\lib\\site-packages\\IPython\\core\\interactiveshell.py:3058: DtypeWarning: Columns (2,3,4,5) have mixed types. Specify dtype option on import or set low_memory=False.\n",
      "  interactivity=interactivity, compiler=compiler, result=result)\n"
     ]
    },
    {
     "data": {
      "text/html": [
       "<div>\n",
       "<style scoped>\n",
       "    .dataframe tbody tr th:only-of-type {\n",
       "        vertical-align: middle;\n",
       "    }\n",
       "\n",
       "    .dataframe tbody tr th {\n",
       "        vertical-align: top;\n",
       "    }\n",
       "\n",
       "    .dataframe thead th {\n",
       "        text-align: right;\n",
       "    }\n",
       "</style>\n",
       "<table border=\"1\" class=\"dataframe\">\n",
       "  <thead>\n",
       "    <tr style=\"text-align: right;\">\n",
       "      <th></th>\n",
       "      <th>Unnamed: 0</th>\n",
       "      <th>timestamp</th>\n",
       "      <th>leftAnkle_X</th>\n",
       "      <th>leftAnkle_Y</th>\n",
       "      <th>leftAnkle_Z</th>\n",
       "      <th>leftAnkle_Magnitude</th>\n",
       "      <th>Dysk_Score</th>\n",
       "    </tr>\n",
       "  </thead>\n",
       "  <tbody>\n",
       "    <tr>\n",
       "      <td>0</td>\n",
       "      <td>0</td>\n",
       "      <td>1.431424e+09</td>\n",
       "      <td>-0.15686</td>\n",
       "      <td>0</td>\n",
       "      <td>10.1961</td>\n",
       "      <td>10.1973</td>\n",
       "      <td>0</td>\n",
       "    </tr>\n",
       "    <tr>\n",
       "      <td>1</td>\n",
       "      <td>1</td>\n",
       "      <td>1.431424e+09</td>\n",
       "      <td>0</td>\n",
       "      <td>-0.31372</td>\n",
       "      <td>10.1961</td>\n",
       "      <td>10.2009</td>\n",
       "      <td>0</td>\n",
       "    </tr>\n",
       "    <tr>\n",
       "      <td>2</td>\n",
       "      <td>2</td>\n",
       "      <td>1.431424e+09</td>\n",
       "      <td>0</td>\n",
       "      <td>-0.31372</td>\n",
       "      <td>10.0392</td>\n",
       "      <td>10.0441</td>\n",
       "      <td>0</td>\n",
       "    </tr>\n",
       "    <tr>\n",
       "      <td>3</td>\n",
       "      <td>3</td>\n",
       "      <td>1.431424e+09</td>\n",
       "      <td>-0</td>\n",
       "      <td>-0.31373</td>\n",
       "      <td>10.0392</td>\n",
       "      <td>10.0441</td>\n",
       "      <td>0</td>\n",
       "    </tr>\n",
       "    <tr>\n",
       "      <td>4</td>\n",
       "      <td>4</td>\n",
       "      <td>1.431424e+09</td>\n",
       "      <td>-0.15687</td>\n",
       "      <td>-0.31372</td>\n",
       "      <td>10.1961</td>\n",
       "      <td>10.2021</td>\n",
       "      <td>0</td>\n",
       "    </tr>\n",
       "  </tbody>\n",
       "</table>\n",
       "</div>"
      ],
      "text/plain": [
       "   Unnamed: 0     timestamp leftAnkle_X leftAnkle_Y leftAnkle_Z  \\\n",
       "0           0  1.431424e+09    -0.15686           0     10.1961   \n",
       "1           1  1.431424e+09           0    -0.31372     10.1961   \n",
       "2           2  1.431424e+09           0    -0.31372     10.0392   \n",
       "3           3  1.431424e+09          -0    -0.31373     10.0392   \n",
       "4           4  1.431424e+09    -0.15687    -0.31372     10.1961   \n",
       "\n",
       "  leftAnkle_Magnitude  Dysk_Score  \n",
       "0             10.1973           0  \n",
       "1             10.2009           0  \n",
       "2             10.0441           0  \n",
       "3             10.0441           0  \n",
       "4             10.2021           0  "
      ]
     },
     "execution_count": 10,
     "metadata": {},
     "output_type": "execute_result"
    }
   ],
   "source": [
    "valdata_day1 = pd.read_csv(\"./12_BOS_LeftLowerLimb/rawData_Day1_l.csv\")\n",
    "valdata_day4 = pd.read_csv(\"./12_BOS_LeftLowerLimb/rawData_Day4_l.csv\")\n",
    "valdata_day1.head()"
   ]
  },
  {
   "cell_type": "markdown",
   "metadata": {},
   "source": [
    "Merge Patient 17_BOS data for days 1 and 4 to create a single dataframe that will be used for validation."
   ]
  },
  {
   "cell_type": "code",
   "execution_count": null,
   "metadata": {},
   "outputs": [],
   "source": [
    "valdata = pd.concat([valdata_day1, valdata_day4], ignore_index=True)\n",
    "#X_val, Y_val = generate_data_samples(valdata, ['leftAnkle_X', 'leftAnkle_Y','leftAnkle_Z'], 'Dysk_Score', 128)\n",
    "X_val = valdata[ ['leftAnkle_X', 'leftAnkle_Y','leftAnkle_Z'] ] #create a dataframe for 3 axel readings\n",
    "Y_val = valdata['Dysk_Score'] # create a dataframe for the labels\n",
    "X_val = X_val.to_numpy()\n",
    "Y_val = Y_val.to_numpy()\n",
    "X_val = X_val.astype(np.float64)\n",
    "X_val = np.nan_to_num(X_train)\n",
    "print(X_val[:10])\n",
    "np.where(np.isnan(X_val))\n",
    "#print(X)\n",
    "#print(Y)\n",
    "\n",
    "print(len(valdata))"
   ]
  },
  {
   "cell_type": "code",
   "execution_count": 15,
   "metadata": {},
   "outputs": [
    {
     "name": "stderr",
     "output_type": "stream",
     "text": [
      "C:\\Users\\svetl\\AppData\\Local\\Continuum\\anaconda3\\lib\\site-packages\\IPython\\core\\interactiveshell.py:3058: DtypeWarning: Columns (2,3,4,5) have mixed types. Specify dtype option on import or set low_memory=False.\n",
      "  interactivity=interactivity, compiler=compiler, result=result)\n"
     ]
    },
    {
     "name": "stdout",
     "output_type": "stream",
     "text": [
      "[[ 0.      -0.47059 10.19608]\n",
      " [-0.15686 -0.15686 10.19608]\n",
      " [-0.      -0.31372 10.19608]\n",
      " [-0.15686 -0.15686 10.19608]\n",
      " [-0.31372 -0.15686 10.19608]\n",
      " [-0.31373 -0.15686 10.03922]\n",
      " [-0.15687 -0.15686 10.03921]\n",
      " [-0.15686 -0.31373 10.19608]\n",
      " [-0.15686 -0.15687 10.03922]\n",
      " [-0.15686 -0.15686 10.19607]]\n",
      "[0 0 0 0 0 0 0 0 0 0]\n"
     ]
    }
   ],
   "source": [
    "testdata_11_day1 = pd.read_csv(\"./11_BOS_LeftLowerLimb/rawData_Day1_l.csv\")\n",
    "testdata_11_day4 = pd.read_csv(\"./11_BOS_LeftLowerLimb/rawData_Day4_l.csv\")\n",
    "testdata_18_day1 = pd.read_csv(\"./18_BOS_LeftLowerLimb/rawData_Day1_l.csv\")\n",
    "testdata_18_day4 = pd.read_csv(\"./18_BOS_LeftLowerLimb/rawData_Day4_l.csv\")\n",
    "testdata = pd.concat([testdata_11_day1, testdata_11_day4, testdata_18_day1, testdata_18_day4], ignore_index=True)\n",
    "testdata.head()\n",
    "X_test = testdata[ ['leftAnkle_X', 'leftAnkle_Y','leftAnkle_Z'] ] #create a dataframe for 3 axel readings\n",
    "Y_test = testdata['Dysk_Score'] # create a dataframe for the labels\n",
    "X_test = X_test.to_numpy()\n",
    "Y_test = Y_test.to_numpy()\n",
    "X_test = X_test.astype(np.float64)\n",
    "X_test = np.nan_to_num(X_test)\n",
    "Y_test = np.nan_to_num(Y_test)\n",
    "Y_test = Y_test.reshape(-1)\n",
    "print(X_test[:10])\n",
    "print(Y_test[:10])"
   ]
  },
  {
   "cell_type": "code",
   "execution_count": 17,
   "metadata": {},
   "outputs": [
    {
     "name": "stdout",
     "output_type": "stream",
     "text": [
      "Accuracy: 0.969867592434324\n"
     ]
    }
   ],
   "source": [
    "Y_pred = classifier.predict(X_test)\n",
    "print(\"Accuracy:\", accuracy_score(Y_test, Y_pred))"
   ]
  },
  {
   "cell_type": "code",
   "execution_count": 19,
   "metadata": {},
   "outputs": [
    {
     "name": "stdout",
     "output_type": "stream",
     "text": [
      "Precision: 0.969867592434324\n",
      "Recall: 0.969867592434324\n",
      "f1_score: 0.969867592434324\n",
      "roc_auc: 0.969867592434324\n"
     ]
    }
   ],
   "source": [
    "print(\"Precision:\", accuracy_score(Y_test, Y_pred))\n",
    "print(\"Recall:\", accuracy_score(Y_test, Y_pred))\n",
    "print(\"f1_score:\", accuracy_score(Y_test, Y_pred))\n",
    "print(\"roc_auc:\", accuracy_score(Y_test, Y_pred))"
   ]
  },
  {
   "cell_type": "code",
   "execution_count": 20,
   "metadata": {},
   "outputs": [
    {
     "data": {
      "text/plain": [
       "array([[[      0,  298200],\n",
       "        [   1837, 9657249]],\n",
       "\n",
       "       [[9749399,    1837],\n",
       "        [ 206050,       0]],\n",
       "\n",
       "       [[9884686,       0],\n",
       "        [  72600,       0]],\n",
       "\n",
       "       [[9938986,       0],\n",
       "        [  18300,       0]],\n",
       "\n",
       "       [[9956036,       0],\n",
       "        [   1250,       0]]], dtype=int64)"
      ]
     },
     "execution_count": 20,
     "metadata": {},
     "output_type": "execute_result"
    }
   ],
   "source": [
    "from sklearn.metrics import multilabel_confusion_matrix\n",
    "mcm = multilabel_confusion_matrix(Y_test, Y_pred)\n",
    "tn = mcm[:, 0, 0]\n",
    "tp = mcm[:, 1, 1]\n",
    "fn = mcm[:, 1, 0]\n",
    "fp = mcm[:, 0, 1]\n",
    "tp / (tp + fn)"
   ]
  },
  {
   "cell_type": "code",
   "execution_count": 23,
   "metadata": {},
   "outputs": [
    {
     "data": {
      "text/plain": [
       "array([0.        , 0.99981161, 1.        , 1.        , 1.        ])"
      ]
     },
     "execution_count": 23,
     "metadata": {},
     "output_type": "execute_result"
    }
   ],
   "source": [
    "#Calculate Recall, or Sensitivity for each class\n",
    "mcm = multilabel_confusion_matrix(Y_test, Y_pred)\n",
    "tn = mcm[:, 0, 0]\n",
    "tp = mcm[:, 1, 1]\n",
    "fn = mcm[:, 1, 0]\n",
    "fp = mcm[:, 0, 1]\n",
    "tp / (tp + fn)\n",
    "#Calculate specificity for each class:\n",
    "tn / (tn + fp)"
   ]
  },
  {
   "cell_type": "code",
   "execution_count": 21,
   "metadata": {},
   "outputs": [
    {
     "name": "stderr",
     "output_type": "stream",
     "text": [
      "C:\\Users\\svetl\\AppData\\Local\\Continuum\\anaconda3\\lib\\site-packages\\sklearn\\metrics\\_classification.py:1248: UndefinedMetricWarning: Precision and F-score are ill-defined and being set to 0.0 in labels with no predicted samples. Use `zero_division` parameter to control this behavior.\n",
      "  _warn_prf(average, modifier, msg_start, len(result))\n",
      "C:\\Users\\svetl\\AppData\\Local\\Continuum\\anaconda3\\lib\\site-packages\\sklearn\\metrics\\_classification.py:1248: UndefinedMetricWarning: Precision and F-score are ill-defined and being set to 0.0 in labels with no predicted samples. Use `zero_division` parameter to control this behavior.\n",
      "  _warn_prf(average, modifier, msg_start, len(result))\n"
     ]
    },
    {
     "name": "stdout",
     "output_type": "stream",
     "text": [
      "              precision    recall  f1-score   support\n",
      "\n",
      "     class 0       0.97      1.00      0.98   9659086\n",
      "     class 1       0.00      0.00      0.00    206050\n",
      "     class 2       0.00      0.00      0.00     72600\n",
      "     class 3       0.00      0.00      0.00     18300\n",
      "     class 4       0.00      0.00      0.00      1250\n",
      "\n",
      "    accuracy                           0.97   9957286\n",
      "   macro avg       0.19      0.20      0.20   9957286\n",
      "weighted avg       0.94      0.97      0.96   9957286\n",
      "\n"
     ]
    },
    {
     "name": "stderr",
     "output_type": "stream",
     "text": [
      "C:\\Users\\svetl\\AppData\\Local\\Continuum\\anaconda3\\lib\\site-packages\\sklearn\\metrics\\_classification.py:1248: UndefinedMetricWarning: Precision and F-score are ill-defined and being set to 0.0 in labels with no predicted samples. Use `zero_division` parameter to control this behavior.\n",
      "  _warn_prf(average, modifier, msg_start, len(result))\n"
     ]
    }
   ],
   "source": [
    "from sklearn.metrics import classification_report\n",
    "target_names = ['class 0', 'class 1', 'class 2', 'class 3', 'class 4']\n",
    "print(classification_report(Y_test, Y_pred, target_names=target_names))"
   ]
  },
  {
   "cell_type": "code",
   "execution_count": 25,
   "metadata": {},
   "outputs": [
    {
     "data": {
      "text/plain": [
       "['RandomForest.joblib']"
      ]
     },
     "execution_count": 25,
     "metadata": {},
     "output_type": "execute_result"
    }
   ],
   "source": [
    "from joblib import dump, load\n",
    "dump(classifier, 'RandomForest.joblib') "
   ]
  },
  {
   "cell_type": "code",
   "execution_count": 28,
   "metadata": {},
   "outputs": [
    {
     "data": {
      "text/plain": [
       "['RandomForest2.joblib']"
      ]
     },
     "execution_count": 28,
     "metadata": {},
     "output_type": "execute_result"
    }
   ],
   "source": [
    "#or it is also possible to save it via pickle.dumps - same size; the joblib is supposed to be a more efficient way\n",
    "import pickle\n",
    "s = pickle.dumps(classifier)\n",
    "classifier2 = pickle.loads(s)\n",
    "dump(classifier2, 'RandomForest2.joblib') "
   ]
  },
  {
   "cell_type": "code",
   "execution_count": null,
   "metadata": {},
   "outputs": [],
   "source": [
    "#to load the model back: \n",
    "classifier = load('RandomForest.joblib')"
   ]
  },
  {
   "cell_type": "code",
   "execution_count": 4,
   "metadata": {},
   "outputs": [
    {
     "name": "stdout",
     "output_type": "stream",
     "text": [
      "Collecting micromlgen\n",
      "  Downloading https://files.pythonhosted.org/packages/b7/a9/fcbd395324fa556992a9250e61461e40c2b7ac5031b40e1fc7ab22ec561e/micromlgen-1.1.23.tar.gz\n",
      "Requirement already satisfied: jinja2 in c:\\users\\svetl\\appdata\\local\\continuum\\anaconda3\\lib\\site-packages (from micromlgen) (2.10.3)\n",
      "Requirement already satisfied: MarkupSafe>=0.23 in c:\\users\\svetl\\appdata\\local\\continuum\\anaconda3\\lib\\site-packages (from jinja2->micromlgen) (1.1.1)\n",
      "Building wheels for collected packages: micromlgen\n",
      "  Building wheel for micromlgen (setup.py): started\n",
      "  Building wheel for micromlgen (setup.py): finished with status 'done'\n",
      "  Created wheel for micromlgen: filename=micromlgen-1.1.23-cp37-none-any.whl size=29095 sha256=8aeb7936861bf3af39ac586e39b8edaf07499007416550612b5f7e3af5a39d2d\n",
      "  Stored in directory: C:\\Users\\svetl\\AppData\\Local\\pip\\Cache\\wheels\\18\\8a\\f0\\bc837db55f7e6159d94de85c7e3b3dd78db19109f4de268f5f\n",
      "Successfully built micromlgen\n",
      "Installing collected packages: micromlgen\n",
      "Successfully installed micromlgen-1.1.23\n",
      "Note: you may need to restart the kernel to use updated packages.\n"
     ]
    }
   ],
   "source": [
    "pip install micromlgen"
   ]
  },
  {
   "cell_type": "code",
   "execution_count": 24,
   "metadata": {},
   "outputs": [],
   "source": [
    "from micromlgen import port"
   ]
  },
  {
   "cell_type": "code",
   "execution_count": null,
   "metadata": {},
   "outputs": [],
   "source": [
    "c_code = port(classifier, classmap=classmap)\n",
    "print(c_code)"
   ]
  },
  {
   "cell_type": "code",
   "execution_count": null,
   "metadata": {},
   "outputs": [],
   "source": []
  }
 ],
 "metadata": {
  "kernelspec": {
   "display_name": "Python 3",
   "language": "python",
   "name": "python3"
  },
  "language_info": {
   "codemirror_mode": {
    "name": "ipython",
    "version": 3
   },
   "file_extension": ".py",
   "mimetype": "text/x-python",
   "name": "python",
   "nbconvert_exporter": "python",
   "pygments_lexer": "ipython3",
   "version": "3.7.4"
  }
 },
 "nbformat": 4,
 "nbformat_minor": 2
}
