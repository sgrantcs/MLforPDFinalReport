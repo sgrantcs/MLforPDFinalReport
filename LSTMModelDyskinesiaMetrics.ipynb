{
 "cells": [
  {
   "cell_type": "code",
   "execution_count": 1,
   "metadata": {},
   "outputs": [],
   "source": [
    "import matplotlib.pyplot as plt\n",
    "import numpy as np\n",
    "import pandas as pd\n",
    "import tensorflow as tf\n",
    "#import keras\n",
    "\n",
    "import statistics\n",
    "\n",
    "from sklearn.metrics import accuracy_score, precision_score, recall_score, roc_curve, auc\n",
    "from sklearn.model_selection import train_test_split\n",
    "from tensorflow.keras import layers, losses, metrics\n",
    "from tensorflow.keras.models import Model\n"
   ]
  },
  {
   "cell_type": "code",
   "execution_count": 2,
   "metadata": {},
   "outputs": [
    {
     "data": {
      "text/plain": [
       "<contextlib._GeneratorContextManager at 0x252e88066c8>"
      ]
     },
     "execution_count": 2,
     "metadata": {},
     "output_type": "execute_result"
    }
   ],
   "source": [
    "tf.config.run_functions_eagerly(False)\n",
    "\n",
    "tf.keras.backend.clear_session()\n",
    "sess = tf.compat.v1.Session()\n",
    "sess.as_default()"
   ]
  },
  {
   "cell_type": "code",
   "execution_count": 3,
   "metadata": {},
   "outputs": [],
   "source": [
    "def my_mode( input_data ):\n",
    "\n",
    "    freq_count = dict() \n",
    "\n",
    "    for d in input_data: \n",
    "        if ( d in freq_count ):\n",
    "            freq_count[d] += 1 \n",
    "        else: \n",
    "            freq_count[d] = 1 \n",
    "\n",
    "    max_count = 0 \n",
    "    mode_value = None \n",
    "\n",
    "    for k,v in freq_count.items():\n",
    "        if ( v > max_count ):\n",
    "            mode_value = k \n",
    "            max_count = v\n",
    "\n",
    "    return mode_value ; "
   ]
  },
  {
   "cell_type": "code",
   "execution_count": 4,
   "metadata": {},
   "outputs": [],
   "source": [
    "def generate_data_samples( input_dataset, x_columns, y_column, sample_size, y_compress_function=my_mode):\n",
    "\n",
    "    y_values = [] \n",
    "\n",
    "    # First take the y series data and apply the compression function to get a single value per sample. \n",
    "    y_series = input_dataset[y_column]; \n",
    "\n",
    "    for i in range(0,len(input_dataset), sample_size): \n",
    "\n",
    "        if ( (i + 128) <= len(y_series)):\n",
    "            value = y_compress_function(y_series[i:i+sample_size])\n",
    "            y_values.append(value)\n",
    "            \n",
    "\n",
    "    # Now truncate the dataset, since we need the rows to be divisible by the sample size. \n",
    "    input_dataset = input_dataset.truncate(after=len(y_values*sample_size)-1)\n",
    "\n",
    "    input_dataset = input_dataset[x_columns]\n",
    "    #input_dataset.fillna(0)\n",
    "    #input_dataset.replace(np.nan, 0)\n",
    "    np_x_values = input_dataset.to_numpy()\n",
    "    np_x_values = np_x_values.astype(np.float32)\n",
    "    np_x_values = np.nan_to_num(np_x_values, 0)\n",
    "    \n",
    "    #Regularize the data \n",
    "    np_x_values.shape\n",
    " \n",
    "    np_x_values = np_x_values.reshape(-1, sample_size, np_x_values.shape[1] )\n",
    "    #np_x_values = np_x_values.reshape(np_x_values.shape[0], np_x_values.shape[1], np_x_values.shape[2], 1) \n",
    "    \n",
    "    np_y_values = np.array(y_values); \n",
    "    #np_y_values = np_y_values.reshape(np_y_values.shape[0], 1)\n",
    "\n",
    "    return np_x_values.astype(np.float32), np_y_values.astype(np.int32) "
   ]
  },
  {
   "cell_type": "code",
   "execution_count": 5,
   "metadata": {},
   "outputs": [],
   "source": [
    "def getFileList(rootFolder, searchExp = None):\n",
    "\n",
    "    filesFound = [] \n",
    "\n",
    "    for root, subdirs, files in os.walk(rootFolder): \n",
    "        for fileName in files :\n",
    "            if ( (searchExp is None) or re.search(searchExp, fileName) ):\n",
    "                filesFound.append(os.path.join(root,fileName)) \n",
    "    return filesFound"
   ]
  },
  {
   "cell_type": "code",
   "execution_count": 6,
   "metadata": {},
   "outputs": [
    {
     "name": "stdout",
     "output_type": "stream",
     "text": [
      "['./Training\\\\10_BOS_LeftLowerLimb\\\\rawData_Day1_l.csv', './Training\\\\10_BOS_LeftLowerLimb\\\\rawData_Day4_l.csv', './Training\\\\13_BOS_LeftLowerLimb\\\\rawData_Day1_l.csv', './Training\\\\13_BOS_LeftLowerLimb\\\\rawData_Day4_l.csv', './Training\\\\15_BOS_LeftLowerLimb\\\\rawData_Day1_l.csv', './Training\\\\15_BOS_LeftLowerLimb\\\\rawData_Day4_l.csv', './Training\\\\16_BOS_LeftLowerLimb\\\\rawData_Day1_l.csv', './Training\\\\16_BOS_LeftLowerLimb\\\\rawData_Day4_l.csv', './Training\\\\17_BOS_LeftLowerLimb\\\\rawData_Day1_l.csv', './Training\\\\17_BOS_LeftLowerLimb\\\\rawData_Day4_l.csv', './Training\\\\3_BOS_LeftLowerLimb\\\\rawData_Day1_l.csv', './Training\\\\3_BOS_LeftLowerLimb\\\\rawData_Day4_l.csv', './Training\\\\4_BOS_LeftLowerLimb\\\\rawData_Day1_l.csv', './Training\\\\4_BOS_LeftLowerLimb\\\\rawData_Day4_l.csv', './Training\\\\5_BOS_LeftLowerLimb\\\\rawData_Day1_l.csv', './Training\\\\5_BOS_LeftLowerLimb\\\\rawData_Day4_l.csv', './Training\\\\6_BOS_LeftLowerLimb\\\\rawData_Day1_l.csv', './Training\\\\6_BOS_LeftLowerLimb\\\\rawData_Day4_l.csv', './Training\\\\7_BOS_LeftLowerLimb\\\\rawData_Day1_l.csv', './Training\\\\7_BOS_LeftLowerLimb\\\\rawData_Day4_l.csv', './Training\\\\8_BOS_LeftLowerLimb\\\\rawData_Day1_l.csv', './Training\\\\8_BOS_LeftLowerLimb\\\\rawData_Day4_l.csv', './Training\\\\9_BOS_LeftLowerLimb\\\\rawData_Day1_l.csv', './Training\\\\9_BOS_LeftLowerLimb\\\\rawData_Day4_l.csv']\n"
     ]
    }
   ],
   "source": [
    "import os\n",
    "import re\n",
    "file_names = getFileList('./Training', searchExp = \"rawData.*l.csv\")\n",
    "print(file_names)"
   ]
  },
  {
   "cell_type": "code",
   "execution_count": 13,
   "metadata": {},
   "outputs": [],
   "source": [
    "traindata_day1 = pd.read_csv(\"./12_BOS_LeftLowerLimb/rawData_Day1_l.csv\")\n",
    "#traindata_day1.head()\n",
    "traindata_day4 = pd.read_csv(\"./12_BOS_LeftLowerLimb/rawData_Day4_l.csv\")\n",
    "#traindata_day4.head()\n"
   ]
  },
  {
   "cell_type": "code",
   "execution_count": 14,
   "metadata": {},
   "outputs": [
    {
     "data": {
      "text/plain": [
       "Unnamed: 0               int64\n",
       "timestamp              float64\n",
       "leftAnkle_X             object\n",
       "leftAnkle_Y             object\n",
       "leftAnkle_Z             object\n",
       "leftAnkle_Magnitude     object\n",
       "Dysk_Score               int64\n",
       "dtype: object"
      ]
     },
     "execution_count": 14,
     "metadata": {},
     "output_type": "execute_result"
    }
   ],
   "source": [
    "traindata_day1.dtypes"
   ]
  },
  {
   "cell_type": "markdown",
   "metadata": {},
   "source": [
    "Merge Patient 10_BOS data for days 1 and 4 to create a single dataframe that will be used for validation."
   ]
  },
  {
   "cell_type": "code",
   "execution_count": null,
   "metadata": {},
   "outputs": [],
   "source": [
    "trainingdata = pd.concat([traindata_day1, traindata_day4], ignore_index=True)\n",
    "X_train, Y_train = generate_data_samples(trainingdata, ['leftAnkle_X', 'leftAnkle_Y','leftAnkle_Z'], 'Dysk_Score', 128)\n",
    "#print(X_train[0:10])\n",
    "#print(Y_train[0:10])\n",
    "print(len(trainingdata))\n",
    "X_train.shape\n",
    "Y_train.shape\n",
    "#training_data = trainingdata[ ['leftAnkle_X', 'leftAnkle_Y','leftAnkle_Z'] ] #create a dataframe for 3 axel readings\n",
    "#training_labels = trainingdata['Dysk_Score'] # create a dataframe for the labels\n",
    "#print(len(training_labels))"
   ]
  },
  {
   "cell_type": "code",
   "execution_count": null,
   "metadata": {},
   "outputs": [],
   "source": [
    "class_data0 = trainingdata[(trainingdata.Dysk_Score == 0)]\n",
    "class_data1 = trainingdata[(trainingdata.Dysk_Score == 1)]\n",
    "class_data2 = trainingdata[(trainingdata.Dysk_Score == 2)]\n",
    "class_data3 = trainingdata[(trainingdata.Dysk_Score == 3)]\n",
    "class_data4 = trainingdata[(trainingdata.Dysk_Score == 4)]\n",
    "\n",
    "print(len(class_data0))\n",
    "print(len(class_data1))\n",
    "print(len(class_data2))\n",
    "print(len(class_data3))\n",
    "print(len(class_data4))\n",
    "#print(len(class_data1)/len(Y_train))"
   ]
  },
  {
   "cell_type": "code",
   "execution_count": null,
   "metadata": {},
   "outputs": [],
   "source": [
    "print(X_train[0:5])\n",
    "print(Y_train[0:5])"
   ]
  },
  {
   "cell_type": "code",
   "execution_count": 16,
   "metadata": {},
   "outputs": [
    {
     "name": "stdout",
     "output_type": "stream",
     "text": [
      "4937348\n"
     ]
    }
   ],
   "source": [
    "valdata_day1 = pd.read_csv(\"./Training/3_BOS_LeftLowerLimb/rawData_Day1_l.csv\")\n",
    "valdata_day4 = pd.read_csv(\"./Training/3_BOS_LeftLowerLimb/rawData_Day4_l.csv\")\n",
    "#valdata_day1.head()\n",
    "valdata = pd.concat([valdata_day1, valdata_day4], ignore_index=True)\n",
    "X_val, Y_val = generate_data_samples(valdata, ['leftAnkle_X', 'leftAnkle_Y','leftAnkle_Z'], 'Dysk_Score', 128)\n",
    "Y_val = tf.compat.v1.one_hot(Y_val, depth=5)\n",
    "#print(X)\n",
    "#print(Y)\n",
    "print(len(valdata))\n",
    "#print(X_val[0:10])"
   ]
  },
  {
   "cell_type": "code",
   "execution_count": null,
   "metadata": {},
   "outputs": [],
   "source": [
    "#val_class_data0 = valdata[(valdata.Dysk_Score == 0)]\n",
    "val_class_data1 = valdata[(valdata.Dysk_Score == 1)]\n",
    "val_class_data2 = valdata[(valdata.Dysk_Score == 2)]\n",
    "val_class_data3 = valdata[(valdata.Dysk_Score == 3)]\n",
    "val_class_data4 = valdata[(valdata.Dysk_Score == 4)]\n",
    "\n",
    "#print(len(val_class_data0))\n",
    "print(len(val_class_data1))\n",
    "print(len(val_class_data2))\n",
    "print(len(val_class_data3))\n",
    "print(len(val_class_data4))"
   ]
  },
  {
   "cell_type": "code",
   "execution_count": null,
   "metadata": {},
   "outputs": [],
   "source": [
    "valdata.head()\n",
    "print(X_val[0:5])\n",
    "print(Y_val[0:5])"
   ]
  },
  {
   "cell_type": "code",
   "execution_count": null,
   "metadata": {},
   "outputs": [],
   "source": []
  },
  {
   "cell_type": "markdown",
   "metadata": {},
   "source": [
    "Merge Patient 12_BOS data for days 1 and 4 to create a single dataframe that will be used for validation."
   ]
  },
  {
   "cell_type": "code",
   "execution_count": 18,
   "metadata": {},
   "outputs": [
    {
     "data": {
      "text/html": [
       "<div>\n",
       "<style scoped>\n",
       "    .dataframe tbody tr th:only-of-type {\n",
       "        vertical-align: middle;\n",
       "    }\n",
       "\n",
       "    .dataframe tbody tr th {\n",
       "        vertical-align: top;\n",
       "    }\n",
       "\n",
       "    .dataframe thead th {\n",
       "        text-align: right;\n",
       "    }\n",
       "</style>\n",
       "<table border=\"1\" class=\"dataframe\">\n",
       "  <thead>\n",
       "    <tr style=\"text-align: right;\">\n",
       "      <th></th>\n",
       "      <th>Unnamed: 0</th>\n",
       "      <th>timestamp</th>\n",
       "      <th>leftAnkle_X</th>\n",
       "      <th>leftAnkle_Y</th>\n",
       "      <th>leftAnkle_Z</th>\n",
       "      <th>leftAnkle_Magnitude</th>\n",
       "      <th>Dysk_Score</th>\n",
       "    </tr>\n",
       "  </thead>\n",
       "  <tbody>\n",
       "    <tr>\n",
       "      <td>0</td>\n",
       "      <td>0</td>\n",
       "      <td>1.430815e+09</td>\n",
       "      <td>0</td>\n",
       "      <td>-0.47059</td>\n",
       "      <td>10.1961</td>\n",
       "      <td>10.2069</td>\n",
       "      <td>0</td>\n",
       "    </tr>\n",
       "    <tr>\n",
       "      <td>1</td>\n",
       "      <td>1</td>\n",
       "      <td>1.430815e+09</td>\n",
       "      <td>-0.15686</td>\n",
       "      <td>-0.15686</td>\n",
       "      <td>10.1961</td>\n",
       "      <td>10.1985</td>\n",
       "      <td>0</td>\n",
       "    </tr>\n",
       "    <tr>\n",
       "      <td>2</td>\n",
       "      <td>2</td>\n",
       "      <td>1.430815e+09</td>\n",
       "      <td>-0</td>\n",
       "      <td>-0.31372</td>\n",
       "      <td>10.1961</td>\n",
       "      <td>10.2009</td>\n",
       "      <td>0</td>\n",
       "    </tr>\n",
       "    <tr>\n",
       "      <td>3</td>\n",
       "      <td>3</td>\n",
       "      <td>1.430815e+09</td>\n",
       "      <td>-0.15686</td>\n",
       "      <td>-0.15686</td>\n",
       "      <td>10.1961</td>\n",
       "      <td>10.1985</td>\n",
       "      <td>0</td>\n",
       "    </tr>\n",
       "    <tr>\n",
       "      <td>4</td>\n",
       "      <td>4</td>\n",
       "      <td>1.430815e+09</td>\n",
       "      <td>-0.31372</td>\n",
       "      <td>-0.15686</td>\n",
       "      <td>10.1961</td>\n",
       "      <td>10.2021</td>\n",
       "      <td>0</td>\n",
       "    </tr>\n",
       "  </tbody>\n",
       "</table>\n",
       "</div>"
      ],
      "text/plain": [
       "   Unnamed: 0     timestamp leftAnkle_X leftAnkle_Y leftAnkle_Z  \\\n",
       "0           0  1.430815e+09           0    -0.47059     10.1961   \n",
       "1           1  1.430815e+09    -0.15686    -0.15686     10.1961   \n",
       "2           2  1.430815e+09          -0    -0.31372     10.1961   \n",
       "3           3  1.430815e+09    -0.15686    -0.15686     10.1961   \n",
       "4           4  1.430815e+09    -0.31372    -0.15686     10.1961   \n",
       "\n",
       "  leftAnkle_Magnitude  Dysk_Score  \n",
       "0             10.2069           0  \n",
       "1             10.1985           0  \n",
       "2             10.2009           0  \n",
       "3             10.1985           0  \n",
       "4             10.2021           0  "
      ]
     },
     "execution_count": 18,
     "metadata": {},
     "output_type": "execute_result"
    }
   ],
   "source": [
    "testdata_11_day1 = pd.read_csv(\"./11_BOS_LeftLowerLimb/rawData_Day1_l.csv\")\n",
    "testdata_11_day4 = pd.read_csv(\"./11_BOS_LeftLowerLimb/rawData_Day4_l.csv\")\n",
    "testdata_18_day1 = pd.read_csv(\"./18_BOS_LeftLowerLimb/rawData_Day1_l.csv\")\n",
    "testdata_18_day4 = pd.read_csv(\"./18_BOS_LeftLowerLimb/rawData_Day4_l.csv\")\n",
    "testdata = pd.concat([testdata_11_day1, testdata_11_day4, testdata_18_day1, testdata_18_day4], ignore_index=True)\n",
    "testdata.head()"
   ]
  },
  {
   "cell_type": "code",
   "execution_count": 19,
   "metadata": {},
   "outputs": [
    {
     "name": "stdout",
     "output_type": "stream",
     "text": [
      "9957286\n",
      "77791\n",
      "77791\n",
      "[[[ 0.000000e+00 -4.705900e-01  1.019608e+01]\n",
      "  [-1.568600e-01 -1.568600e-01  1.019608e+01]\n",
      "  [-0.000000e+00 -3.137200e-01  1.019608e+01]\n",
      "  ...\n",
      "  [-1.456200e-01 -1.537800e-01  1.005991e+01]\n",
      "  [ 8.500000e-03  1.329000e-02  1.034566e+01]\n",
      "  [-3.010000e-03 -1.414000e-02  1.003016e+01]]\n",
      "\n",
      " [[ 3.550000e-03 -1.646400e-01  1.020617e+01]\n",
      "  [-1.135000e-02 -1.538400e-01  1.020715e+01]\n",
      "  [-1.660900e-01 -1.611600e-01  1.034945e+01]\n",
      "  ...\n",
      "  [-8.870000e-03 -2.313000e-02  1.006702e+01]\n",
      "  [-1.639100e-01 -1.711300e-01  1.035517e+01]\n",
      "  [-1.804000e-01 -1.362100e-01  1.020069e+01]]\n",
      "\n",
      " [[-2.908200e-01  1.095000e-02  1.035099e+01]\n",
      "  [ 3.045000e-02 -4.410000e-03  1.018003e+01]\n",
      "  [-2.509000e-02  6.680000e-03  1.020216e+01]\n",
      "  ...\n",
      "  [-1.864600e-01 -4.440000e-02  1.004031e+01]\n",
      "  [-3.323400e-01 -1.548800e-01  1.042913e+01]\n",
      "  [-2.843800e-01 -1.975500e-01  1.046254e+01]]\n",
      "\n",
      " [[-1.464700e-01 -2.597000e-01  1.016658e+01]\n",
      "  [-1.518600e-01 -3.549000e-02  1.020949e+01]\n",
      "  [-1.885000e-01 -2.898000e-01  1.017070e+01]\n",
      "  ...\n",
      "  [-1.024200e-01 -1.444700e-01  1.021856e+01]\n",
      "  [-1.132000e-02 -1.839100e-01  1.019896e+01]\n",
      "  [-2.409600e-01 -5.284000e-02  1.015795e+01]]\n",
      "\n",
      " [[-2.334300e-01  1.059900e-01  1.001564e+01]\n",
      "  [ 2.770000e-03 -1.989600e-01  1.007334e+01]\n",
      "  [-2.207300e-01 -1.424400e-01  1.026046e+01]\n",
      "  ...\n",
      "  [-1.148900e-01 -9.354000e-02  1.007394e+01]\n",
      "  [-3.855000e-02 -1.728000e-02  1.021213e+01]\n",
      "  [-1.315400e-01 -2.510500e-01  1.021023e+01]]]\n",
      "tf.Tensor(\n",
      "[[1. 0. 0. 0. 0.]\n",
      " [1. 0. 0. 0. 0.]\n",
      " [1. 0. 0. 0. 0.]\n",
      " [1. 0. 0. 0. 0.]\n",
      " [1. 0. 0. 0. 0.]], shape=(5, 5), dtype=float32)\n"
     ]
    }
   ],
   "source": [
    "X_test, Y_test = generate_data_samples(testdata, ['leftAnkle_X', 'leftAnkle_Y','leftAnkle_Z'], 'Dysk_Score', 128)\n",
    "Y_test = tf.compat.v1.one_hot(Y_test, depth=5)\n",
    "print(len(testdata))\n",
    "print(len(X_test))\n",
    "print(len(Y_test))\n",
    "print(X_test[0:5])\n",
    "print(Y_test[0:5])"
   ]
  },
  {
   "cell_type": "code",
   "execution_count": null,
   "metadata": {},
   "outputs": [],
   "source": [
    "#test_class_data0 = testdata[(valdata.Dysk_Score == 0)]\n",
    "test_class_data1 = testdata[(testdata.Dysk_Score == 1)]\n",
    "test_class_data2 = testdata[(testdata.Dysk_Score == 2)]\n",
    "test_class_data3 = testdata[(testdata.Dysk_Score == 3)]\n",
    "test_class_data4 = testdata[(testdata.Dysk_Score == 4)]\n",
    "\n",
    "#print(len(val_class_data0))\n",
    "print(len(test_class_data1))\n",
    "print(len(test_class_data2))\n",
    "print(len(test_class_data3))\n",
    "print(len(test_class_data4))"
   ]
  },
  {
   "cell_type": "code",
   "execution_count": null,
   "metadata": {},
   "outputs": [],
   "source": [
    "#testdata.shape\n",
    "print(X_test[0][0])"
   ]
  },
  {
   "cell_type": "markdown",
   "metadata": {},
   "source": [
    "Set up hyperparameters"
   ]
  },
  {
   "cell_type": "code",
   "execution_count": 7,
   "metadata": {},
   "outputs": [],
   "source": [
    "from tensorflow.keras.models import Sequential\n",
    "from tensorflow.keras.layers import LSTM, Dense, Flatten, Conv1D, Conv2D, MaxPooling1D, MaxPooling2D\n",
    "from tensorflow.keras.optimizers import Adam, schedules, SGD"
   ]
  },
  {
   "cell_type": "code",
   "execution_count": 8,
   "metadata": {},
   "outputs": [],
   "source": [
    "class CategoricalTruePositives(tf.keras.metrics.Metric):\n",
    "\n",
    "    def __init__(self, num_classes, #batch_size,\n",
    "                 name=\"categorical_true_positives\", **kwargs):\n",
    "        super(CategoricalTruePositives, self).__init__(name=name, **kwargs)\n",
    "\n",
    "        #self.batch_size = batch_size\n",
    "        self.num_classes = num_classes    \n",
    "\n",
    "        self.cat_true_positives = self.add_weight(name=\"ctp\", initializer=\"zeros\")\n",
    "\n",
    "    def update_state(self, y_true, y_pred, sample_weight=None):     \n",
    "\n",
    "        y_true = tf.keras.backend.argmax(y_true, axis=-1)\n",
    "        y_pred = tf.keras.backend.argmax(y_pred, axis=-1)\n",
    "        y_true = tf.keras.backend.flatten(y_true)\n",
    "\n",
    "        true_poss = tf.keras.backend.sum(tf.keras.backend.cast((tf.keras.backend.equal(y_true, y_pred)), dtype=tf.float32))\n",
    "\n",
    "        self.cat_true_positives.assign_add(true_poss)\n",
    "\n",
    "    def result(self):\n",
    "\n",
    "        return self.cat_true_positives"
   ]
  },
  {
   "cell_type": "code",
   "execution_count": 9,
   "metadata": {},
   "outputs": [],
   "source": [
    "#METRICS = [\n",
    "#  tf.keras.metrics.CategoricalAccuracy(name='acc'),\n",
    "#  CategoricalTruePositives(5),\n",
    "#]\n",
    "\n",
    "METRICS = [\n",
    "    tf.keras.metrics.TruePositives(name='tp'),\n",
    "    tf.keras.metrics.FalsePositives(name='fp'),\n",
    "    tf.keras.metrics.TrueNegatives(name='tn'),\n",
    "    tf.keras.metrics.FalseNegatives(name='fn'),\n",
    "    tf.keras.metrics.Precision(name='precision'),\n",
    "    tf.keras.metrics.Recall(name='recall'),\n",
    "    tf.keras.metrics.CategoricalAccuracy(name='acc'),\n",
    "    tf.keras.metrics.AUC(name='auc'),\n",
    "    #CategoricalTruePositives(5),\n",
    "]"
   ]
  },
  {
   "cell_type": "code",
   "execution_count": 11,
   "metadata": {},
   "outputs": [],
   "source": [
    "#Y_train = tf.compat.v1.one_hot(Y_train, depth=5)\n",
    "#print(Y_train)\n",
    "#labels = tf.compat.v1.one_hot(Y_train, depth=5)\n",
    "#train_dataset = tf.data.Dataset.from_tensor_slices((X_train, Y_train))\n",
    "#train_dataset = train_dataset.shuffle(SHUFFLE_BUFFER_SIZE).batch(BATCH_SIZE)"
   ]
  },
  {
   "cell_type": "code",
   "execution_count": 12,
   "metadata": {},
   "outputs": [],
   "source": [
    "model = tf.keras.Sequential([\n",
    "    tf.keras.layers.LSTM(50, activation=\"relu\", input_shape=(128, 3)),\n",
    "    tf.keras.layers.Dense(units=32, activation='relu'),\n",
    "    tf.keras.layers.Dense(5, activation='softmax')\n",
    "])   "
   ]
  },
  {
   "cell_type": "code",
   "execution_count": 35,
   "metadata": {},
   "outputs": [],
   "source": [
    "model.compile(optimizer=\"adam\",\n",
    "              loss='categorical_crossentropy',\n",
    "              metrics=[METRICS])"
   ]
  },
  {
   "cell_type": "markdown",
   "metadata": {},
   "source": [
    "The model is a classifier with multiple classes. Thus, the fitting includes class weights. In most cases, classes are not perfectly balanced, so this addition takes this into account."
   ]
  },
  {
   "cell_type": "code",
   "execution_count": null,
   "metadata": {},
   "outputs": [],
   "source": [
    "Y_classes = np.unique(Y_train)\n",
    "print(Y_classes)"
   ]
  },
  {
   "cell_type": "code",
   "execution_count": 14,
   "metadata": {},
   "outputs": [],
   "source": [
    "class_weight = {0: 1., 1: 48., 2: 137., 3: 543., 4: 7780.,}"
   ]
  },
  {
   "cell_type": "code",
   "execution_count": null,
   "metadata": {},
   "outputs": [],
   "source": [
    "from tensorflow.keras import backend as K"
   ]
  },
  {
   "cell_type": "code",
   "execution_count": null,
   "metadata": {},
   "outputs": [],
   "source": [
    "model.fit(\n",
    "    x=X_train, y=Y_train, epochs=5)"
   ]
  },
  {
   "cell_type": "code",
   "execution_count": null,
   "metadata": {},
   "outputs": [],
   "source": []
  },
  {
   "cell_type": "code",
   "execution_count": 15,
   "metadata": {},
   "outputs": [
    {
     "name": "stderr",
     "output_type": "stream",
     "text": [
      "C:\\Users\\svetl\\AppData\\Local\\Continuum\\anaconda3\\lib\\site-packages\\IPython\\core\\interactiveshell.py:3058: DtypeWarning: Columns (2,3,4,5) have mixed types. Specify dtype option on import or set low_memory=False.\n",
      "  interactivity=interactivity, compiler=compiler, result=result)\n"
     ]
    },
    {
     "name": "stdout",
     "output_type": "stream",
     "text": [
      "./Training\\10_BOS_LeftLowerLimb\\rawData_Day1_l.csv\n",
      "19874\n",
      "19874\n",
      "WARNING:tensorflow:From C:\\Users\\svetl\\AppData\\Local\\Continuum\\anaconda3\\lib\\site-packages\\tensorflow\\python\\ops\\array_ops.py:5049: calling gather (from tensorflow.python.ops.array_ops) with validate_indices is deprecated and will be removed in a future version.\n",
      "Instructions for updating:\n",
      "The `validate_indices` argument has no effect. Indices are always validated on CPU and never validated on GPU.\n",
      "Epoch 1/5\n",
      "622/622 [==============================] - 24s 33ms/step - loss: 0.5376 - tp: 18921.0000 - fp: 448.0000 - tn: 79048.0000 - fn: 953.0000 - precision: 0.9769 - recall: 0.9520 - acc: 0.9673 - auc: 0.9966\n",
      "Epoch 2/5\n",
      "622/622 [==============================] - 21s 34ms/step - loss: 4140137728.0000 - tp: 18778.0000 - fp: 1048.0000 - tn: 78448.0000 - fn: 1096.0000 - precision: 0.9471 - recall: 0.9449 - acc: 0.9460 - auc: 0.9980\n",
      "Epoch 3/5\n",
      "622/622 [==============================] - 23s 37ms/step - loss: 33370.5898 - tp: 16242.0000 - fp: 3631.0000 - tn: 75865.0000 - fn: 3632.0000 - precision: 0.8173 - recall: 0.8172 - acc: 0.8172 - auc: 0.8981\n",
      "Epoch 4/5\n",
      "622/622 [==============================] - 24s 39ms/step - loss: 16.7768 - tp: 17231.0000 - fp: 2643.0000 - tn: 76853.0000 - fn: 2643.0000 - precision: 0.8670 - recall: 0.8670 - acc: 0.8670 - auc: 0.9487 13s - loss: 16.5072 - tp: 7249.0000 - fp: 1135.0000 - tn: 32401.0000 - fn: 1135.0000 - precision:\n",
      "Epoch 5/5\n",
      "622/622 [==============================] - 25s 40ms/step - loss: 10.5787 - tp: 17383.0000 - fp: 2491.0000 - tn: 77005.0000 - fn: 2491.0000 - precision: 0.8747 - recall: 0.8747 - acc: 0.8747 - auc: 0.9578\n",
      "./Training\\10_BOS_LeftLowerLimb\\rawData_Day4_l.csv\n",
      "16984\n",
      "16984\n",
      "Epoch 1/5\n",
      "531/531 [==============================] - 21s 39ms/step - loss: 499.4719 - tp: 11739.0000 - fp: 5244.0000 - tn: 62692.0000 - fn: 5245.0000 - precision: 0.6912 - recall: 0.6912 - acc: 0.6912 - auc: 0.8266\n",
      "Epoch 2/5\n",
      "531/531 [==============================] - 22s 41ms/step - loss: 93.1414 - tp: 12804.0000 - fp: 4180.0000 - tn: 63756.0000 - fn: 4180.0000 - precision: 0.7539 - recall: 0.7539 - acc: 0.7539 - auc: 0.8568\n",
      "Epoch 3/5\n",
      "531/531 [==============================] - 21s 40ms/step - loss: 161.7670 - tp: 12299.0000 - fp: 4685.0000 - tn: 63251.0000 - fn: 4685.0000 - precision: 0.7242 - recall: 0.7242 - acc: 0.7242 - auc: 0.8366\n",
      "Epoch 4/5\n",
      "531/531 [==============================] - 21s 39ms/step - loss: 227.5988 - tp: 11575.0000 - fp: 5409.0000 - tn: 62527.0000 - fn: 5409.0000 - precision: 0.6815 - recall: 0.6815 - acc: 0.6815 - auc: 0.8070\n",
      "Epoch 5/5\n",
      "531/531 [==============================] - 22s 42ms/step - loss: 109.4110 - tp: 11906.0000 - fp: 5078.0000 - tn: 62858.0000 - fn: 5078.0000 - precision: 0.7010 - recall: 0.7010 - acc: 0.7010 - auc: 0.8203\n",
      "./Training\\13_BOS_LeftLowerLimb\\rawData_Day1_l.csv\n",
      "20582\n",
      "20582\n",
      "Epoch 1/5\n",
      "644/644 [==============================] - 25s 39ms/step - loss: 1193.2604 - tp: 8490.0000 - fp: 12092.0000 - tn: 70236.0000 - fn: 12092.0000 - precision: 0.4125 - recall: 0.4125 - acc: 0.4125 - auc: 0.6355\n",
      "Epoch 2/5\n",
      "644/644 [==============================] - 25s 39ms/step - loss: 284.8593 - tp: 8818.0000 - fp: 11762.0000 - tn: 70566.0000 - fn: 11764.0000 - precision: 0.4285 - recall: 0.4284 - acc: 0.4285 - auc: 0.6473\n",
      "Epoch 3/5\n",
      "644/644 [==============================] - 25s 39ms/step - loss: 322.4964 - tp: 10274.0000 - fp: 10308.0000 - tn: 72020.0000 - fn: 10308.0000 - precision: 0.4992 - recall: 0.4992 - acc: 0.4992 - auc: 0.6915\n",
      "Epoch 4/5\n",
      "644/644 [==============================] - 25s 39ms/step - loss: 217.8120 - tp: 10626.0000 - fp: 9953.0000 - tn: 72375.0000 - fn: 9956.0000 - precision: 0.5164 - recall: 0.5163 - acc: 0.5163 - auc: 0.7049\n",
      "Epoch 5/5\n",
      "644/644 [==============================] - 27s 42ms/step - loss: 163.1498 - tp: 11457.0000 - fp: 9124.0000 - tn: 73204.0000 - fn: 9125.0000 - precision: 0.5567 - recall: 0.5567 - acc: 0.5567 - auc: 0.7300\n",
      "./Training\\13_BOS_LeftLowerLimb\\rawData_Day4_l.csv\n",
      "19154\n",
      "19154\n",
      "Epoch 1/5\n",
      "599/599 [==============================] - 24s 40ms/step - loss: 1403.5891 - tp: 10539.0000 - fp: 8524.0000 - tn: 68092.0000 - fn: 8615.0000 - precision: 0.5529 - recall: 0.5502 - acc: 0.5519 - auc: 0.7136\n",
      "Epoch 2/5\n",
      "599/599 [==============================] - 23s 39ms/step - loss: 2786.0186 - tp: 8287.0000 - fp: 10867.0000 - tn: 65749.0000 - fn: 10867.0000 - precision: 0.4327 - recall: 0.4327 - acc: 0.4327 - auc: 0.6373\n",
      "Epoch 3/5\n",
      "599/599 [==============================] - 23s 39ms/step - loss: 1174.7845 - tp: 10195.0000 - fp: 8959.0000 - tn: 67657.0000 - fn: 8959.0000 - precision: 0.5323 - recall: 0.5323 - acc: 0.5323 - auc: 0.7024s - loss: 1109.8761 - tp: 9802.0000 - fp: 8374.0000 - tn: 64330.0000 - fn: 8374.0000 - precision: 0.5393 - recall: 0.53\n",
      "Epoch 4/5\n",
      "599/599 [==============================] - 24s 40ms/step - loss: 867.5019 - tp: 10010.0000 - fp: 9144.0000 - tn: 67472.0000 - fn: 9144.0000 - precision: 0.5226 - recall: 0.5226 - acc: 0.5226 - auc: 0.6968\n",
      "Epoch 5/5\n",
      "599/599 [==============================] - 25s 42ms/step - loss: 671.5039 - tp: 10586.0000 - fp: 8568.0000 - tn: 68048.0000 - fn: 8568.0000 - precision: 0.5527 - recall: 0.5527 - acc: 0.5527 - auc: 0.7156\n",
      "./Training\\15_BOS_LeftLowerLimb\\rawData_Day1_l.csv\n",
      "18742\n",
      "18742\n",
      "Epoch 1/5\n",
      "586/586 [==============================] - 23s 39ms/step - loss: 115.0743 - tp: 12714.0000 - fp: 6028.0000 - tn: 68940.0000 - fn: 6028.0000 - precision: 0.6784 - recall: 0.6784 - acc: 0.6784 - auc: 0.8019\n",
      "Epoch 2/5\n",
      "586/586 [==============================] - 24s 40ms/step - loss: 92.0090 - tp: 13631.0000 - fp: 5111.0000 - tn: 69857.0000 - fn: 5111.0000 - precision: 0.7273 - recall: 0.7273 - acc: 0.7273 - auc: 0.8332\n",
      "Epoch 3/5\n",
      "586/586 [==============================] - 22s 38ms/step - loss: 120.1553 - tp: 13198.0000 - fp: 5543.0000 - tn: 69425.0000 - fn: 5544.0000 - precision: 0.7042 - recall: 0.7042 - acc: 0.7042 - auc: 0.8198\n",
      "Epoch 4/5\n",
      "586/586 [==============================] - 24s 41ms/step - loss: 59.8749 - tp: 14688.0000 - fp: 4054.0000 - tn: 70914.0000 - fn: 4054.0000 - precision: 0.7837 - recall: 0.7837 - acc: 0.7837 - auc: 0.8729\n",
      "Epoch 5/5\n",
      "586/586 [==============================] - 26s 44ms/step - loss: 25.2869 - tp: 15847.0000 - fp: 2894.0000 - tn: 72074.0000 - fn: 2895.0000 - precision: 0.8456 - recall: 0.8455 - acc: 0.8455 - auc: 0.9133\n",
      "./Training\\15_BOS_LeftLowerLimb\\rawData_Day4_l.csv\n",
      "19128\n",
      "19128\n",
      "Epoch 1/5\n",
      "598/598 [==============================] - 24s 39ms/step - loss: 649376.5625 - tp: 14049.0000 - fp: 5071.0000 - tn: 71441.0000 - fn: 5079.0000 - precision: 0.7348 - recall: 0.7345 - acc: 0.7346 - auc: 0.8546\n",
      "Epoch 2/5\n",
      "598/598 [==============================] - 23s 38ms/step - loss: 0.9118 - tp: 17187.0000 - fp: 994.0000 - tn: 75518.0000 - fn: 1941.0000 - precision: 0.9453 - recall: 0.8985 - acc: 0.9249 - auc: 0.9963\n",
      "Epoch 3/5\n",
      "598/598 [==============================] - 23s 38ms/step - loss: 0.7062 - tp: 16680.0000 - fp: 1689.0000 - tn: 74823.0000 - fn: 2448.0000 - precision: 0.9081 - recall: 0.8720 - acc: 0.8908 - auc: 0.9934\n",
      "Epoch 4/5\n",
      "598/598 [==============================] - 25s 43ms/step - loss: 0.6523 - tp: 16758.0000 - fp: 1545.0000 - tn: 74967.0000 - fn: 2370.0000 - precision: 0.9156 - recall: 0.8761 - acc: 0.8920 - auc: 0.9932\n",
      "Epoch 5/5\n",
      "598/598 [==============================] - 24s 39ms/step - loss: 0.6181 - tp: 16921.0000 - fp: 1571.0000 - tn: 74941.0000 - fn: 2207.0000 - precision: 0.9150 - recall: 0.8846 - acc: 0.8944 - auc: 0.9939\n",
      "./Training\\16_BOS_LeftLowerLimb\\rawData_Day1_l.csv\n",
      "20138\n",
      "20138\n",
      "Epoch 1/5\n",
      "630/630 [==============================] - 24s 38ms/step - loss: 25.7340 - tp: 9960.0000 - fp: 7093.0000 - tn: 73459.0000 - fn: 10178.0000 - precision: 0.5841 - recall: 0.4946 - acc: 0.5379 - auc: 0.8725\n",
      "Epoch 2/5\n",
      "630/630 [==============================] - 24s 38ms/step - loss: 14.0224 - tp: 9494.0000 - fp: 6323.0000 - tn: 74229.0000 - fn: 10644.0000 - precision: 0.6002 - recall: 0.4714 - acc: 0.5236 - auc: 0.8509\n",
      "Epoch 3/5\n",
      "630/630 [==============================] - 24s 38ms/step - loss: 11.9685 - tp: 9296.0000 - fp: 6592.0000 - tn: 73960.0000 - fn: 10842.0000 - precision: 0.5851 - recall: 0.4616 - acc: 0.5160 - auc: 0.8372\n",
      "Epoch 4/5\n"
     ]
    },
    {
     "name": "stdout",
     "output_type": "stream",
     "text": [
      "630/630 [==============================] - 26s 41ms/step - loss: 11.6409 - tp: 9170.0000 - fp: 5771.0000 - tn: 74781.0000 - fn: 10968.0000 - precision: 0.6137 - recall: 0.4554 - acc: 0.5232 - auc: 0.8278\n",
      "Epoch 5/5\n",
      "630/630 [==============================] - 24s 38ms/step - loss: 11.1608 - tp: 8812.0000 - fp: 5096.0000 - tn: 75456.0000 - fn: 11326.0000 - precision: 0.6336 - recall: 0.4376 - acc: 0.5055 - auc: 0.8076\n",
      "./Training\\16_BOS_LeftLowerLimb\\rawData_Day4_l.csv\n",
      "19470\n",
      "19470\n",
      "Epoch 1/5\n",
      "609/609 [==============================] - 23s 37ms/step - loss: 1.9163 - tp: 12102.0000 - fp: 3812.0000 - tn: 74068.0000 - fn: 7368.0000 - precision: 0.7605 - recall: 0.6216 - acc: 0.6650 - auc: 0.9333\n",
      "Epoch 2/5\n",
      "609/609 [==============================] - 23s 38ms/step - loss: 1.7467 - tp: 13075.0000 - fp: 3085.0000 - tn: 74795.0000 - fn: 6395.0000 - precision: 0.8091 - recall: 0.6715 - acc: 0.7355 - auc: 0.9556\n",
      "Epoch 3/5\n",
      "609/609 [==============================] - 23s 38ms/step - loss: 1.6254 - tp: 13581.0000 - fp: 3143.0000 - tn: 74737.0000 - fn: 5889.0000 - precision: 0.8121 - recall: 0.6975 - acc: 0.7513 - auc: 0.9630\n",
      "Epoch 4/5\n",
      "609/609 [==============================] - 25s 41ms/step - loss: 1.5774 - tp: 13584.0000 - fp: 3024.0000 - tn: 74856.0000 - fn: 5886.0000 - precision: 0.8179 - recall: 0.6977 - acc: 0.7571 - auc: 0.96503s - loss: 1.5984 - tp: 11690.0000 - fp: 2652.0000 -\n",
      "Epoch 5/5\n",
      "609/609 [==============================] - 23s 38ms/step - loss: 1.5176 - tp: 14134.0000 - fp: 2818.0000 - tn: 75062.0000 - fn: 5336.0000 - precision: 0.8338 - recall: 0.7259 - acc: 0.7750 - auc: 0.9713\n",
      "./Training\\17_BOS_LeftLowerLimb\\rawData_Day1_l.csv\n",
      "20501\n",
      "20501\n",
      "Epoch 1/5\n",
      "641/641 [==============================] - 24s 38ms/step - loss: 15.2506 - tp: 10929.0000 - fp: 7261.0000 - tn: 74743.0000 - fn: 9572.0000 - precision: 0.6008 - recall: 0.5331 - acc: 0.5629 - auc: 0.8625\n",
      "Epoch 2/5\n",
      "641/641 [==============================] - 25s 39ms/step - loss: 9.1764 - tp: 10156.0000 - fp: 7811.0000 - tn: 74193.0000 - fn: 10345.0000 - precision: 0.5653 - recall: 0.4954 - acc: 0.5264 - auc: 0.8349\n",
      "Epoch 3/5\n",
      "641/641 [==============================] - 24s 38ms/step - loss: 9.1808 - tp: 9787.0000 - fp: 7655.0000 - tn: 74349.0000 - fn: 10714.0000 - precision: 0.5611 - recall: 0.4774 - acc: 0.5167 - auc: 0.8279\n",
      "Epoch 4/5\n",
      "641/641 [==============================] - 27s 42ms/step - loss: 8.9285 - tp: 9688.0000 - fp: 7945.0000 - tn: 74059.0000 - fn: 10813.0000 - precision: 0.5494 - recall: 0.4726 - acc: 0.5063 - auc: 0.8306\n",
      "Epoch 5/5\n",
      "641/641 [==============================] - 24s 38ms/step - loss: 8.8132 - tp: 9779.0000 - fp: 7666.0000 - tn: 74338.0000 - fn: 10722.0000 - precision: 0.5606 - recall: 0.4770 - acc: 0.5163 - auc: 0.83507s - loss\n",
      "./Training\\17_BOS_LeftLowerLimb\\rawData_Day4_l.csv\n",
      "20961\n",
      "20961\n",
      "Epoch 1/5\n",
      "656/656 [==============================] - 25s 39ms/step - loss: 18.7721 - tp: 14177.0000 - fp: 3518.0000 - tn: 80326.0000 - fn: 6784.0000 - precision: 0.8012 - recall: 0.6764 - acc: 0.7007 - auc: 0.9390\n",
      "Epoch 2/5\n",
      "656/656 [==============================] - 26s 39ms/step - loss: 9.1890 - tp: 14225.0000 - fp: 4574.0000 - tn: 79270.0000 - fn: 6736.0000 - precision: 0.7567 - recall: 0.6786 - acc: 0.6902 - auc: 0.9391\n",
      "Epoch 3/5\n",
      "656/656 [==============================] - 27s 41ms/step - loss: 8.0141 - tp: 14392.0000 - fp: 4632.0000 - tn: 79212.0000 - fn: 6569.0000 - precision: 0.7565 - recall: 0.6866 - acc: 0.6960 - auc: 0.9435\n",
      "Epoch 4/5\n",
      "656/656 [==============================] - 26s 39ms/step - loss: 8.1539 - tp: 14468.0000 - fp: 4669.0000 - tn: 79175.0000 - fn: 6493.0000 - precision: 0.7560 - recall: 0.6902 - acc: 0.6983 - auc: 0.9451\n",
      "Epoch 5/5\n",
      "656/656 [==============================] - 26s 39ms/step - loss: 7.7005 - tp: 14536.0000 - fp: 4892.0000 - tn: 78952.0000 - fn: 6425.0000 - precision: 0.7482 - recall: 0.6935 - acc: 0.7005 - auc: 0.9458\n",
      "./Training\\3_BOS_LeftLowerLimb\\rawData_Day1_l.csv\n",
      "19357\n",
      "19357\n",
      "Epoch 1/5\n",
      "605/605 [==============================] - 23s 38ms/step - loss: 4547768.5000 - tp: 12468.0000 - fp: 4751.0000 - tn: 72677.0000 - fn: 6889.0000 - precision: 0.7241 - recall: 0.6441 - acc: 0.6469 - auc: 0.9212\n",
      "Epoch 2/5\n",
      "605/605 [==============================] - 23s 39ms/step - loss: 65.6651 - tp: 12644.0000 - fp: 6711.0000 - tn: 70717.0000 - fn: 6713.0000 - precision: 0.6533 - recall: 0.6532 - acc: 0.6532 - auc: 0.9205\n",
      "Epoch 3/5\n",
      "605/605 [==============================] - 24s 40ms/step - loss: 13.6113 - tp: 10146.0000 - fp: 9202.0000 - tn: 68226.0000 - fn: 9211.0000 - precision: 0.5244 - recall: 0.5242 - acc: 0.5243 - auc: 0.9042\n",
      "Epoch 4/5\n",
      "605/605 [==============================] - 23s 38ms/step - loss: 8.6582 - tp: 10798.0000 - fp: 8535.0000 - tn: 68893.0000 - fn: 8559.0000 - precision: 0.5585 - recall: 0.5578 - acc: 0.5584 - auc: 0.9181\n",
      "Epoch 5/5\n",
      "605/605 [==============================] - 23s 39ms/step - loss: 6.8094 - tp: 11093.0000 - fp: 8238.0000 - tn: 69190.0000 - fn: 8264.0000 - precision: 0.5738 - recall: 0.5731 - acc: 0.5739 - auc: 0.9213\n",
      "./Training\\3_BOS_LeftLowerLimb\\rawData_Day4_l.csv\n",
      "19216\n",
      "19216\n",
      "Epoch 1/5\n",
      "601/601 [==============================] - 23s 38ms/step - loss: 2.6541 - tp: 13496.0000 - fp: 5716.0000 - tn: 71148.0000 - fn: 5720.0000 - precision: 0.7025 - recall: 0.7023 - acc: 0.7024 - auc: 0.9672\n",
      "Epoch 2/5\n",
      "601/601 [==============================] - 23s 38ms/step - loss: 3.5454 - tp: 13240.0000 - fp: 5975.0000 - tn: 70889.0000 - fn: 5976.0000 - precision: 0.6890 - recall: 0.6890 - acc: 0.6890 - auc: 0.9632\n",
      "Epoch 3/5\n",
      "601/601 [==============================] - 25s 41ms/step - loss: 3.2219 - tp: 13356.0000 - fp: 5857.0000 - tn: 71007.0000 - fn: 5860.0000 - precision: 0.6952 - recall: 0.6950 - acc: 0.6951 - auc: 0.9668\n",
      "Epoch 4/5\n",
      "601/601 [==============================] - 23s 38ms/step - loss: 3.7807 - tp: 13279.0000 - fp: 5934.0000 - tn: 70930.0000 - fn: 5937.0000 - precision: 0.6911 - recall: 0.6910 - acc: 0.6912 - auc: 0.9647\n",
      "Epoch 5/5\n",
      "601/601 [==============================] - 23s 39ms/step - loss: 3.4765 - tp: 13463.0000 - fp: 5748.0000 - tn: 71116.0000 - fn: 5753.0000 - precision: 0.7008 - recall: 0.7006 - acc: 0.7008 - auc: 0.9676\n",
      "./Training\\4_BOS_LeftLowerLimb\\rawData_Day1_l.csv\n",
      "19420\n",
      "19420\n",
      "Epoch 1/5\n",
      "607/607 [==============================] - 23s 38ms/step - loss: 1.8685 - tp: 13369.0000 - fp: 6051.0000 - tn: 71629.0000 - fn: 6051.0000 - precision: 0.6884 - recall: 0.6884 - acc: 0.6884 - auc: 0.9642\n",
      "Epoch 2/5\n",
      "607/607 [==============================] - 23s 38ms/step - loss: 1.9249 - tp: 13619.0000 - fp: 5801.0000 - tn: 71879.0000 - fn: 5801.0000 - precision: 0.7013 - recall: 0.7013 - acc: 0.7013 - auc: 0.9658\n",
      "Epoch 3/5\n",
      "607/607 [==============================] - 29s 47ms/step - loss: 1.4879 - tp: 13960.0000 - fp: 5460.0000 - tn: 72220.0000 - fn: 5460.0000 - precision: 0.7188 - recall: 0.7188 - acc: 0.7188 - auc: 0.9681\n",
      "Epoch 4/5\n",
      "607/607 [==============================] - 24s 39ms/step - loss: 1.7021 - tp: 14079.0000 - fp: 5340.0000 - tn: 72340.0000 - fn: 5341.0000 - precision: 0.7250 - recall: 0.7250 - acc: 0.7250 - auc: 0.9675\n",
      "Epoch 5/5\n",
      "607/607 [==============================] - 24s 40ms/step - loss: 1024.7249 - tp: 14367.0000 - fp: 5053.0000 - tn: 72627.0000 - fn: 5053.0000 - precision: 0.7398 - recall: 0.7398 - acc: 0.7398 - auc: 0.9753\n",
      "./Training\\4_BOS_LeftLowerLimb\\rawData_Day4_l.csv\n",
      "19414\n",
      "19414\n",
      "Epoch 1/5\n",
      "607/607 [==============================] - 23s 37ms/step - loss: 0.9138 - tp: 13536.0000 - fp: 5878.0000 - tn: 71778.0000 - fn: 5878.0000 - precision: 0.6972 - recall: 0.6972 - acc: 0.6972 - auc: 0.9702\n",
      "Epoch 2/5\n",
      "607/607 [==============================] - 25s 41ms/step - loss: 7442091.5000 - tp: 14190.0000 - fp: 5224.0000 - tn: 72432.0000 - fn: 5224.0000 - precision: 0.7309 - recall: 0.7309 - acc: 0.7309 - auc: 0.9662\n",
      "Epoch 3/5\n",
      "607/607 [==============================] - 25s 40ms/step - loss: 9.7323 - tp: 14578.0000 - fp: 4836.0000 - tn: 72820.0000 - fn: 4836.0000 - precision: 0.7509 - recall: 0.7509 - acc: 0.7509 - auc: 0.9743\n",
      "Epoch 4/5\n",
      "607/607 [==============================] - 22s 36ms/step - loss: 1.7210 - tp: 14267.0000 - fp: 5147.0000 - tn: 72509.0000 - fn: 5147.0000 - precision: 0.7349 - recall: 0.7349 - acc: 0.7349 - auc: 0.9721\n",
      "Epoch 5/5\n"
     ]
    },
    {
     "name": "stdout",
     "output_type": "stream",
     "text": [
      "607/607 [==============================] - 22s 36ms/step - loss: 1.6330 - tp: 14148.0000 - fp: 5266.0000 - tn: 72390.0000 - fn: 5266.0000 - precision: 0.7288 - recall: 0.7288 - acc: 0.7288 - auc: 0.9718\n",
      "./Training\\5_BOS_LeftLowerLimb\\rawData_Day1_l.csv\n",
      "19126\n",
      "19126\n",
      "Epoch 1/5\n",
      "598/598 [==============================] - 21s 35ms/step - loss: 3969.3523 - tp: 10461.0000 - fp: 8665.0000 - tn: 67839.0000 - fn: 8665.0000 - precision: 0.5470 - recall: 0.5470 - acc: 0.5470 - auc: 0.9304\n",
      "Epoch 2/5\n",
      "598/598 [==============================] - 22s 37ms/step - loss: 8.9912 - tp: 11352.0000 - fp: 7762.0000 - tn: 68742.0000 - fn: 7774.0000 - precision: 0.5939 - recall: 0.5935 - acc: 0.5941 - auc: 0.9476\n",
      "Epoch 3/5\n",
      "598/598 [==============================] - 24s 40ms/step - loss: 6.8136 - tp: 11575.0000 - fp: 7548.0000 - tn: 68956.0000 - fn: 7551.0000 - precision: 0.6053 - recall: 0.6052 - acc: 0.6053 - auc: 0.9498\n",
      "Epoch 4/5\n",
      "598/598 [==============================] - 23s 38ms/step - loss: 3.9686 - tp: 11767.0000 - fp: 7359.0000 - tn: 69145.0000 - fn: 7359.0000 - precision: 0.6152 - recall: 0.6152 - acc: 0.6152 - auc: 0.9501\n",
      "Epoch 5/5\n",
      "598/598 [==============================] - 23s 38ms/step - loss: 3.6530 - tp: 11774.0000 - fp: 7352.0000 - tn: 69152.0000 - fn: 7352.0000 - precision: 0.6156 - recall: 0.6156 - acc: 0.6156 - auc: 0.9502\n",
      "./Training\\5_BOS_LeftLowerLimb\\rawData_Day4_l.csv\n",
      "21362\n",
      "21362\n",
      "Epoch 1/5\n",
      "668/668 [==============================] - 25s 38ms/step - loss: 0.5619 - tp: 16020.0000 - fp: 5342.0000 - tn: 80106.0000 - fn: 5342.0000 - precision: 0.7499 - recall: 0.7499 - acc: 0.7499 - auc: 0.9776\n",
      "Epoch 2/5\n",
      "668/668 [==============================] - 25s 38ms/step - loss: 0.5500 - tp: 16897.0000 - fp: 4465.0000 - tn: 80983.0000 - fn: 4465.0000 - precision: 0.7910 - recall: 0.7910 - acc: 0.7910 - auc: 0.9808\n",
      "Epoch 3/5\n",
      "668/668 [==============================] - 28s 42ms/step - loss: 0.5629 - tp: 17565.0000 - fp: 3797.0000 - tn: 81651.0000 - fn: 3797.0000 - precision: 0.8223 - recall: 0.8223 - acc: 0.8223 - auc: 0.9858\n",
      "Epoch 4/5\n",
      "668/668 [==============================] - 26s 38ms/step - loss: 0.5373 - tp: 17297.0000 - fp: 4065.0000 - tn: 81383.0000 - fn: 4065.0000 - precision: 0.8097 - recall: 0.8097 - acc: 0.8097 - auc: 0.9829\n",
      "Epoch 5/5\n",
      "668/668 [==============================] - 26s 38ms/step - loss: 0.5368 - tp: 17446.0000 - fp: 3916.0000 - tn: 81532.0000 - fn: 3916.0000 - precision: 0.8167 - recall: 0.8167 - acc: 0.8167 - auc: 0.9838\n",
      "./Training\\6_BOS_LeftLowerLimb\\rawData_Day1_l.csv\n",
      "20499\n",
      "20499\n",
      "Epoch 1/5\n",
      "641/641 [==============================] - 24s 38ms/step - loss: 4.9107 - tp: 15414.0000 - fp: 4804.0000 - tn: 77192.0000 - fn: 5085.0000 - precision: 0.7624 - recall: 0.7519 - acc: 0.7537 - auc: 0.9730\n",
      "Epoch 2/5\n",
      "641/641 [==============================] - 26s 41ms/step - loss: 3.4619 - tp: 14278.0000 - fp: 5786.0000 - tn: 76210.0000 - fn: 6221.0000 - precision: 0.7116 - recall: 0.6965 - acc: 0.6992 - auc: 0.9649\n",
      "Epoch 3/5\n",
      "641/641 [==============================] - 25s 39ms/step - loss: 22.1733 - tp: 12902.0000 - fp: 7125.0000 - tn: 74871.0000 - fn: 7597.0000 - precision: 0.6442 - recall: 0.6294 - acc: 0.6343 - auc: 0.9429\n",
      "Epoch 4/5\n",
      "641/641 [==============================] - 25s 39ms/step - loss: 8.7267 - tp: 10072.0000 - fp: 9563.0000 - tn: 72433.0000 - fn: 10427.0000 - precision: 0.5130 - recall: 0.4913 - acc: 0.4978 - auc: 0.8943\n",
      "Epoch 5/5\n",
      "641/641 [==============================] - 25s 39ms/step - loss: 3.1060 - tp: 11585.0000 - fp: 6869.0000 - tn: 75127.0000 - fn: 8914.0000 - precision: 0.6278 - recall: 0.5651 - acc: 0.5977 - auc: 0.9290\n",
      "./Training\\6_BOS_LeftLowerLimb\\rawData_Day4_l.csv\n",
      "17169\n",
      "17169\n",
      "Epoch 1/5\n",
      "537/537 [==============================] - 21s 39ms/step - loss: 2.2829 - tp: 14527.0000 - fp: 2486.0000 - tn: 66190.0000 - fn: 2642.0000 - precision: 0.8539 - recall: 0.8461 - acc: 0.8484 - auc: 0.9820\n",
      "Epoch 2/5\n",
      "537/537 [==============================] - 23s 43ms/step - loss: 0.5512 - tp: 14216.0000 - fp: 2903.0000 - tn: 65773.0000 - fn: 2953.0000 - precision: 0.8304 - recall: 0.8280 - acc: 0.8281 - auc: 0.9799\n",
      "Epoch 3/5\n",
      "537/537 [==============================] - 21s 40ms/step - loss: 0.5489 - tp: 14455.0000 - fp: 2659.0000 - tn: 66017.0000 - fn: 2714.0000 - precision: 0.8446 - recall: 0.8419 - acc: 0.8419 - auc: 0.9808\n",
      "Epoch 4/5\n",
      "537/537 [==============================] - 21s 39ms/step - loss: 0.5475 - tp: 14476.0000 - fp: 2636.0000 - tn: 66040.0000 - fn: 2693.0000 - precision: 0.8460 - recall: 0.8431 - acc: 0.8432 - auc: 0.9811\n",
      "Epoch 5/5\n",
      "537/537 [==============================] - 21s 39ms/step - loss: 0.5452 - tp: 14306.0000 - fp: 2793.0000 - tn: 65883.0000 - fn: 2863.0000 - precision: 0.8367 - recall: 0.8332 - acc: 0.8334 - auc: 0.9807\n",
      "./Training\\7_BOS_LeftLowerLimb\\rawData_Day1_l.csv\n",
      "21406\n",
      "21406\n",
      "Epoch 1/5\n",
      "669/669 [==============================] - 26s 39ms/step - loss: 0.4661 - tp: 20625.0000 - fp: 671.0000 - tn: 84953.0000 - fn: 781.0000 - precision: 0.9685 - recall: 0.9635 - acc: 0.9671 - auc: 0.9969\n",
      "Epoch 2/5\n",
      "669/669 [==============================] - 29s 43ms/step - loss: 0.4244 - tp: 21238.0000 - fp: 129.0000 - tn: 85495.0000 - fn: 168.0000 - precision: 0.9940 - recall: 0.9922 - acc: 0.9936 - auc: 0.99940s - loss: 0.4228 - tp: 21017.0000 - fp: 128.0000 - tn: 84608.0000 - fn: 167.0000 - precision: 0.9939 - recall: 0.9921 - acc: 0.9936 - a\n",
      "Epoch 3/5\n",
      "669/669 [==============================] - 27s 40ms/step - loss: 0.4203 - tp: 21276.0000 - fp: 118.0000 - tn: 85506.0000 - fn: 130.0000 - precision: 0.9945 - recall: 0.9939 - acc: 0.9943 - auc: 0.9994\n",
      "Epoch 4/5\n",
      "669/669 [==============================] - 26s 39ms/step - loss: 0.4211 - tp: 21301.0000 - fp: 91.0000 - tn: 85533.0000 - fn: 105.0000 - precision: 0.9957 - recall: 0.9951 - acc: 0.9952 - auc: 0.9994\n",
      "Epoch 5/5\n",
      "669/669 [==============================] - 26s 38ms/step - loss: 0.4178 - tp: 21309.0000 - fp: 85.0000 - tn: 85539.0000 - fn: 97.0000 - precision: 0.9960 - recall: 0.9955 - acc: 0.9960 - auc: 0.9995\n",
      "./Training\\7_BOS_LeftLowerLimb\\rawData_Day4_l.csv\n",
      "16585\n",
      "16585\n",
      "Epoch 1/5\n",
      "519/519 [==============================] - 22s 43ms/step - loss: 2.5405 - tp: 12964.0000 - fp: 3093.0000 - tn: 63247.0000 - fn: 3621.0000 - precision: 0.8074 - recall: 0.7817 - acc: 0.7850 - auc: 0.9757\n",
      "Epoch 2/5\n",
      "519/519 [==============================] - 21s 40ms/step - loss: 2.9756 - tp: 12938.0000 - fp: 2877.0000 - tn: 63463.0000 - fn: 3647.0000 - precision: 0.8181 - recall: 0.7801 - acc: 0.7833 - auc: 0.9764\n",
      "Epoch 3/5\n",
      "519/519 [==============================] - 20s 39ms/step - loss: 2.3200 - tp: 12973.0000 - fp: 3000.0000 - tn: 63340.0000 - fn: 3612.0000 - precision: 0.8122 - recall: 0.7822 - acc: 0.7850 - auc: 0.9741\n",
      "Epoch 4/5\n",
      "519/519 [==============================] - 20s 39ms/step - loss: 2.0404 - tp: 12972.0000 - fp: 2843.0000 - tn: 63497.0000 - fn: 3613.0000 - precision: 0.8202 - recall: 0.7822 - acc: 0.7850 - auc: 0.9775\n",
      "Epoch 5/5\n",
      "519/519 [==============================] - 20s 39ms/step - loss: 2.3103 - tp: 12982.0000 - fp: 3034.0000 - tn: 63306.0000 - fn: 3603.0000 - precision: 0.8106 - recall: 0.7828 - acc: 0.7857 - auc: 0.9779\n",
      "./Training\\8_BOS_LeftLowerLimb\\rawData_Day1_l.csv\n",
      "21714\n",
      "21714\n",
      "Epoch 1/5\n",
      "679/679 [==============================] - 26s 38ms/step - loss: 0.7611 - tp: 18923.0000 - fp: 2646.0000 - tn: 84210.0000 - fn: 2791.0000 - precision: 0.8773 - recall: 0.8715 - acc: 0.8746 - auc: 0.9900\n",
      "Epoch 2/5\n",
      "679/679 [==============================] - 29s 43ms/step - loss: 0.6130 - tp: 20661.0000 - fp: 1048.0000 - tn: 85808.0000 - fn: 1053.0000 - precision: 0.9517 - recall: 0.9515 - acc: 0.9516 - auc: 0.9980 - loss: 0.6211 - tp: 18321.0000 - fp: 782.0000 - tn\n",
      "Epoch 3/5\n",
      "679/679 [==============================] - 27s 39ms/step - loss: 0.5704 - tp: 20636.0000 - fp: 1040.0000 - tn: 85816.0000 - fn: 1078.0000 - precision: 0.9520 - recall: 0.9504 - acc: 0.9514 - auc: 0.9980\n",
      "Epoch 4/5\n"
     ]
    },
    {
     "name": "stdout",
     "output_type": "stream",
     "text": [
      "679/679 [==============================] - 27s 39ms/step - loss: 0.5495 - tp: 20496.0000 - fp: 1208.0000 - tn: 85648.0000 - fn: 1218.0000 - precision: 0.9443 - recall: 0.9439 - acc: 0.9441 - auc: 0.99764s - loss: 0.5534 - tp: 17288.0000 - fp: 1\n",
      "Epoch 5/5\n",
      "679/679 [==============================] - 26s 39ms/step - loss: 0.5367 - tp: 20536.0000 - fp: 1173.0000 - tn: 85683.0000 - fn: 1178.0000 - precision: 0.9460 - recall: 0.9457 - acc: 0.9459 - auc: 0.9974\n",
      "./Training\\8_BOS_LeftLowerLimb\\rawData_Day4_l.csv\n",
      "16882\n",
      "16882\n",
      "Epoch 1/5\n",
      "528/528 [==============================] - 23s 43ms/step - loss: 44.5920 - tp: 16511.0000 - fp: 242.0000 - tn: 67286.0000 - fn: 371.0000 - precision: 0.9856 - recall: 0.9780 - acc: 0.9809 - auc: 0.9990\n",
      "Epoch 2/5\n",
      "528/528 [==============================] - 21s 39ms/step - loss: 0.4883 - tp: 16247.0000 - fp: 608.0000 - tn: 66920.0000 - fn: 635.0000 - precision: 0.9639 - recall: 0.9624 - acc: 0.9632 - auc: 0.9994\n",
      "Epoch 3/5\n",
      "528/528 [==============================] - 21s 39ms/step - loss: 0.3925 - tp: 16224.0000 - fp: 584.0000 - tn: 66944.0000 - fn: 658.0000 - precision: 0.9653 - recall: 0.9610 - acc: 0.9616 - auc: 0.9993\n",
      "Epoch 4/5\n",
      "528/528 [==============================] - 21s 39ms/step - loss: 0.3325 - tp: 16233.0000 - fp: 578.0000 - tn: 66950.0000 - fn: 649.0000 - precision: 0.9656 - recall: 0.9616 - acc: 0.9620 - auc: 0.9990\n",
      "Epoch 5/5\n",
      "528/528 [==============================] - 21s 39ms/step - loss: 0.3426 - tp: 16227.0000 - fp: 575.0000 - tn: 66953.0000 - fn: 655.0000 - precision: 0.9658 - recall: 0.9612 - acc: 0.9621 - auc: 0.9991\n",
      "./Training\\9_BOS_LeftLowerLimb\\rawData_Day1_l.csv\n",
      "21128\n",
      "21128\n",
      "Epoch 1/5\n",
      "661/661 [==============================] - 28s 43ms/step - loss: 2.9505 - tp: 11235.0000 - fp: 7107.0000 - tn: 77405.0000 - fn: 9893.0000 - precision: 0.6125 - recall: 0.5318 - acc: 0.5542 - auc: 0.9189\n",
      "Epoch 2/5\n",
      "661/661 [==============================] - 27s 41ms/step - loss: 2.5413 - tp: 11817.0000 - fp: 5007.0000 - tn: 79505.0000 - fn: 9311.0000 - precision: 0.7024 - recall: 0.5593 - acc: 0.6179 - auc: 0.9310\n",
      "Epoch 3/5\n",
      "661/661 [==============================] - 26s 40ms/step - loss: 2.6244 - tp: 12626.0000 - fp: 4589.0000 - tn: 79923.0000 - fn: 8502.0000 - precision: 0.7334 - recall: 0.5976 - acc: 0.6536 - auc: 0.9362\n",
      "Epoch 4/5\n",
      "661/661 [==============================] - 26s 39ms/step - loss: 2.3026 - tp: 13148.0000 - fp: 4223.0000 - tn: 80289.0000 - fn: 7980.0000 - precision: 0.7569 - recall: 0.6223 - acc: 0.6831 - auc: 0.9429\n",
      "Epoch 5/5\n",
      "661/661 [==============================] - 26s 39ms/step - loss: 3.0712 - tp: 13993.0000 - fp: 4952.0000 - tn: 79560.0000 - fn: 7135.0000 - precision: 0.7386 - recall: 0.6623 - acc: 0.6933 - auc: 0.93663s - loss: 3.1074 - tp: 12220.0000 - fp:\n",
      "./Training\\9_BOS_LeftLowerLimb\\rawData_Day4_l.csv\n",
      "17591\n",
      "17591\n",
      "Epoch 1/5\n",
      "550/550 [==============================] - 24s 43ms/step - loss: 3.4217 - tp: 11970.0000 - fp: 4224.0000 - tn: 66140.0000 - fn: 5621.0000 - precision: 0.7392 - recall: 0.6805 - acc: 0.7055 - auc: 0.9352\n",
      "Epoch 2/5\n",
      "550/550 [==============================] - 21s 39ms/step - loss: 3.1626 - tp: 11940.0000 - fp: 4212.0000 - tn: 66152.0000 - fn: 5651.0000 - precision: 0.7392 - recall: 0.6788 - acc: 0.7025 - auc: 0.9396\n",
      "Epoch 3/5\n",
      "550/550 [==============================] - 21s 38ms/step - loss: 2.9913 - tp: 11879.0000 - fp: 4274.0000 - tn: 66090.0000 - fn: 5712.0000 - precision: 0.7354 - recall: 0.6753 - acc: 0.6999 - auc: 0.9411\n",
      "Epoch 4/5\n",
      "550/550 [==============================] - 21s 39ms/step - loss: 2.8560 - tp: 11861.0000 - fp: 4243.0000 - tn: 66121.0000 - fn: 5730.0000 - precision: 0.7365 - recall: 0.6743 - acc: 0.7012 - auc: 0.9458\n",
      "Epoch 5/5\n",
      "550/550 [==============================] - 22s 39ms/step - loss: 2.8837 - tp: 11776.0000 - fp: 4183.0000 - tn: 66181.0000 - fn: 5815.0000 - precision: 0.7379 - recall: 0.6694 - acc: 0.6941 - auc: 0.9438\n"
     ]
    }
   ],
   "source": [
    "for data_file in file_names:\n",
    "    training_dataframe = pd.read_csv(data_file)\n",
    "    print(data_file)\n",
    "    X_train, Y_train = generate_data_samples(training_dataframe, ['leftAnkle_X', 'leftAnkle_Y','leftAnkle_Z'], 'Dysk_Score', 128)\n",
    "    Y_train = tf.compat.v1.one_hot(Y_train, depth=5)\n",
    "    print(len(X_train))\n",
    "    print(len(Y_train))\n",
    "    model.fit(x=X_train, y=Y_train, epochs=5,class_weight=class_weight)\n",
    "    \n",
    "# fit - train the model\n",
    "#model.fit(X_train, Y_train, epochs=5) #class_weight=class_weight) \n",
    "        #batch_size=128,\n",
    "        #validation_data=(X_val, Y_val),\n",
    "#)"
   ]
  },
  {
   "cell_type": "code",
   "execution_count": 17,
   "metadata": {},
   "outputs": [
    {
     "name": "stdout",
     "output_type": "stream",
     "text": [
      "1206/1206 [==============================] - 14s 11ms/step - loss: 2.0124 - tp: 21498.0000 - fp: 16544.0000 - tn: 137748.0000 - fn: 17075.0000 - precision: 0.5651 - recall: 0.5573 - acc: 0.5652 - auc: 0.8404\n",
      "[1. 0. 0. 0. 0.]\n",
      "tf.Tensor([1. 0. 0. 0. 0.], shape=(5,), dtype=float32)\n"
     ]
    }
   ],
   "source": [
    "#evaluate val_dataset before testing on test data. \n",
    "model.evaluate(X_val, Y_val)\n",
    "classifications = model.predict(X_val)\n",
    "print(classifications[0])\n",
    "print(Y_val[0])"
   ]
  },
  {
   "cell_type": "code",
   "execution_count": 37,
   "metadata": {},
   "outputs": [
    {
     "ename": "ValueError",
     "evalue": "in user code:\n\n    C:\\Users\\svetl\\AppData\\Local\\Continuum\\anaconda3\\lib\\site-packages\\tensorflow\\python\\keras\\engine\\training.py:1323 test_function  *\n        return step_function(self, iterator)\n    C:\\Users\\svetl\\AppData\\Local\\Continuum\\anaconda3\\lib\\site-packages\\tensorflow\\python\\keras\\engine\\training.py:1314 step_function  **\n        outputs = model.distribute_strategy.run(run_step, args=(data,))\n    C:\\Users\\svetl\\AppData\\Local\\Continuum\\anaconda3\\lib\\site-packages\\tensorflow\\python\\distribute\\distribute_lib.py:1285 run\n        return self._extended.call_for_each_replica(fn, args=args, kwargs=kwargs)\n    C:\\Users\\svetl\\AppData\\Local\\Continuum\\anaconda3\\lib\\site-packages\\tensorflow\\python\\distribute\\distribute_lib.py:2833 call_for_each_replica\n        return self._call_for_each_replica(fn, args, kwargs)\n    C:\\Users\\svetl\\AppData\\Local\\Continuum\\anaconda3\\lib\\site-packages\\tensorflow\\python\\distribute\\distribute_lib.py:3608 _call_for_each_replica\n        return fn(*args, **kwargs)\n    C:\\Users\\svetl\\AppData\\Local\\Continuum\\anaconda3\\lib\\site-packages\\tensorflow\\python\\keras\\engine\\training.py:1307 run_step  **\n        outputs = model.test_step(data)\n    C:\\Users\\svetl\\AppData\\Local\\Continuum\\anaconda3\\lib\\site-packages\\tensorflow\\python\\keras\\engine\\training.py:1266 test_step\n        y_pred = self(x, training=False)\n    C:\\Users\\svetl\\AppData\\Local\\Continuum\\anaconda3\\lib\\site-packages\\tensorflow\\python\\keras\\engine\\base_layer.py:1013 __call__\n        input_spec.assert_input_compatibility(self.input_spec, inputs, self.name)\n    C:\\Users\\svetl\\AppData\\Local\\Continuum\\anaconda3\\lib\\site-packages\\tensorflow\\python\\keras\\engine\\input_spec.py:203 assert_input_compatibility\n        ' input tensors. Inputs received: ' + str(inputs))\n\n    ValueError: Layer model expects 2 input(s), but it received 1 input tensors. Inputs received: [<tf.Tensor 'IteratorGetNext:0' shape=(None, 128, 3) dtype=float32>]\n",
     "output_type": "error",
     "traceback": [
      "\u001b[1;31m---------------------------------------------------------------------------\u001b[0m",
      "\u001b[1;31mValueError\u001b[0m                                Traceback (most recent call last)",
      "\u001b[1;32m<ipython-input-37-eaa20a58a91b>\u001b[0m in \u001b[0;36m<module>\u001b[1;34m\u001b[0m\n\u001b[1;32m----> 1\u001b[1;33m \u001b[0mmodel\u001b[0m\u001b[1;33m.\u001b[0m\u001b[0mevaluate\u001b[0m\u001b[1;33m(\u001b[0m\u001b[0mX_test\u001b[0m\u001b[1;33m,\u001b[0m \u001b[0mY_test\u001b[0m\u001b[1;33m)\u001b[0m\u001b[1;33m\u001b[0m\u001b[1;33m\u001b[0m\u001b[0m\n\u001b[0m\u001b[0;32m      2\u001b[0m \u001b[0mclassifications\u001b[0m \u001b[1;33m=\u001b[0m \u001b[0mmodel\u001b[0m\u001b[1;33m.\u001b[0m\u001b[0mpredict\u001b[0m\u001b[1;33m(\u001b[0m\u001b[0mX_test\u001b[0m\u001b[1;33m)\u001b[0m\u001b[1;33m\u001b[0m\u001b[1;33m\u001b[0m\u001b[0m\n\u001b[0;32m      3\u001b[0m \u001b[0mprint\u001b[0m\u001b[1;33m(\u001b[0m\u001b[0mclassifications\u001b[0m\u001b[1;33m[\u001b[0m\u001b[1;36m0\u001b[0m\u001b[1;33m]\u001b[0m\u001b[1;33m)\u001b[0m\u001b[1;33m\u001b[0m\u001b[1;33m\u001b[0m\u001b[0m\n\u001b[0;32m      4\u001b[0m \u001b[0mprint\u001b[0m\u001b[1;33m(\u001b[0m\u001b[0mY_test\u001b[0m\u001b[1;33m[\u001b[0m\u001b[1;36m0\u001b[0m\u001b[1;33m]\u001b[0m\u001b[1;33m)\u001b[0m\u001b[1;33m\u001b[0m\u001b[1;33m\u001b[0m\u001b[0m\n",
      "\u001b[1;32m~\\AppData\\Local\\Continuum\\anaconda3\\lib\\site-packages\\tensorflow\\python\\keras\\engine\\training.py\u001b[0m in \u001b[0;36mevaluate\u001b[1;34m(self, x, y, batch_size, verbose, sample_weight, steps, callbacks, max_queue_size, workers, use_multiprocessing, return_dict, **kwargs)\u001b[0m\n\u001b[0;32m   1487\u001b[0m             \u001b[1;32mwith\u001b[0m \u001b[0mtrace\u001b[0m\u001b[1;33m.\u001b[0m\u001b[0mTrace\u001b[0m\u001b[1;33m(\u001b[0m\u001b[1;34m'test'\u001b[0m\u001b[1;33m,\u001b[0m \u001b[0mstep_num\u001b[0m\u001b[1;33m=\u001b[0m\u001b[0mstep\u001b[0m\u001b[1;33m,\u001b[0m \u001b[0m_r\u001b[0m\u001b[1;33m=\u001b[0m\u001b[1;36m1\u001b[0m\u001b[1;33m)\u001b[0m\u001b[1;33m:\u001b[0m\u001b[1;33m\u001b[0m\u001b[1;33m\u001b[0m\u001b[0m\n\u001b[0;32m   1488\u001b[0m               \u001b[0mcallbacks\u001b[0m\u001b[1;33m.\u001b[0m\u001b[0mon_test_batch_begin\u001b[0m\u001b[1;33m(\u001b[0m\u001b[0mstep\u001b[0m\u001b[1;33m)\u001b[0m\u001b[1;33m\u001b[0m\u001b[1;33m\u001b[0m\u001b[0m\n\u001b[1;32m-> 1489\u001b[1;33m               \u001b[0mtmp_logs\u001b[0m \u001b[1;33m=\u001b[0m \u001b[0mself\u001b[0m\u001b[1;33m.\u001b[0m\u001b[0mtest_function\u001b[0m\u001b[1;33m(\u001b[0m\u001b[0miterator\u001b[0m\u001b[1;33m)\u001b[0m\u001b[1;33m\u001b[0m\u001b[1;33m\u001b[0m\u001b[0m\n\u001b[0m\u001b[0;32m   1490\u001b[0m               \u001b[1;32mif\u001b[0m \u001b[0mdata_handler\u001b[0m\u001b[1;33m.\u001b[0m\u001b[0mshould_sync\u001b[0m\u001b[1;33m:\u001b[0m\u001b[1;33m\u001b[0m\u001b[1;33m\u001b[0m\u001b[0m\n\u001b[0;32m   1491\u001b[0m                 \u001b[0mcontext\u001b[0m\u001b[1;33m.\u001b[0m\u001b[0masync_wait\u001b[0m\u001b[1;33m(\u001b[0m\u001b[1;33m)\u001b[0m\u001b[1;33m\u001b[0m\u001b[1;33m\u001b[0m\u001b[0m\n",
      "\u001b[1;32m~\\AppData\\Local\\Continuum\\anaconda3\\lib\\site-packages\\tensorflow\\python\\eager\\def_function.py\u001b[0m in \u001b[0;36m__call__\u001b[1;34m(self, *args, **kwds)\u001b[0m\n\u001b[0;32m    887\u001b[0m \u001b[1;33m\u001b[0m\u001b[0m\n\u001b[0;32m    888\u001b[0m       \u001b[1;32mwith\u001b[0m \u001b[0mOptionalXlaContext\u001b[0m\u001b[1;33m(\u001b[0m\u001b[0mself\u001b[0m\u001b[1;33m.\u001b[0m\u001b[0m_jit_compile\u001b[0m\u001b[1;33m)\u001b[0m\u001b[1;33m:\u001b[0m\u001b[1;33m\u001b[0m\u001b[1;33m\u001b[0m\u001b[0m\n\u001b[1;32m--> 889\u001b[1;33m         \u001b[0mresult\u001b[0m \u001b[1;33m=\u001b[0m \u001b[0mself\u001b[0m\u001b[1;33m.\u001b[0m\u001b[0m_call\u001b[0m\u001b[1;33m(\u001b[0m\u001b[1;33m*\u001b[0m\u001b[0margs\u001b[0m\u001b[1;33m,\u001b[0m \u001b[1;33m**\u001b[0m\u001b[0mkwds\u001b[0m\u001b[1;33m)\u001b[0m\u001b[1;33m\u001b[0m\u001b[1;33m\u001b[0m\u001b[0m\n\u001b[0m\u001b[0;32m    890\u001b[0m \u001b[1;33m\u001b[0m\u001b[0m\n\u001b[0;32m    891\u001b[0m       \u001b[0mnew_tracing_count\u001b[0m \u001b[1;33m=\u001b[0m \u001b[0mself\u001b[0m\u001b[1;33m.\u001b[0m\u001b[0mexperimental_get_tracing_count\u001b[0m\u001b[1;33m(\u001b[0m\u001b[1;33m)\u001b[0m\u001b[1;33m\u001b[0m\u001b[1;33m\u001b[0m\u001b[0m\n",
      "\u001b[1;32m~\\AppData\\Local\\Continuum\\anaconda3\\lib\\site-packages\\tensorflow\\python\\eager\\def_function.py\u001b[0m in \u001b[0;36m_call\u001b[1;34m(self, *args, **kwds)\u001b[0m\n\u001b[0;32m    922\u001b[0m       \u001b[1;31m# In this case we have not created variables on the first call. So we can\u001b[0m\u001b[1;33m\u001b[0m\u001b[1;33m\u001b[0m\u001b[1;33m\u001b[0m\u001b[0m\n\u001b[0;32m    923\u001b[0m       \u001b[1;31m# run the first trace but we should fail if variables are created.\u001b[0m\u001b[1;33m\u001b[0m\u001b[1;33m\u001b[0m\u001b[1;33m\u001b[0m\u001b[0m\n\u001b[1;32m--> 924\u001b[1;33m       \u001b[0mresults\u001b[0m \u001b[1;33m=\u001b[0m \u001b[0mself\u001b[0m\u001b[1;33m.\u001b[0m\u001b[0m_stateful_fn\u001b[0m\u001b[1;33m(\u001b[0m\u001b[1;33m*\u001b[0m\u001b[0margs\u001b[0m\u001b[1;33m,\u001b[0m \u001b[1;33m**\u001b[0m\u001b[0mkwds\u001b[0m\u001b[1;33m)\u001b[0m\u001b[1;33m\u001b[0m\u001b[1;33m\u001b[0m\u001b[0m\n\u001b[0m\u001b[0;32m    925\u001b[0m       \u001b[1;32mif\u001b[0m \u001b[0mself\u001b[0m\u001b[1;33m.\u001b[0m\u001b[0m_created_variables\u001b[0m\u001b[1;33m:\u001b[0m\u001b[1;33m\u001b[0m\u001b[1;33m\u001b[0m\u001b[0m\n\u001b[0;32m    926\u001b[0m         raise ValueError(\"Creating variables on a non-first call to a function\"\n",
      "\u001b[1;32m~\\AppData\\Local\\Continuum\\anaconda3\\lib\\site-packages\\tensorflow\\python\\eager\\function.py\u001b[0m in \u001b[0;36m__call__\u001b[1;34m(self, *args, **kwargs)\u001b[0m\n\u001b[0;32m   3020\u001b[0m     \u001b[1;32mwith\u001b[0m \u001b[0mself\u001b[0m\u001b[1;33m.\u001b[0m\u001b[0m_lock\u001b[0m\u001b[1;33m:\u001b[0m\u001b[1;33m\u001b[0m\u001b[1;33m\u001b[0m\u001b[0m\n\u001b[0;32m   3021\u001b[0m       (graph_function,\n\u001b[1;32m-> 3022\u001b[1;33m        filtered_flat_args) = self._maybe_define_function(args, kwargs)\n\u001b[0m\u001b[0;32m   3023\u001b[0m     return graph_function._call_flat(\n\u001b[0;32m   3024\u001b[0m         filtered_flat_args, captured_inputs=graph_function.captured_inputs)  # pylint: disable=protected-access\n",
      "\u001b[1;32m~\\AppData\\Local\\Continuum\\anaconda3\\lib\\site-packages\\tensorflow\\python\\eager\\function.py\u001b[0m in \u001b[0;36m_maybe_define_function\u001b[1;34m(self, args, kwargs)\u001b[0m\n\u001b[0;32m   3439\u001b[0m               call_context_key in self._function_cache.missed):\n\u001b[0;32m   3440\u001b[0m             return self._define_function_with_shape_relaxation(\n\u001b[1;32m-> 3441\u001b[1;33m                 args, kwargs, flat_args, filtered_flat_args, cache_key_context)\n\u001b[0m\u001b[0;32m   3442\u001b[0m \u001b[1;33m\u001b[0m\u001b[0m\n\u001b[0;32m   3443\u001b[0m           \u001b[0mself\u001b[0m\u001b[1;33m.\u001b[0m\u001b[0m_function_cache\u001b[0m\u001b[1;33m.\u001b[0m\u001b[0mmissed\u001b[0m\u001b[1;33m.\u001b[0m\u001b[0madd\u001b[0m\u001b[1;33m(\u001b[0m\u001b[0mcall_context_key\u001b[0m\u001b[1;33m)\u001b[0m\u001b[1;33m\u001b[0m\u001b[1;33m\u001b[0m\u001b[0m\n",
      "\u001b[1;32m~\\AppData\\Local\\Continuum\\anaconda3\\lib\\site-packages\\tensorflow\\python\\eager\\function.py\u001b[0m in \u001b[0;36m_define_function_with_shape_relaxation\u001b[1;34m(self, args, kwargs, flat_args, filtered_flat_args, cache_key_context)\u001b[0m\n\u001b[0;32m   3361\u001b[0m \u001b[1;33m\u001b[0m\u001b[0m\n\u001b[0;32m   3362\u001b[0m     graph_function = self._create_graph_function(\n\u001b[1;32m-> 3363\u001b[1;33m         args, kwargs, override_flat_arg_shapes=relaxed_arg_shapes)\n\u001b[0m\u001b[0;32m   3364\u001b[0m     \u001b[0mself\u001b[0m\u001b[1;33m.\u001b[0m\u001b[0m_function_cache\u001b[0m\u001b[1;33m.\u001b[0m\u001b[0marg_relaxed\u001b[0m\u001b[1;33m[\u001b[0m\u001b[0mrank_only_cache_key\u001b[0m\u001b[1;33m]\u001b[0m \u001b[1;33m=\u001b[0m \u001b[0mgraph_function\u001b[0m\u001b[1;33m\u001b[0m\u001b[1;33m\u001b[0m\u001b[0m\n\u001b[0;32m   3365\u001b[0m \u001b[1;33m\u001b[0m\u001b[0m\n",
      "\u001b[1;32m~\\AppData\\Local\\Continuum\\anaconda3\\lib\\site-packages\\tensorflow\\python\\eager\\function.py\u001b[0m in \u001b[0;36m_create_graph_function\u001b[1;34m(self, args, kwargs, override_flat_arg_shapes)\u001b[0m\n\u001b[0;32m   3287\u001b[0m             \u001b[0marg_names\u001b[0m\u001b[1;33m=\u001b[0m\u001b[0marg_names\u001b[0m\u001b[1;33m,\u001b[0m\u001b[1;33m\u001b[0m\u001b[1;33m\u001b[0m\u001b[0m\n\u001b[0;32m   3288\u001b[0m             \u001b[0moverride_flat_arg_shapes\u001b[0m\u001b[1;33m=\u001b[0m\u001b[0moverride_flat_arg_shapes\u001b[0m\u001b[1;33m,\u001b[0m\u001b[1;33m\u001b[0m\u001b[1;33m\u001b[0m\u001b[0m\n\u001b[1;32m-> 3289\u001b[1;33m             capture_by_value=self._capture_by_value),\n\u001b[0m\u001b[0;32m   3290\u001b[0m         \u001b[0mself\u001b[0m\u001b[1;33m.\u001b[0m\u001b[0m_function_attributes\u001b[0m\u001b[1;33m,\u001b[0m\u001b[1;33m\u001b[0m\u001b[1;33m\u001b[0m\u001b[0m\n\u001b[0;32m   3291\u001b[0m         \u001b[0mfunction_spec\u001b[0m\u001b[1;33m=\u001b[0m\u001b[0mself\u001b[0m\u001b[1;33m.\u001b[0m\u001b[0mfunction_spec\u001b[0m\u001b[1;33m,\u001b[0m\u001b[1;33m\u001b[0m\u001b[1;33m\u001b[0m\u001b[0m\n",
      "\u001b[1;32m~\\AppData\\Local\\Continuum\\anaconda3\\lib\\site-packages\\tensorflow\\python\\framework\\func_graph.py\u001b[0m in \u001b[0;36mfunc_graph_from_py_func\u001b[1;34m(name, python_func, args, kwargs, signature, func_graph, autograph, autograph_options, add_control_dependencies, arg_names, op_return_value, collections, capture_by_value, override_flat_arg_shapes)\u001b[0m\n\u001b[0;32m    997\u001b[0m         \u001b[0m_\u001b[0m\u001b[1;33m,\u001b[0m \u001b[0moriginal_func\u001b[0m \u001b[1;33m=\u001b[0m \u001b[0mtf_decorator\u001b[0m\u001b[1;33m.\u001b[0m\u001b[0munwrap\u001b[0m\u001b[1;33m(\u001b[0m\u001b[0mpython_func\u001b[0m\u001b[1;33m)\u001b[0m\u001b[1;33m\u001b[0m\u001b[1;33m\u001b[0m\u001b[0m\n\u001b[0;32m    998\u001b[0m \u001b[1;33m\u001b[0m\u001b[0m\n\u001b[1;32m--> 999\u001b[1;33m       \u001b[0mfunc_outputs\u001b[0m \u001b[1;33m=\u001b[0m \u001b[0mpython_func\u001b[0m\u001b[1;33m(\u001b[0m\u001b[1;33m*\u001b[0m\u001b[0mfunc_args\u001b[0m\u001b[1;33m,\u001b[0m \u001b[1;33m**\u001b[0m\u001b[0mfunc_kwargs\u001b[0m\u001b[1;33m)\u001b[0m\u001b[1;33m\u001b[0m\u001b[1;33m\u001b[0m\u001b[0m\n\u001b[0m\u001b[0;32m   1000\u001b[0m \u001b[1;33m\u001b[0m\u001b[0m\n\u001b[0;32m   1001\u001b[0m       \u001b[1;31m# invariant: `func_outputs` contains only Tensors, CompositeTensors,\u001b[0m\u001b[1;33m\u001b[0m\u001b[1;33m\u001b[0m\u001b[1;33m\u001b[0m\u001b[0m\n",
      "\u001b[1;32m~\\AppData\\Local\\Continuum\\anaconda3\\lib\\site-packages\\tensorflow\\python\\eager\\def_function.py\u001b[0m in \u001b[0;36mwrapped_fn\u001b[1;34m(*args, **kwds)\u001b[0m\n\u001b[0;32m    670\u001b[0m         \u001b[1;31m# the function a weak reference to itself to avoid a reference cycle.\u001b[0m\u001b[1;33m\u001b[0m\u001b[1;33m\u001b[0m\u001b[1;33m\u001b[0m\u001b[0m\n\u001b[0;32m    671\u001b[0m         \u001b[1;32mwith\u001b[0m \u001b[0mOptionalXlaContext\u001b[0m\u001b[1;33m(\u001b[0m\u001b[0mcompile_with_xla\u001b[0m\u001b[1;33m)\u001b[0m\u001b[1;33m:\u001b[0m\u001b[1;33m\u001b[0m\u001b[1;33m\u001b[0m\u001b[0m\n\u001b[1;32m--> 672\u001b[1;33m           \u001b[0mout\u001b[0m \u001b[1;33m=\u001b[0m \u001b[0mweak_wrapped_fn\u001b[0m\u001b[1;33m(\u001b[0m\u001b[1;33m)\u001b[0m\u001b[1;33m.\u001b[0m\u001b[0m__wrapped__\u001b[0m\u001b[1;33m(\u001b[0m\u001b[1;33m*\u001b[0m\u001b[0margs\u001b[0m\u001b[1;33m,\u001b[0m \u001b[1;33m**\u001b[0m\u001b[0mkwds\u001b[0m\u001b[1;33m)\u001b[0m\u001b[1;33m\u001b[0m\u001b[1;33m\u001b[0m\u001b[0m\n\u001b[0m\u001b[0;32m    673\u001b[0m         \u001b[1;32mreturn\u001b[0m \u001b[0mout\u001b[0m\u001b[1;33m\u001b[0m\u001b[1;33m\u001b[0m\u001b[0m\n\u001b[0;32m    674\u001b[0m \u001b[1;33m\u001b[0m\u001b[0m\n",
      "\u001b[1;32m~\\AppData\\Local\\Continuum\\anaconda3\\lib\\site-packages\\tensorflow\\python\\framework\\func_graph.py\u001b[0m in \u001b[0;36mwrapper\u001b[1;34m(*args, **kwargs)\u001b[0m\n\u001b[0;32m    984\u001b[0m           \u001b[1;32mexcept\u001b[0m \u001b[0mException\u001b[0m \u001b[1;32mas\u001b[0m \u001b[0me\u001b[0m\u001b[1;33m:\u001b[0m  \u001b[1;31m# pylint:disable=broad-except\u001b[0m\u001b[1;33m\u001b[0m\u001b[1;33m\u001b[0m\u001b[0m\n\u001b[0;32m    985\u001b[0m             \u001b[1;32mif\u001b[0m \u001b[0mhasattr\u001b[0m\u001b[1;33m(\u001b[0m\u001b[0me\u001b[0m\u001b[1;33m,\u001b[0m \u001b[1;34m\"ag_error_metadata\"\u001b[0m\u001b[1;33m)\u001b[0m\u001b[1;33m:\u001b[0m\u001b[1;33m\u001b[0m\u001b[1;33m\u001b[0m\u001b[0m\n\u001b[1;32m--> 986\u001b[1;33m               \u001b[1;32mraise\u001b[0m \u001b[0me\u001b[0m\u001b[1;33m.\u001b[0m\u001b[0mag_error_metadata\u001b[0m\u001b[1;33m.\u001b[0m\u001b[0mto_exception\u001b[0m\u001b[1;33m(\u001b[0m\u001b[0me\u001b[0m\u001b[1;33m)\u001b[0m\u001b[1;33m\u001b[0m\u001b[1;33m\u001b[0m\u001b[0m\n\u001b[0m\u001b[0;32m    987\u001b[0m             \u001b[1;32melse\u001b[0m\u001b[1;33m:\u001b[0m\u001b[1;33m\u001b[0m\u001b[1;33m\u001b[0m\u001b[0m\n\u001b[0;32m    988\u001b[0m               \u001b[1;32mraise\u001b[0m\u001b[1;33m\u001b[0m\u001b[1;33m\u001b[0m\u001b[0m\n",
      "\u001b[1;31mValueError\u001b[0m: in user code:\n\n    C:\\Users\\svetl\\AppData\\Local\\Continuum\\anaconda3\\lib\\site-packages\\tensorflow\\python\\keras\\engine\\training.py:1323 test_function  *\n        return step_function(self, iterator)\n    C:\\Users\\svetl\\AppData\\Local\\Continuum\\anaconda3\\lib\\site-packages\\tensorflow\\python\\keras\\engine\\training.py:1314 step_function  **\n        outputs = model.distribute_strategy.run(run_step, args=(data,))\n    C:\\Users\\svetl\\AppData\\Local\\Continuum\\anaconda3\\lib\\site-packages\\tensorflow\\python\\distribute\\distribute_lib.py:1285 run\n        return self._extended.call_for_each_replica(fn, args=args, kwargs=kwargs)\n    C:\\Users\\svetl\\AppData\\Local\\Continuum\\anaconda3\\lib\\site-packages\\tensorflow\\python\\distribute\\distribute_lib.py:2833 call_for_each_replica\n        return self._call_for_each_replica(fn, args, kwargs)\n    C:\\Users\\svetl\\AppData\\Local\\Continuum\\anaconda3\\lib\\site-packages\\tensorflow\\python\\distribute\\distribute_lib.py:3608 _call_for_each_replica\n        return fn(*args, **kwargs)\n    C:\\Users\\svetl\\AppData\\Local\\Continuum\\anaconda3\\lib\\site-packages\\tensorflow\\python\\keras\\engine\\training.py:1307 run_step  **\n        outputs = model.test_step(data)\n    C:\\Users\\svetl\\AppData\\Local\\Continuum\\anaconda3\\lib\\site-packages\\tensorflow\\python\\keras\\engine\\training.py:1266 test_step\n        y_pred = self(x, training=False)\n    C:\\Users\\svetl\\AppData\\Local\\Continuum\\anaconda3\\lib\\site-packages\\tensorflow\\python\\keras\\engine\\base_layer.py:1013 __call__\n        input_spec.assert_input_compatibility(self.input_spec, inputs, self.name)\n    C:\\Users\\svetl\\AppData\\Local\\Continuum\\anaconda3\\lib\\site-packages\\tensorflow\\python\\keras\\engine\\input_spec.py:203 assert_input_compatibility\n        ' input tensors. Inputs received: ' + str(inputs))\n\n    ValueError: Layer model expects 2 input(s), but it received 1 input tensors. Inputs received: [<tf.Tensor 'IteratorGetNext:0' shape=(None, 128, 3) dtype=float32>]\n"
     ]
    }
   ],
   "source": [
    "model.evaluate(X_test, Y_test)\n",
    "classifications = model.predict(X_test)\n",
    "print(classifications[0])\n",
    "print(Y_test[0])"
   ]
  },
  {
   "cell_type": "code",
   "execution_count": null,
   "metadata": {},
   "outputs": [],
   "source": [
    "pred = model.predict(X_test) \n",
    "pred = tf.keras.backend.argmax(pred, axis = 1)[:5] \n",
    "label = tf.keras.backend.argmax(Y_test,axis = 1)[:5] \n",
    "\n",
    "print(pred) \n",
    "print(label)"
   ]
  },
  {
   "cell_type": "code",
   "execution_count": 38,
   "metadata": {},
   "outputs": [
    {
     "ename": "ValueError",
     "evalue": "in user code:\n\n    C:\\Users\\svetl\\AppData\\Local\\Continuum\\anaconda3\\lib\\site-packages\\tensorflow\\python\\keras\\engine\\training.py:1569 predict_function  *\n        return step_function(self, iterator)\n    C:\\Users\\svetl\\AppData\\Local\\Continuum\\anaconda3\\lib\\site-packages\\tensorflow\\python\\keras\\engine\\training.py:1559 step_function  **\n        outputs = model.distribute_strategy.run(run_step, args=(data,))\n    C:\\Users\\svetl\\AppData\\Local\\Continuum\\anaconda3\\lib\\site-packages\\tensorflow\\python\\distribute\\distribute_lib.py:1285 run\n        return self._extended.call_for_each_replica(fn, args=args, kwargs=kwargs)\n    C:\\Users\\svetl\\AppData\\Local\\Continuum\\anaconda3\\lib\\site-packages\\tensorflow\\python\\distribute\\distribute_lib.py:2833 call_for_each_replica\n        return self._call_for_each_replica(fn, args, kwargs)\n    C:\\Users\\svetl\\AppData\\Local\\Continuum\\anaconda3\\lib\\site-packages\\tensorflow\\python\\distribute\\distribute_lib.py:3608 _call_for_each_replica\n        return fn(*args, **kwargs)\n    C:\\Users\\svetl\\AppData\\Local\\Continuum\\anaconda3\\lib\\site-packages\\tensorflow\\python\\keras\\engine\\training.py:1552 run_step  **\n        outputs = model.predict_step(data)\n    C:\\Users\\svetl\\AppData\\Local\\Continuum\\anaconda3\\lib\\site-packages\\tensorflow\\python\\keras\\engine\\training.py:1525 predict_step\n        return self(x, training=False)\n    C:\\Users\\svetl\\AppData\\Local\\Continuum\\anaconda3\\lib\\site-packages\\tensorflow\\python\\keras\\engine\\base_layer.py:1013 __call__\n        input_spec.assert_input_compatibility(self.input_spec, inputs, self.name)\n    C:\\Users\\svetl\\AppData\\Local\\Continuum\\anaconda3\\lib\\site-packages\\tensorflow\\python\\keras\\engine\\input_spec.py:203 assert_input_compatibility\n        ' input tensors. Inputs received: ' + str(inputs))\n\n    ValueError: Layer model expects 2 input(s), but it received 1 input tensors. Inputs received: [<tf.Tensor 'IteratorGetNext:0' shape=(None, 128, 3) dtype=float32>]\n",
     "output_type": "error",
     "traceback": [
      "\u001b[1;31m---------------------------------------------------------------------------\u001b[0m",
      "\u001b[1;31mValueError\u001b[0m                                Traceback (most recent call last)",
      "\u001b[1;32m<ipython-input-38-219b995e6345>\u001b[0m in \u001b[0;36m<module>\u001b[1;34m\u001b[0m\n\u001b[1;32m----> 1\u001b[1;33m \u001b[0mresult\u001b[0m \u001b[1;33m=\u001b[0m \u001b[0mmodel\u001b[0m\u001b[1;33m.\u001b[0m\u001b[0mpredict\u001b[0m\u001b[1;33m(\u001b[0m\u001b[0mX_test\u001b[0m\u001b[1;33m)\u001b[0m\u001b[1;33m\u001b[0m\u001b[1;33m\u001b[0m\u001b[0m\n\u001b[0m\u001b[0;32m      2\u001b[0m \u001b[0mpred_size\u001b[0m \u001b[1;33m=\u001b[0m \u001b[0mX_train\u001b[0m\u001b[1;33m.\u001b[0m\u001b[0mshape\u001b[0m\u001b[1;33m[\u001b[0m\u001b[1;36m0\u001b[0m\u001b[1;33m]\u001b[0m\u001b[1;33m\u001b[0m\u001b[1;33m\u001b[0m\u001b[0m\n\u001b[0;32m      3\u001b[0m \u001b[0mprint\u001b[0m\u001b[1;33m(\u001b[0m\u001b[0mpred_size\u001b[0m\u001b[1;33m)\u001b[0m\u001b[1;33m\u001b[0m\u001b[1;33m\u001b[0m\u001b[0m\n\u001b[0;32m      4\u001b[0m \u001b[0mpreds\u001b[0m \u001b[1;33m=\u001b[0m \u001b[0mtf\u001b[0m\u001b[1;33m.\u001b[0m\u001b[0mkeras\u001b[0m\u001b[1;33m.\u001b[0m\u001b[0mbackend\u001b[0m\u001b[1;33m.\u001b[0m\u001b[0margmax\u001b[0m\u001b[1;33m(\u001b[0m\u001b[0mresult\u001b[0m\u001b[1;33m,\u001b[0m \u001b[0maxis\u001b[0m\u001b[1;33m=\u001b[0m\u001b[1;36m1\u001b[0m\u001b[1;33m)\u001b[0m\u001b[1;33m\u001b[0m\u001b[1;33m\u001b[0m\u001b[0m\n\u001b[0;32m      5\u001b[0m \u001b[0mpreds\u001b[0m \u001b[1;33m=\u001b[0m \u001b[0mtf\u001b[0m\u001b[1;33m.\u001b[0m\u001b[0mkeras\u001b[0m\u001b[1;33m.\u001b[0m\u001b[0mbackend\u001b[0m\u001b[1;33m.\u001b[0m\u001b[0mone_hot\u001b[0m\u001b[1;33m(\u001b[0m\u001b[0mpreds\u001b[0m\u001b[1;33m,\u001b[0m \u001b[1;36m5\u001b[0m\u001b[1;33m)\u001b[0m\u001b[1;33m\u001b[0m\u001b[1;33m\u001b[0m\u001b[0m\n",
      "\u001b[1;32m~\\AppData\\Local\\Continuum\\anaconda3\\lib\\site-packages\\tensorflow\\python\\keras\\engine\\training.py\u001b[0m in \u001b[0;36mpredict\u001b[1;34m(self, x, batch_size, verbose, steps, callbacks, max_queue_size, workers, use_multiprocessing)\u001b[0m\n\u001b[0;32m   1725\u001b[0m           \u001b[1;32mfor\u001b[0m \u001b[0mstep\u001b[0m \u001b[1;32min\u001b[0m \u001b[0mdata_handler\u001b[0m\u001b[1;33m.\u001b[0m\u001b[0msteps\u001b[0m\u001b[1;33m(\u001b[0m\u001b[1;33m)\u001b[0m\u001b[1;33m:\u001b[0m\u001b[1;33m\u001b[0m\u001b[1;33m\u001b[0m\u001b[0m\n\u001b[0;32m   1726\u001b[0m             \u001b[0mcallbacks\u001b[0m\u001b[1;33m.\u001b[0m\u001b[0mon_predict_batch_begin\u001b[0m\u001b[1;33m(\u001b[0m\u001b[0mstep\u001b[0m\u001b[1;33m)\u001b[0m\u001b[1;33m\u001b[0m\u001b[1;33m\u001b[0m\u001b[0m\n\u001b[1;32m-> 1727\u001b[1;33m             \u001b[0mtmp_batch_outputs\u001b[0m \u001b[1;33m=\u001b[0m \u001b[0mself\u001b[0m\u001b[1;33m.\u001b[0m\u001b[0mpredict_function\u001b[0m\u001b[1;33m(\u001b[0m\u001b[0miterator\u001b[0m\u001b[1;33m)\u001b[0m\u001b[1;33m\u001b[0m\u001b[1;33m\u001b[0m\u001b[0m\n\u001b[0m\u001b[0;32m   1728\u001b[0m             \u001b[1;32mif\u001b[0m \u001b[0mdata_handler\u001b[0m\u001b[1;33m.\u001b[0m\u001b[0mshould_sync\u001b[0m\u001b[1;33m:\u001b[0m\u001b[1;33m\u001b[0m\u001b[1;33m\u001b[0m\u001b[0m\n\u001b[0;32m   1729\u001b[0m               \u001b[0mcontext\u001b[0m\u001b[1;33m.\u001b[0m\u001b[0masync_wait\u001b[0m\u001b[1;33m(\u001b[0m\u001b[1;33m)\u001b[0m\u001b[1;33m\u001b[0m\u001b[1;33m\u001b[0m\u001b[0m\n",
      "\u001b[1;32m~\\AppData\\Local\\Continuum\\anaconda3\\lib\\site-packages\\tensorflow\\python\\eager\\def_function.py\u001b[0m in \u001b[0;36m__call__\u001b[1;34m(self, *args, **kwds)\u001b[0m\n\u001b[0;32m    887\u001b[0m \u001b[1;33m\u001b[0m\u001b[0m\n\u001b[0;32m    888\u001b[0m       \u001b[1;32mwith\u001b[0m \u001b[0mOptionalXlaContext\u001b[0m\u001b[1;33m(\u001b[0m\u001b[0mself\u001b[0m\u001b[1;33m.\u001b[0m\u001b[0m_jit_compile\u001b[0m\u001b[1;33m)\u001b[0m\u001b[1;33m:\u001b[0m\u001b[1;33m\u001b[0m\u001b[1;33m\u001b[0m\u001b[0m\n\u001b[1;32m--> 889\u001b[1;33m         \u001b[0mresult\u001b[0m \u001b[1;33m=\u001b[0m \u001b[0mself\u001b[0m\u001b[1;33m.\u001b[0m\u001b[0m_call\u001b[0m\u001b[1;33m(\u001b[0m\u001b[1;33m*\u001b[0m\u001b[0margs\u001b[0m\u001b[1;33m,\u001b[0m \u001b[1;33m**\u001b[0m\u001b[0mkwds\u001b[0m\u001b[1;33m)\u001b[0m\u001b[1;33m\u001b[0m\u001b[1;33m\u001b[0m\u001b[0m\n\u001b[0m\u001b[0;32m    890\u001b[0m \u001b[1;33m\u001b[0m\u001b[0m\n\u001b[0;32m    891\u001b[0m       \u001b[0mnew_tracing_count\u001b[0m \u001b[1;33m=\u001b[0m \u001b[0mself\u001b[0m\u001b[1;33m.\u001b[0m\u001b[0mexperimental_get_tracing_count\u001b[0m\u001b[1;33m(\u001b[0m\u001b[1;33m)\u001b[0m\u001b[1;33m\u001b[0m\u001b[1;33m\u001b[0m\u001b[0m\n",
      "\u001b[1;32m~\\AppData\\Local\\Continuum\\anaconda3\\lib\\site-packages\\tensorflow\\python\\eager\\def_function.py\u001b[0m in \u001b[0;36m_call\u001b[1;34m(self, *args, **kwds)\u001b[0m\n\u001b[0;32m    931\u001b[0m       \u001b[1;31m# This is the first call of __call__, so we have to initialize.\u001b[0m\u001b[1;33m\u001b[0m\u001b[1;33m\u001b[0m\u001b[1;33m\u001b[0m\u001b[0m\n\u001b[0;32m    932\u001b[0m       \u001b[0minitializers\u001b[0m \u001b[1;33m=\u001b[0m \u001b[1;33m[\u001b[0m\u001b[1;33m]\u001b[0m\u001b[1;33m\u001b[0m\u001b[1;33m\u001b[0m\u001b[0m\n\u001b[1;32m--> 933\u001b[1;33m       \u001b[0mself\u001b[0m\u001b[1;33m.\u001b[0m\u001b[0m_initialize\u001b[0m\u001b[1;33m(\u001b[0m\u001b[0margs\u001b[0m\u001b[1;33m,\u001b[0m \u001b[0mkwds\u001b[0m\u001b[1;33m,\u001b[0m \u001b[0madd_initializers_to\u001b[0m\u001b[1;33m=\u001b[0m\u001b[0minitializers\u001b[0m\u001b[1;33m)\u001b[0m\u001b[1;33m\u001b[0m\u001b[1;33m\u001b[0m\u001b[0m\n\u001b[0m\u001b[0;32m    934\u001b[0m     \u001b[1;32mfinally\u001b[0m\u001b[1;33m:\u001b[0m\u001b[1;33m\u001b[0m\u001b[1;33m\u001b[0m\u001b[0m\n\u001b[0;32m    935\u001b[0m       \u001b[1;31m# At this point we know that the initialization is complete (or less\u001b[0m\u001b[1;33m\u001b[0m\u001b[1;33m\u001b[0m\u001b[1;33m\u001b[0m\u001b[0m\n",
      "\u001b[1;32m~\\AppData\\Local\\Continuum\\anaconda3\\lib\\site-packages\\tensorflow\\python\\eager\\def_function.py\u001b[0m in \u001b[0;36m_initialize\u001b[1;34m(self, args, kwds, add_initializers_to)\u001b[0m\n\u001b[0;32m    762\u001b[0m     self._concrete_stateful_fn = (\n\u001b[0;32m    763\u001b[0m         self._stateful_fn._get_concrete_function_internal_garbage_collected(  # pylint: disable=protected-access\n\u001b[1;32m--> 764\u001b[1;33m             *args, **kwds))\n\u001b[0m\u001b[0;32m    765\u001b[0m \u001b[1;33m\u001b[0m\u001b[0m\n\u001b[0;32m    766\u001b[0m     \u001b[1;32mdef\u001b[0m \u001b[0minvalid_creator_scope\u001b[0m\u001b[1;33m(\u001b[0m\u001b[1;33m*\u001b[0m\u001b[0munused_args\u001b[0m\u001b[1;33m,\u001b[0m \u001b[1;33m**\u001b[0m\u001b[0munused_kwds\u001b[0m\u001b[1;33m)\u001b[0m\u001b[1;33m:\u001b[0m\u001b[1;33m\u001b[0m\u001b[1;33m\u001b[0m\u001b[0m\n",
      "\u001b[1;32m~\\AppData\\Local\\Continuum\\anaconda3\\lib\\site-packages\\tensorflow\\python\\eager\\function.py\u001b[0m in \u001b[0;36m_get_concrete_function_internal_garbage_collected\u001b[1;34m(self, *args, **kwargs)\u001b[0m\n\u001b[0;32m   3048\u001b[0m       \u001b[0margs\u001b[0m\u001b[1;33m,\u001b[0m \u001b[0mkwargs\u001b[0m \u001b[1;33m=\u001b[0m \u001b[1;32mNone\u001b[0m\u001b[1;33m,\u001b[0m \u001b[1;32mNone\u001b[0m\u001b[1;33m\u001b[0m\u001b[1;33m\u001b[0m\u001b[0m\n\u001b[0;32m   3049\u001b[0m     \u001b[1;32mwith\u001b[0m \u001b[0mself\u001b[0m\u001b[1;33m.\u001b[0m\u001b[0m_lock\u001b[0m\u001b[1;33m:\u001b[0m\u001b[1;33m\u001b[0m\u001b[1;33m\u001b[0m\u001b[0m\n\u001b[1;32m-> 3050\u001b[1;33m       \u001b[0mgraph_function\u001b[0m\u001b[1;33m,\u001b[0m \u001b[0m_\u001b[0m \u001b[1;33m=\u001b[0m \u001b[0mself\u001b[0m\u001b[1;33m.\u001b[0m\u001b[0m_maybe_define_function\u001b[0m\u001b[1;33m(\u001b[0m\u001b[0margs\u001b[0m\u001b[1;33m,\u001b[0m \u001b[0mkwargs\u001b[0m\u001b[1;33m)\u001b[0m\u001b[1;33m\u001b[0m\u001b[1;33m\u001b[0m\u001b[0m\n\u001b[0m\u001b[0;32m   3051\u001b[0m     \u001b[1;32mreturn\u001b[0m \u001b[0mgraph_function\u001b[0m\u001b[1;33m\u001b[0m\u001b[1;33m\u001b[0m\u001b[0m\n\u001b[0;32m   3052\u001b[0m \u001b[1;33m\u001b[0m\u001b[0m\n",
      "\u001b[1;32m~\\AppData\\Local\\Continuum\\anaconda3\\lib\\site-packages\\tensorflow\\python\\eager\\function.py\u001b[0m in \u001b[0;36m_maybe_define_function\u001b[1;34m(self, args, kwargs)\u001b[0m\n\u001b[0;32m   3442\u001b[0m \u001b[1;33m\u001b[0m\u001b[0m\n\u001b[0;32m   3443\u001b[0m           \u001b[0mself\u001b[0m\u001b[1;33m.\u001b[0m\u001b[0m_function_cache\u001b[0m\u001b[1;33m.\u001b[0m\u001b[0mmissed\u001b[0m\u001b[1;33m.\u001b[0m\u001b[0madd\u001b[0m\u001b[1;33m(\u001b[0m\u001b[0mcall_context_key\u001b[0m\u001b[1;33m)\u001b[0m\u001b[1;33m\u001b[0m\u001b[1;33m\u001b[0m\u001b[0m\n\u001b[1;32m-> 3444\u001b[1;33m           \u001b[0mgraph_function\u001b[0m \u001b[1;33m=\u001b[0m \u001b[0mself\u001b[0m\u001b[1;33m.\u001b[0m\u001b[0m_create_graph_function\u001b[0m\u001b[1;33m(\u001b[0m\u001b[0margs\u001b[0m\u001b[1;33m,\u001b[0m \u001b[0mkwargs\u001b[0m\u001b[1;33m)\u001b[0m\u001b[1;33m\u001b[0m\u001b[1;33m\u001b[0m\u001b[0m\n\u001b[0m\u001b[0;32m   3445\u001b[0m           \u001b[0mself\u001b[0m\u001b[1;33m.\u001b[0m\u001b[0m_function_cache\u001b[0m\u001b[1;33m.\u001b[0m\u001b[0mprimary\u001b[0m\u001b[1;33m[\u001b[0m\u001b[0mcache_key\u001b[0m\u001b[1;33m]\u001b[0m \u001b[1;33m=\u001b[0m \u001b[0mgraph_function\u001b[0m\u001b[1;33m\u001b[0m\u001b[1;33m\u001b[0m\u001b[0m\n\u001b[0;32m   3446\u001b[0m \u001b[1;33m\u001b[0m\u001b[0m\n",
      "\u001b[1;32m~\\AppData\\Local\\Continuum\\anaconda3\\lib\\site-packages\\tensorflow\\python\\eager\\function.py\u001b[0m in \u001b[0;36m_create_graph_function\u001b[1;34m(self, args, kwargs, override_flat_arg_shapes)\u001b[0m\n\u001b[0;32m   3287\u001b[0m             \u001b[0marg_names\u001b[0m\u001b[1;33m=\u001b[0m\u001b[0marg_names\u001b[0m\u001b[1;33m,\u001b[0m\u001b[1;33m\u001b[0m\u001b[1;33m\u001b[0m\u001b[0m\n\u001b[0;32m   3288\u001b[0m             \u001b[0moverride_flat_arg_shapes\u001b[0m\u001b[1;33m=\u001b[0m\u001b[0moverride_flat_arg_shapes\u001b[0m\u001b[1;33m,\u001b[0m\u001b[1;33m\u001b[0m\u001b[1;33m\u001b[0m\u001b[0m\n\u001b[1;32m-> 3289\u001b[1;33m             capture_by_value=self._capture_by_value),\n\u001b[0m\u001b[0;32m   3290\u001b[0m         \u001b[0mself\u001b[0m\u001b[1;33m.\u001b[0m\u001b[0m_function_attributes\u001b[0m\u001b[1;33m,\u001b[0m\u001b[1;33m\u001b[0m\u001b[1;33m\u001b[0m\u001b[0m\n\u001b[0;32m   3291\u001b[0m         \u001b[0mfunction_spec\u001b[0m\u001b[1;33m=\u001b[0m\u001b[0mself\u001b[0m\u001b[1;33m.\u001b[0m\u001b[0mfunction_spec\u001b[0m\u001b[1;33m,\u001b[0m\u001b[1;33m\u001b[0m\u001b[1;33m\u001b[0m\u001b[0m\n",
      "\u001b[1;32m~\\AppData\\Local\\Continuum\\anaconda3\\lib\\site-packages\\tensorflow\\python\\framework\\func_graph.py\u001b[0m in \u001b[0;36mfunc_graph_from_py_func\u001b[1;34m(name, python_func, args, kwargs, signature, func_graph, autograph, autograph_options, add_control_dependencies, arg_names, op_return_value, collections, capture_by_value, override_flat_arg_shapes)\u001b[0m\n\u001b[0;32m    997\u001b[0m         \u001b[0m_\u001b[0m\u001b[1;33m,\u001b[0m \u001b[0moriginal_func\u001b[0m \u001b[1;33m=\u001b[0m \u001b[0mtf_decorator\u001b[0m\u001b[1;33m.\u001b[0m\u001b[0munwrap\u001b[0m\u001b[1;33m(\u001b[0m\u001b[0mpython_func\u001b[0m\u001b[1;33m)\u001b[0m\u001b[1;33m\u001b[0m\u001b[1;33m\u001b[0m\u001b[0m\n\u001b[0;32m    998\u001b[0m \u001b[1;33m\u001b[0m\u001b[0m\n\u001b[1;32m--> 999\u001b[1;33m       \u001b[0mfunc_outputs\u001b[0m \u001b[1;33m=\u001b[0m \u001b[0mpython_func\u001b[0m\u001b[1;33m(\u001b[0m\u001b[1;33m*\u001b[0m\u001b[0mfunc_args\u001b[0m\u001b[1;33m,\u001b[0m \u001b[1;33m**\u001b[0m\u001b[0mfunc_kwargs\u001b[0m\u001b[1;33m)\u001b[0m\u001b[1;33m\u001b[0m\u001b[1;33m\u001b[0m\u001b[0m\n\u001b[0m\u001b[0;32m   1000\u001b[0m \u001b[1;33m\u001b[0m\u001b[0m\n\u001b[0;32m   1001\u001b[0m       \u001b[1;31m# invariant: `func_outputs` contains only Tensors, CompositeTensors,\u001b[0m\u001b[1;33m\u001b[0m\u001b[1;33m\u001b[0m\u001b[1;33m\u001b[0m\u001b[0m\n",
      "\u001b[1;32m~\\AppData\\Local\\Continuum\\anaconda3\\lib\\site-packages\\tensorflow\\python\\eager\\def_function.py\u001b[0m in \u001b[0;36mwrapped_fn\u001b[1;34m(*args, **kwds)\u001b[0m\n\u001b[0;32m    670\u001b[0m         \u001b[1;31m# the function a weak reference to itself to avoid a reference cycle.\u001b[0m\u001b[1;33m\u001b[0m\u001b[1;33m\u001b[0m\u001b[1;33m\u001b[0m\u001b[0m\n\u001b[0;32m    671\u001b[0m         \u001b[1;32mwith\u001b[0m \u001b[0mOptionalXlaContext\u001b[0m\u001b[1;33m(\u001b[0m\u001b[0mcompile_with_xla\u001b[0m\u001b[1;33m)\u001b[0m\u001b[1;33m:\u001b[0m\u001b[1;33m\u001b[0m\u001b[1;33m\u001b[0m\u001b[0m\n\u001b[1;32m--> 672\u001b[1;33m           \u001b[0mout\u001b[0m \u001b[1;33m=\u001b[0m \u001b[0mweak_wrapped_fn\u001b[0m\u001b[1;33m(\u001b[0m\u001b[1;33m)\u001b[0m\u001b[1;33m.\u001b[0m\u001b[0m__wrapped__\u001b[0m\u001b[1;33m(\u001b[0m\u001b[1;33m*\u001b[0m\u001b[0margs\u001b[0m\u001b[1;33m,\u001b[0m \u001b[1;33m**\u001b[0m\u001b[0mkwds\u001b[0m\u001b[1;33m)\u001b[0m\u001b[1;33m\u001b[0m\u001b[1;33m\u001b[0m\u001b[0m\n\u001b[0m\u001b[0;32m    673\u001b[0m         \u001b[1;32mreturn\u001b[0m \u001b[0mout\u001b[0m\u001b[1;33m\u001b[0m\u001b[1;33m\u001b[0m\u001b[0m\n\u001b[0;32m    674\u001b[0m \u001b[1;33m\u001b[0m\u001b[0m\n",
      "\u001b[1;32m~\\AppData\\Local\\Continuum\\anaconda3\\lib\\site-packages\\tensorflow\\python\\framework\\func_graph.py\u001b[0m in \u001b[0;36mwrapper\u001b[1;34m(*args, **kwargs)\u001b[0m\n\u001b[0;32m    984\u001b[0m           \u001b[1;32mexcept\u001b[0m \u001b[0mException\u001b[0m \u001b[1;32mas\u001b[0m \u001b[0me\u001b[0m\u001b[1;33m:\u001b[0m  \u001b[1;31m# pylint:disable=broad-except\u001b[0m\u001b[1;33m\u001b[0m\u001b[1;33m\u001b[0m\u001b[0m\n\u001b[0;32m    985\u001b[0m             \u001b[1;32mif\u001b[0m \u001b[0mhasattr\u001b[0m\u001b[1;33m(\u001b[0m\u001b[0me\u001b[0m\u001b[1;33m,\u001b[0m \u001b[1;34m\"ag_error_metadata\"\u001b[0m\u001b[1;33m)\u001b[0m\u001b[1;33m:\u001b[0m\u001b[1;33m\u001b[0m\u001b[1;33m\u001b[0m\u001b[0m\n\u001b[1;32m--> 986\u001b[1;33m               \u001b[1;32mraise\u001b[0m \u001b[0me\u001b[0m\u001b[1;33m.\u001b[0m\u001b[0mag_error_metadata\u001b[0m\u001b[1;33m.\u001b[0m\u001b[0mto_exception\u001b[0m\u001b[1;33m(\u001b[0m\u001b[0me\u001b[0m\u001b[1;33m)\u001b[0m\u001b[1;33m\u001b[0m\u001b[1;33m\u001b[0m\u001b[0m\n\u001b[0m\u001b[0;32m    987\u001b[0m             \u001b[1;32melse\u001b[0m\u001b[1;33m:\u001b[0m\u001b[1;33m\u001b[0m\u001b[1;33m\u001b[0m\u001b[0m\n\u001b[0;32m    988\u001b[0m               \u001b[1;32mraise\u001b[0m\u001b[1;33m\u001b[0m\u001b[1;33m\u001b[0m\u001b[0m\n",
      "\u001b[1;31mValueError\u001b[0m: in user code:\n\n    C:\\Users\\svetl\\AppData\\Local\\Continuum\\anaconda3\\lib\\site-packages\\tensorflow\\python\\keras\\engine\\training.py:1569 predict_function  *\n        return step_function(self, iterator)\n    C:\\Users\\svetl\\AppData\\Local\\Continuum\\anaconda3\\lib\\site-packages\\tensorflow\\python\\keras\\engine\\training.py:1559 step_function  **\n        outputs = model.distribute_strategy.run(run_step, args=(data,))\n    C:\\Users\\svetl\\AppData\\Local\\Continuum\\anaconda3\\lib\\site-packages\\tensorflow\\python\\distribute\\distribute_lib.py:1285 run\n        return self._extended.call_for_each_replica(fn, args=args, kwargs=kwargs)\n    C:\\Users\\svetl\\AppData\\Local\\Continuum\\anaconda3\\lib\\site-packages\\tensorflow\\python\\distribute\\distribute_lib.py:2833 call_for_each_replica\n        return self._call_for_each_replica(fn, args, kwargs)\n    C:\\Users\\svetl\\AppData\\Local\\Continuum\\anaconda3\\lib\\site-packages\\tensorflow\\python\\distribute\\distribute_lib.py:3608 _call_for_each_replica\n        return fn(*args, **kwargs)\n    C:\\Users\\svetl\\AppData\\Local\\Continuum\\anaconda3\\lib\\site-packages\\tensorflow\\python\\keras\\engine\\training.py:1552 run_step  **\n        outputs = model.predict_step(data)\n    C:\\Users\\svetl\\AppData\\Local\\Continuum\\anaconda3\\lib\\site-packages\\tensorflow\\python\\keras\\engine\\training.py:1525 predict_step\n        return self(x, training=False)\n    C:\\Users\\svetl\\AppData\\Local\\Continuum\\anaconda3\\lib\\site-packages\\tensorflow\\python\\keras\\engine\\base_layer.py:1013 __call__\n        input_spec.assert_input_compatibility(self.input_spec, inputs, self.name)\n    C:\\Users\\svetl\\AppData\\Local\\Continuum\\anaconda3\\lib\\site-packages\\tensorflow\\python\\keras\\engine\\input_spec.py:203 assert_input_compatibility\n        ' input tensors. Inputs received: ' + str(inputs))\n\n    ValueError: Layer model expects 2 input(s), but it received 1 input tensors. Inputs received: [<tf.Tensor 'IteratorGetNext:0' shape=(None, 128, 3) dtype=float32>]\n"
     ]
    }
   ],
   "source": [
    "result = model.predict(X_test)\n",
    "pred_size = X_train.shape[0]\n",
    "print(pred_size)\n",
    "preds = tf.keras.backend.argmax(result, axis=1)\n",
    "preds = tf.keras.backend.one_hot(preds, 5)\n",
    "print(preds)\n",
    "\n",
    "print(\"\\nTrue positives per classes:\")\n",
    "for i in range(5):\n",
    "    m = tf.keras.metrics.TruePositives(name='tp')    \n",
    "    m.update_state(Y_test[:, i], preds[:, i])\n",
    "    print(\"Class {} true positives: {}\".format(i, m.result()))"
   ]
  },
  {
   "cell_type": "code",
   "execution_count": 33,
   "metadata": {},
   "outputs": [
    {
     "ename": "ValueError",
     "evalue": "in user code:\n\n    C:\\Users\\svetl\\AppData\\Local\\Continuum\\anaconda3\\lib\\site-packages\\tensorflow\\python\\keras\\engine\\training.py:1569 predict_function  *\n        return step_function(self, iterator)\n    C:\\Users\\svetl\\AppData\\Local\\Continuum\\anaconda3\\lib\\site-packages\\tensorflow\\python\\keras\\engine\\training.py:1559 step_function  **\n        outputs = model.distribute_strategy.run(run_step, args=(data,))\n    C:\\Users\\svetl\\AppData\\Local\\Continuum\\anaconda3\\lib\\site-packages\\tensorflow\\python\\distribute\\distribute_lib.py:1285 run\n        return self._extended.call_for_each_replica(fn, args=args, kwargs=kwargs)\n    C:\\Users\\svetl\\AppData\\Local\\Continuum\\anaconda3\\lib\\site-packages\\tensorflow\\python\\distribute\\distribute_lib.py:2833 call_for_each_replica\n        return self._call_for_each_replica(fn, args, kwargs)\n    C:\\Users\\svetl\\AppData\\Local\\Continuum\\anaconda3\\lib\\site-packages\\tensorflow\\python\\distribute\\distribute_lib.py:3608 _call_for_each_replica\n        return fn(*args, **kwargs)\n    C:\\Users\\svetl\\AppData\\Local\\Continuum\\anaconda3\\lib\\site-packages\\tensorflow\\python\\keras\\engine\\training.py:1552 run_step  **\n        outputs = model.predict_step(data)\n    C:\\Users\\svetl\\AppData\\Local\\Continuum\\anaconda3\\lib\\site-packages\\tensorflow\\python\\keras\\engine\\training.py:1525 predict_step\n        return self(x, training=False)\n    C:\\Users\\svetl\\AppData\\Local\\Continuum\\anaconda3\\lib\\site-packages\\tensorflow\\python\\keras\\engine\\base_layer.py:1013 __call__\n        input_spec.assert_input_compatibility(self.input_spec, inputs, self.name)\n    C:\\Users\\svetl\\AppData\\Local\\Continuum\\anaconda3\\lib\\site-packages\\tensorflow\\python\\keras\\engine\\input_spec.py:203 assert_input_compatibility\n        ' input tensors. Inputs received: ' + str(inputs))\n\n    ValueError: Layer model expects 2 input(s), but it received 1 input tensors. Inputs received: [<tf.Tensor 'IteratorGetNext:0' shape=(None, 128, 3) dtype=float32>]\n",
     "output_type": "error",
     "traceback": [
      "\u001b[1;31m---------------------------------------------------------------------------\u001b[0m",
      "\u001b[1;31mValueError\u001b[0m                                Traceback (most recent call last)",
      "\u001b[1;32m<ipython-input-33-00bd9e42b299>\u001b[0m in \u001b[0;36m<module>\u001b[1;34m\u001b[0m\n\u001b[1;32m----> 1\u001b[1;33m \u001b[0mpred\u001b[0m \u001b[1;33m=\u001b[0m \u001b[0mmodel\u001b[0m\u001b[1;33m.\u001b[0m\u001b[0mpredict\u001b[0m\u001b[1;33m(\u001b[0m\u001b[0mX_test\u001b[0m\u001b[1;33m)\u001b[0m\u001b[1;33m\u001b[0m\u001b[1;33m\u001b[0m\u001b[0m\n\u001b[0m\u001b[0;32m      2\u001b[0m \u001b[0mpred_size\u001b[0m \u001b[1;33m=\u001b[0m \u001b[0mX_train\u001b[0m\u001b[1;33m.\u001b[0m\u001b[0mshape\u001b[0m\u001b[1;33m[\u001b[0m\u001b[1;36m0\u001b[0m\u001b[1;33m]\u001b[0m\u001b[1;33m\u001b[0m\u001b[1;33m\u001b[0m\u001b[0m\n\u001b[0;32m      3\u001b[0m \u001b[0mprint\u001b[0m\u001b[1;33m(\u001b[0m\u001b[0mpred_size\u001b[0m\u001b[1;33m)\u001b[0m\u001b[1;33m\u001b[0m\u001b[1;33m\u001b[0m\u001b[0m\n\u001b[0;32m      4\u001b[0m \u001b[1;31m#pred = tf.keras.backend.argmax(pred, axis = 1)\u001b[0m\u001b[1;33m\u001b[0m\u001b[1;33m\u001b[0m\u001b[1;33m\u001b[0m\u001b[0m\n\u001b[0;32m      5\u001b[0m \u001b[1;31m#label = tf.keras.backend.argmax(Y_test,axis = 1)\u001b[0m\u001b[1;33m\u001b[0m\u001b[1;33m\u001b[0m\u001b[1;33m\u001b[0m\u001b[0m\n",
      "\u001b[1;32m~\\AppData\\Local\\Continuum\\anaconda3\\lib\\site-packages\\tensorflow\\python\\keras\\engine\\training.py\u001b[0m in \u001b[0;36mpredict\u001b[1;34m(self, x, batch_size, verbose, steps, callbacks, max_queue_size, workers, use_multiprocessing)\u001b[0m\n\u001b[0;32m   1725\u001b[0m           \u001b[1;32mfor\u001b[0m \u001b[0mstep\u001b[0m \u001b[1;32min\u001b[0m \u001b[0mdata_handler\u001b[0m\u001b[1;33m.\u001b[0m\u001b[0msteps\u001b[0m\u001b[1;33m(\u001b[0m\u001b[1;33m)\u001b[0m\u001b[1;33m:\u001b[0m\u001b[1;33m\u001b[0m\u001b[1;33m\u001b[0m\u001b[0m\n\u001b[0;32m   1726\u001b[0m             \u001b[0mcallbacks\u001b[0m\u001b[1;33m.\u001b[0m\u001b[0mon_predict_batch_begin\u001b[0m\u001b[1;33m(\u001b[0m\u001b[0mstep\u001b[0m\u001b[1;33m)\u001b[0m\u001b[1;33m\u001b[0m\u001b[1;33m\u001b[0m\u001b[0m\n\u001b[1;32m-> 1727\u001b[1;33m             \u001b[0mtmp_batch_outputs\u001b[0m \u001b[1;33m=\u001b[0m \u001b[0mself\u001b[0m\u001b[1;33m.\u001b[0m\u001b[0mpredict_function\u001b[0m\u001b[1;33m(\u001b[0m\u001b[0miterator\u001b[0m\u001b[1;33m)\u001b[0m\u001b[1;33m\u001b[0m\u001b[1;33m\u001b[0m\u001b[0m\n\u001b[0m\u001b[0;32m   1728\u001b[0m             \u001b[1;32mif\u001b[0m \u001b[0mdata_handler\u001b[0m\u001b[1;33m.\u001b[0m\u001b[0mshould_sync\u001b[0m\u001b[1;33m:\u001b[0m\u001b[1;33m\u001b[0m\u001b[1;33m\u001b[0m\u001b[0m\n\u001b[0;32m   1729\u001b[0m               \u001b[0mcontext\u001b[0m\u001b[1;33m.\u001b[0m\u001b[0masync_wait\u001b[0m\u001b[1;33m(\u001b[0m\u001b[1;33m)\u001b[0m\u001b[1;33m\u001b[0m\u001b[1;33m\u001b[0m\u001b[0m\n",
      "\u001b[1;32m~\\AppData\\Local\\Continuum\\anaconda3\\lib\\site-packages\\tensorflow\\python\\eager\\def_function.py\u001b[0m in \u001b[0;36m__call__\u001b[1;34m(self, *args, **kwds)\u001b[0m\n\u001b[0;32m    887\u001b[0m \u001b[1;33m\u001b[0m\u001b[0m\n\u001b[0;32m    888\u001b[0m       \u001b[1;32mwith\u001b[0m \u001b[0mOptionalXlaContext\u001b[0m\u001b[1;33m(\u001b[0m\u001b[0mself\u001b[0m\u001b[1;33m.\u001b[0m\u001b[0m_jit_compile\u001b[0m\u001b[1;33m)\u001b[0m\u001b[1;33m:\u001b[0m\u001b[1;33m\u001b[0m\u001b[1;33m\u001b[0m\u001b[0m\n\u001b[1;32m--> 889\u001b[1;33m         \u001b[0mresult\u001b[0m \u001b[1;33m=\u001b[0m \u001b[0mself\u001b[0m\u001b[1;33m.\u001b[0m\u001b[0m_call\u001b[0m\u001b[1;33m(\u001b[0m\u001b[1;33m*\u001b[0m\u001b[0margs\u001b[0m\u001b[1;33m,\u001b[0m \u001b[1;33m**\u001b[0m\u001b[0mkwds\u001b[0m\u001b[1;33m)\u001b[0m\u001b[1;33m\u001b[0m\u001b[1;33m\u001b[0m\u001b[0m\n\u001b[0m\u001b[0;32m    890\u001b[0m \u001b[1;33m\u001b[0m\u001b[0m\n\u001b[0;32m    891\u001b[0m       \u001b[0mnew_tracing_count\u001b[0m \u001b[1;33m=\u001b[0m \u001b[0mself\u001b[0m\u001b[1;33m.\u001b[0m\u001b[0mexperimental_get_tracing_count\u001b[0m\u001b[1;33m(\u001b[0m\u001b[1;33m)\u001b[0m\u001b[1;33m\u001b[0m\u001b[1;33m\u001b[0m\u001b[0m\n",
      "\u001b[1;32m~\\AppData\\Local\\Continuum\\anaconda3\\lib\\site-packages\\tensorflow\\python\\eager\\def_function.py\u001b[0m in \u001b[0;36m_call\u001b[1;34m(self, *args, **kwds)\u001b[0m\n\u001b[0;32m    931\u001b[0m       \u001b[1;31m# This is the first call of __call__, so we have to initialize.\u001b[0m\u001b[1;33m\u001b[0m\u001b[1;33m\u001b[0m\u001b[1;33m\u001b[0m\u001b[0m\n\u001b[0;32m    932\u001b[0m       \u001b[0minitializers\u001b[0m \u001b[1;33m=\u001b[0m \u001b[1;33m[\u001b[0m\u001b[1;33m]\u001b[0m\u001b[1;33m\u001b[0m\u001b[1;33m\u001b[0m\u001b[0m\n\u001b[1;32m--> 933\u001b[1;33m       \u001b[0mself\u001b[0m\u001b[1;33m.\u001b[0m\u001b[0m_initialize\u001b[0m\u001b[1;33m(\u001b[0m\u001b[0margs\u001b[0m\u001b[1;33m,\u001b[0m \u001b[0mkwds\u001b[0m\u001b[1;33m,\u001b[0m \u001b[0madd_initializers_to\u001b[0m\u001b[1;33m=\u001b[0m\u001b[0minitializers\u001b[0m\u001b[1;33m)\u001b[0m\u001b[1;33m\u001b[0m\u001b[1;33m\u001b[0m\u001b[0m\n\u001b[0m\u001b[0;32m    934\u001b[0m     \u001b[1;32mfinally\u001b[0m\u001b[1;33m:\u001b[0m\u001b[1;33m\u001b[0m\u001b[1;33m\u001b[0m\u001b[0m\n\u001b[0;32m    935\u001b[0m       \u001b[1;31m# At this point we know that the initialization is complete (or less\u001b[0m\u001b[1;33m\u001b[0m\u001b[1;33m\u001b[0m\u001b[1;33m\u001b[0m\u001b[0m\n",
      "\u001b[1;32m~\\AppData\\Local\\Continuum\\anaconda3\\lib\\site-packages\\tensorflow\\python\\eager\\def_function.py\u001b[0m in \u001b[0;36m_initialize\u001b[1;34m(self, args, kwds, add_initializers_to)\u001b[0m\n\u001b[0;32m    762\u001b[0m     self._concrete_stateful_fn = (\n\u001b[0;32m    763\u001b[0m         self._stateful_fn._get_concrete_function_internal_garbage_collected(  # pylint: disable=protected-access\n\u001b[1;32m--> 764\u001b[1;33m             *args, **kwds))\n\u001b[0m\u001b[0;32m    765\u001b[0m \u001b[1;33m\u001b[0m\u001b[0m\n\u001b[0;32m    766\u001b[0m     \u001b[1;32mdef\u001b[0m \u001b[0minvalid_creator_scope\u001b[0m\u001b[1;33m(\u001b[0m\u001b[1;33m*\u001b[0m\u001b[0munused_args\u001b[0m\u001b[1;33m,\u001b[0m \u001b[1;33m**\u001b[0m\u001b[0munused_kwds\u001b[0m\u001b[1;33m)\u001b[0m\u001b[1;33m:\u001b[0m\u001b[1;33m\u001b[0m\u001b[1;33m\u001b[0m\u001b[0m\n",
      "\u001b[1;32m~\\AppData\\Local\\Continuum\\anaconda3\\lib\\site-packages\\tensorflow\\python\\eager\\function.py\u001b[0m in \u001b[0;36m_get_concrete_function_internal_garbage_collected\u001b[1;34m(self, *args, **kwargs)\u001b[0m\n\u001b[0;32m   3048\u001b[0m       \u001b[0margs\u001b[0m\u001b[1;33m,\u001b[0m \u001b[0mkwargs\u001b[0m \u001b[1;33m=\u001b[0m \u001b[1;32mNone\u001b[0m\u001b[1;33m,\u001b[0m \u001b[1;32mNone\u001b[0m\u001b[1;33m\u001b[0m\u001b[1;33m\u001b[0m\u001b[0m\n\u001b[0;32m   3049\u001b[0m     \u001b[1;32mwith\u001b[0m \u001b[0mself\u001b[0m\u001b[1;33m.\u001b[0m\u001b[0m_lock\u001b[0m\u001b[1;33m:\u001b[0m\u001b[1;33m\u001b[0m\u001b[1;33m\u001b[0m\u001b[0m\n\u001b[1;32m-> 3050\u001b[1;33m       \u001b[0mgraph_function\u001b[0m\u001b[1;33m,\u001b[0m \u001b[0m_\u001b[0m \u001b[1;33m=\u001b[0m \u001b[0mself\u001b[0m\u001b[1;33m.\u001b[0m\u001b[0m_maybe_define_function\u001b[0m\u001b[1;33m(\u001b[0m\u001b[0margs\u001b[0m\u001b[1;33m,\u001b[0m \u001b[0mkwargs\u001b[0m\u001b[1;33m)\u001b[0m\u001b[1;33m\u001b[0m\u001b[1;33m\u001b[0m\u001b[0m\n\u001b[0m\u001b[0;32m   3051\u001b[0m     \u001b[1;32mreturn\u001b[0m \u001b[0mgraph_function\u001b[0m\u001b[1;33m\u001b[0m\u001b[1;33m\u001b[0m\u001b[0m\n\u001b[0;32m   3052\u001b[0m \u001b[1;33m\u001b[0m\u001b[0m\n",
      "\u001b[1;32m~\\AppData\\Local\\Continuum\\anaconda3\\lib\\site-packages\\tensorflow\\python\\eager\\function.py\u001b[0m in \u001b[0;36m_maybe_define_function\u001b[1;34m(self, args, kwargs)\u001b[0m\n\u001b[0;32m   3442\u001b[0m \u001b[1;33m\u001b[0m\u001b[0m\n\u001b[0;32m   3443\u001b[0m           \u001b[0mself\u001b[0m\u001b[1;33m.\u001b[0m\u001b[0m_function_cache\u001b[0m\u001b[1;33m.\u001b[0m\u001b[0mmissed\u001b[0m\u001b[1;33m.\u001b[0m\u001b[0madd\u001b[0m\u001b[1;33m(\u001b[0m\u001b[0mcall_context_key\u001b[0m\u001b[1;33m)\u001b[0m\u001b[1;33m\u001b[0m\u001b[1;33m\u001b[0m\u001b[0m\n\u001b[1;32m-> 3444\u001b[1;33m           \u001b[0mgraph_function\u001b[0m \u001b[1;33m=\u001b[0m \u001b[0mself\u001b[0m\u001b[1;33m.\u001b[0m\u001b[0m_create_graph_function\u001b[0m\u001b[1;33m(\u001b[0m\u001b[0margs\u001b[0m\u001b[1;33m,\u001b[0m \u001b[0mkwargs\u001b[0m\u001b[1;33m)\u001b[0m\u001b[1;33m\u001b[0m\u001b[1;33m\u001b[0m\u001b[0m\n\u001b[0m\u001b[0;32m   3445\u001b[0m           \u001b[0mself\u001b[0m\u001b[1;33m.\u001b[0m\u001b[0m_function_cache\u001b[0m\u001b[1;33m.\u001b[0m\u001b[0mprimary\u001b[0m\u001b[1;33m[\u001b[0m\u001b[0mcache_key\u001b[0m\u001b[1;33m]\u001b[0m \u001b[1;33m=\u001b[0m \u001b[0mgraph_function\u001b[0m\u001b[1;33m\u001b[0m\u001b[1;33m\u001b[0m\u001b[0m\n\u001b[0;32m   3446\u001b[0m \u001b[1;33m\u001b[0m\u001b[0m\n",
      "\u001b[1;32m~\\AppData\\Local\\Continuum\\anaconda3\\lib\\site-packages\\tensorflow\\python\\eager\\function.py\u001b[0m in \u001b[0;36m_create_graph_function\u001b[1;34m(self, args, kwargs, override_flat_arg_shapes)\u001b[0m\n\u001b[0;32m   3287\u001b[0m             \u001b[0marg_names\u001b[0m\u001b[1;33m=\u001b[0m\u001b[0marg_names\u001b[0m\u001b[1;33m,\u001b[0m\u001b[1;33m\u001b[0m\u001b[1;33m\u001b[0m\u001b[0m\n\u001b[0;32m   3288\u001b[0m             \u001b[0moverride_flat_arg_shapes\u001b[0m\u001b[1;33m=\u001b[0m\u001b[0moverride_flat_arg_shapes\u001b[0m\u001b[1;33m,\u001b[0m\u001b[1;33m\u001b[0m\u001b[1;33m\u001b[0m\u001b[0m\n\u001b[1;32m-> 3289\u001b[1;33m             capture_by_value=self._capture_by_value),\n\u001b[0m\u001b[0;32m   3290\u001b[0m         \u001b[0mself\u001b[0m\u001b[1;33m.\u001b[0m\u001b[0m_function_attributes\u001b[0m\u001b[1;33m,\u001b[0m\u001b[1;33m\u001b[0m\u001b[1;33m\u001b[0m\u001b[0m\n\u001b[0;32m   3291\u001b[0m         \u001b[0mfunction_spec\u001b[0m\u001b[1;33m=\u001b[0m\u001b[0mself\u001b[0m\u001b[1;33m.\u001b[0m\u001b[0mfunction_spec\u001b[0m\u001b[1;33m,\u001b[0m\u001b[1;33m\u001b[0m\u001b[1;33m\u001b[0m\u001b[0m\n",
      "\u001b[1;32m~\\AppData\\Local\\Continuum\\anaconda3\\lib\\site-packages\\tensorflow\\python\\framework\\func_graph.py\u001b[0m in \u001b[0;36mfunc_graph_from_py_func\u001b[1;34m(name, python_func, args, kwargs, signature, func_graph, autograph, autograph_options, add_control_dependencies, arg_names, op_return_value, collections, capture_by_value, override_flat_arg_shapes)\u001b[0m\n\u001b[0;32m    997\u001b[0m         \u001b[0m_\u001b[0m\u001b[1;33m,\u001b[0m \u001b[0moriginal_func\u001b[0m \u001b[1;33m=\u001b[0m \u001b[0mtf_decorator\u001b[0m\u001b[1;33m.\u001b[0m\u001b[0munwrap\u001b[0m\u001b[1;33m(\u001b[0m\u001b[0mpython_func\u001b[0m\u001b[1;33m)\u001b[0m\u001b[1;33m\u001b[0m\u001b[1;33m\u001b[0m\u001b[0m\n\u001b[0;32m    998\u001b[0m \u001b[1;33m\u001b[0m\u001b[0m\n\u001b[1;32m--> 999\u001b[1;33m       \u001b[0mfunc_outputs\u001b[0m \u001b[1;33m=\u001b[0m \u001b[0mpython_func\u001b[0m\u001b[1;33m(\u001b[0m\u001b[1;33m*\u001b[0m\u001b[0mfunc_args\u001b[0m\u001b[1;33m,\u001b[0m \u001b[1;33m**\u001b[0m\u001b[0mfunc_kwargs\u001b[0m\u001b[1;33m)\u001b[0m\u001b[1;33m\u001b[0m\u001b[1;33m\u001b[0m\u001b[0m\n\u001b[0m\u001b[0;32m   1000\u001b[0m \u001b[1;33m\u001b[0m\u001b[0m\n\u001b[0;32m   1001\u001b[0m       \u001b[1;31m# invariant: `func_outputs` contains only Tensors, CompositeTensors,\u001b[0m\u001b[1;33m\u001b[0m\u001b[1;33m\u001b[0m\u001b[1;33m\u001b[0m\u001b[0m\n",
      "\u001b[1;32m~\\AppData\\Local\\Continuum\\anaconda3\\lib\\site-packages\\tensorflow\\python\\eager\\def_function.py\u001b[0m in \u001b[0;36mwrapped_fn\u001b[1;34m(*args, **kwds)\u001b[0m\n\u001b[0;32m    670\u001b[0m         \u001b[1;31m# the function a weak reference to itself to avoid a reference cycle.\u001b[0m\u001b[1;33m\u001b[0m\u001b[1;33m\u001b[0m\u001b[1;33m\u001b[0m\u001b[0m\n\u001b[0;32m    671\u001b[0m         \u001b[1;32mwith\u001b[0m \u001b[0mOptionalXlaContext\u001b[0m\u001b[1;33m(\u001b[0m\u001b[0mcompile_with_xla\u001b[0m\u001b[1;33m)\u001b[0m\u001b[1;33m:\u001b[0m\u001b[1;33m\u001b[0m\u001b[1;33m\u001b[0m\u001b[0m\n\u001b[1;32m--> 672\u001b[1;33m           \u001b[0mout\u001b[0m \u001b[1;33m=\u001b[0m \u001b[0mweak_wrapped_fn\u001b[0m\u001b[1;33m(\u001b[0m\u001b[1;33m)\u001b[0m\u001b[1;33m.\u001b[0m\u001b[0m__wrapped__\u001b[0m\u001b[1;33m(\u001b[0m\u001b[1;33m*\u001b[0m\u001b[0margs\u001b[0m\u001b[1;33m,\u001b[0m \u001b[1;33m**\u001b[0m\u001b[0mkwds\u001b[0m\u001b[1;33m)\u001b[0m\u001b[1;33m\u001b[0m\u001b[1;33m\u001b[0m\u001b[0m\n\u001b[0m\u001b[0;32m    673\u001b[0m         \u001b[1;32mreturn\u001b[0m \u001b[0mout\u001b[0m\u001b[1;33m\u001b[0m\u001b[1;33m\u001b[0m\u001b[0m\n\u001b[0;32m    674\u001b[0m \u001b[1;33m\u001b[0m\u001b[0m\n",
      "\u001b[1;32m~\\AppData\\Local\\Continuum\\anaconda3\\lib\\site-packages\\tensorflow\\python\\framework\\func_graph.py\u001b[0m in \u001b[0;36mwrapper\u001b[1;34m(*args, **kwargs)\u001b[0m\n\u001b[0;32m    984\u001b[0m           \u001b[1;32mexcept\u001b[0m \u001b[0mException\u001b[0m \u001b[1;32mas\u001b[0m \u001b[0me\u001b[0m\u001b[1;33m:\u001b[0m  \u001b[1;31m# pylint:disable=broad-except\u001b[0m\u001b[1;33m\u001b[0m\u001b[1;33m\u001b[0m\u001b[0m\n\u001b[0;32m    985\u001b[0m             \u001b[1;32mif\u001b[0m \u001b[0mhasattr\u001b[0m\u001b[1;33m(\u001b[0m\u001b[0me\u001b[0m\u001b[1;33m,\u001b[0m \u001b[1;34m\"ag_error_metadata\"\u001b[0m\u001b[1;33m)\u001b[0m\u001b[1;33m:\u001b[0m\u001b[1;33m\u001b[0m\u001b[1;33m\u001b[0m\u001b[0m\n\u001b[1;32m--> 986\u001b[1;33m               \u001b[1;32mraise\u001b[0m \u001b[0me\u001b[0m\u001b[1;33m.\u001b[0m\u001b[0mag_error_metadata\u001b[0m\u001b[1;33m.\u001b[0m\u001b[0mto_exception\u001b[0m\u001b[1;33m(\u001b[0m\u001b[0me\u001b[0m\u001b[1;33m)\u001b[0m\u001b[1;33m\u001b[0m\u001b[1;33m\u001b[0m\u001b[0m\n\u001b[0m\u001b[0;32m    987\u001b[0m             \u001b[1;32melse\u001b[0m\u001b[1;33m:\u001b[0m\u001b[1;33m\u001b[0m\u001b[1;33m\u001b[0m\u001b[0m\n\u001b[0;32m    988\u001b[0m               \u001b[1;32mraise\u001b[0m\u001b[1;33m\u001b[0m\u001b[1;33m\u001b[0m\u001b[0m\n",
      "\u001b[1;31mValueError\u001b[0m: in user code:\n\n    C:\\Users\\svetl\\AppData\\Local\\Continuum\\anaconda3\\lib\\site-packages\\tensorflow\\python\\keras\\engine\\training.py:1569 predict_function  *\n        return step_function(self, iterator)\n    C:\\Users\\svetl\\AppData\\Local\\Continuum\\anaconda3\\lib\\site-packages\\tensorflow\\python\\keras\\engine\\training.py:1559 step_function  **\n        outputs = model.distribute_strategy.run(run_step, args=(data,))\n    C:\\Users\\svetl\\AppData\\Local\\Continuum\\anaconda3\\lib\\site-packages\\tensorflow\\python\\distribute\\distribute_lib.py:1285 run\n        return self._extended.call_for_each_replica(fn, args=args, kwargs=kwargs)\n    C:\\Users\\svetl\\AppData\\Local\\Continuum\\anaconda3\\lib\\site-packages\\tensorflow\\python\\distribute\\distribute_lib.py:2833 call_for_each_replica\n        return self._call_for_each_replica(fn, args, kwargs)\n    C:\\Users\\svetl\\AppData\\Local\\Continuum\\anaconda3\\lib\\site-packages\\tensorflow\\python\\distribute\\distribute_lib.py:3608 _call_for_each_replica\n        return fn(*args, **kwargs)\n    C:\\Users\\svetl\\AppData\\Local\\Continuum\\anaconda3\\lib\\site-packages\\tensorflow\\python\\keras\\engine\\training.py:1552 run_step  **\n        outputs = model.predict_step(data)\n    C:\\Users\\svetl\\AppData\\Local\\Continuum\\anaconda3\\lib\\site-packages\\tensorflow\\python\\keras\\engine\\training.py:1525 predict_step\n        return self(x, training=False)\n    C:\\Users\\svetl\\AppData\\Local\\Continuum\\anaconda3\\lib\\site-packages\\tensorflow\\python\\keras\\engine\\base_layer.py:1013 __call__\n        input_spec.assert_input_compatibility(self.input_spec, inputs, self.name)\n    C:\\Users\\svetl\\AppData\\Local\\Continuum\\anaconda3\\lib\\site-packages\\tensorflow\\python\\keras\\engine\\input_spec.py:203 assert_input_compatibility\n        ' input tensors. Inputs received: ' + str(inputs))\n\n    ValueError: Layer model expects 2 input(s), but it received 1 input tensors. Inputs received: [<tf.Tensor 'IteratorGetNext:0' shape=(None, 128, 3) dtype=float32>]\n"
     ]
    }
   ],
   "source": [
    "pred = model.predict(X_test)\n",
    "pred_size = X_train.shape[0]\n",
    "print(pred_size)\n",
    "#pred = tf.keras.backend.argmax(pred, axis = 1)\n",
    "#label = tf.keras.backend.argmax(Y_test,axis = 1) \n",
    "metrics=[METRICS]\n",
    "#metrics = tf.keras.metrics.SpecificityAtSensitivity(0.5)\n",
    "#metrics = metrics.result().numpy()\n",
    "confusion = tf.math.confusion_matrix(labels=tf.keras.backend.argmax(Y_test,axis = 1),\n",
    "                                       predictions=tf.keras.backend.argmax(pred, axis = 1), num_classes=5)\n",
    "print(confusion)\n",
    "print(metrics)\n",
    "\n",
    "\n",
    "#print(\"Loss {}, Accuracy {}\".format(loss, acc))\n",
    "# Convert the model to the TensorFlow Lite format without quantization\n",
    "#converter = tf.lite.TFLiteConverter.from_keras_model(model)\n",
    "#tflite_model = converter.convert()"
   ]
  },
  {
   "cell_type": "code",
   "execution_count": 21,
   "metadata": {},
   "outputs": [
    {
     "name": "stdout",
     "output_type": "stream",
     "text": [
      "0.0\n"
     ]
    }
   ],
   "source": [
    "metrics = tf.keras.metrics.SpecificityAtSensitivity(0.5)\n",
    "metrics = metrics.result().numpy()\n",
    "print(metrics)"
   ]
  },
  {
   "cell_type": "code",
   "execution_count": 25,
   "metadata": {},
   "outputs": [
    {
     "name": "stdout",
     "output_type": "stream",
     "text": [
      "INFO:tensorflow:Assets written to: saved_model/my_model\\assets\n"
     ]
    },
    {
     "name": "stderr",
     "output_type": "stream",
     "text": [
      "INFO:tensorflow:Assets written to: saved_model/my_model\\assets\n"
     ]
    }
   ],
   "source": [
    "!mkdir -p saved_model\n",
    "model.save('saved_model/my_model')"
   ]
  },
  {
   "cell_type": "code",
   "execution_count": 26,
   "metadata": {},
   "outputs": [
    {
     "name": "stdout",
     "output_type": "stream",
     "text": [
      "Model: \"sequential\"\n",
      "_________________________________________________________________\n",
      "Layer (type)                 Output Shape              Param #   \n",
      "=================================================================\n",
      "lstm (LSTM)                  (None, 50)                10800     \n",
      "_________________________________________________________________\n",
      "dense (Dense)                (None, 32)                1632      \n",
      "_________________________________________________________________\n",
      "dense_1 (Dense)              (None, 5)                 165       \n",
      "=================================================================\n",
      "Total params: 12,597\n",
      "Trainable params: 12,597\n",
      "Non-trainable params: 0\n",
      "_________________________________________________________________\n"
     ]
    }
   ],
   "source": [
    "new_model = tf.keras.models.load_model('saved_model/my_model')\n",
    "\n",
    "# Check its architecture\n",
    "new_model.summary()"
   ]
  },
  {
   "cell_type": "code",
   "execution_count": 24,
   "metadata": {},
   "outputs": [
    {
     "name": "stdout",
     "output_type": "stream",
     "text": [
      "INFO:tensorflow:Assets written to: C:\\Users\\svetl\\AppData\\Local\\Temp\\tmpa61jicdx\\assets\n"
     ]
    }
   ],
   "source": [
    "converter = tf.lite.TFLiteConverter.from_keras_model(model)\n",
    "#converter = tf.lite.TFLiteConverter.from_keras_model('CNNmodel.h5')\n",
    "tflite_model = converter.convert()"
   ]
  },
  {
   "cell_type": "code",
   "execution_count": 30,
   "metadata": {},
   "outputs": [
    {
     "name": "stdout",
     "output_type": "stream",
     "text": [
      "INFO:tensorflow:Assets written to: C:\\Users\\svetl\\AppData\\Local\\Temp\\tmptdq959d2\\assets\n"
     ]
    },
    {
     "name": "stderr",
     "output_type": "stream",
     "text": [
      "INFO:tensorflow:Assets written to: C:\\Users\\svetl\\AppData\\Local\\Temp\\tmptdq959d2\\assets\n"
     ]
    },
    {
     "ename": "ValueError",
     "evalue": "Failed to parse the model: pybind11::init(): factory function returned nullptr.",
     "output_type": "error",
     "traceback": [
      "\u001b[1;31m---------------------------------------------------------------------------\u001b[0m",
      "\u001b[1;31mTypeError\u001b[0m                                 Traceback (most recent call last)",
      "\u001b[1;32m~\\AppData\\Local\\Continuum\\anaconda3\\lib\\site-packages\\tensorflow\\lite\\python\\optimize\\calibrator.py\u001b[0m in \u001b[0;36m__init__\u001b[1;34m(self, model_content, custom_op_registerers_by_name, custom_op_registerers_by_func)\u001b[0m\n\u001b[0;32m     70\u001b[0m               \u001b[0mmodel_content\u001b[0m\u001b[1;33m,\u001b[0m \u001b[0mcustom_op_registerers_by_name\u001b[0m\u001b[1;33m,\u001b[0m\u001b[1;33m\u001b[0m\u001b[1;33m\u001b[0m\u001b[0m\n\u001b[1;32m---> 71\u001b[1;33m               custom_op_registerers_by_func))\n\u001b[0m\u001b[0;32m     72\u001b[0m     \u001b[1;32mexcept\u001b[0m \u001b[0mException\u001b[0m \u001b[1;32mas\u001b[0m \u001b[0me\u001b[0m\u001b[1;33m:\u001b[0m\u001b[1;33m\u001b[0m\u001b[1;33m\u001b[0m\u001b[0m\n",
      "\u001b[1;31mTypeError\u001b[0m: pybind11::init(): factory function returned nullptr",
      "\nDuring handling of the above exception, another exception occurred:\n",
      "\u001b[1;31mValueError\u001b[0m                                Traceback (most recent call last)",
      "\u001b[1;32m<ipython-input-30-8d4def9b9ad6>\u001b[0m in \u001b[0;36m<module>\u001b[1;34m\u001b[0m\n\u001b[0;32m     15\u001b[0m \u001b[1;31m#converter.target_spec.supported_ops = [tf.lite.OpsSet.TFLITE_BUILTINS_INT8]\u001b[0m\u001b[1;33m\u001b[0m\u001b[1;33m\u001b[0m\u001b[1;33m\u001b[0m\u001b[0m\n\u001b[0;32m     16\u001b[0m \u001b[1;33m\u001b[0m\u001b[0m\n\u001b[1;32m---> 17\u001b[1;33m \u001b[0mtflite_model\u001b[0m \u001b[1;33m=\u001b[0m \u001b[0mconverter\u001b[0m\u001b[1;33m.\u001b[0m\u001b[0mconvert\u001b[0m\u001b[1;33m(\u001b[0m\u001b[1;33m)\u001b[0m\u001b[1;33m\u001b[0m\u001b[1;33m\u001b[0m\u001b[0m\n\u001b[0m\u001b[0;32m     18\u001b[0m \u001b[1;31m#tflite_models_file = pathlib.Path(\"./tmp/model1.tflite\")\u001b[0m\u001b[1;33m\u001b[0m\u001b[1;33m\u001b[0m\u001b[1;33m\u001b[0m\u001b[0m\n\u001b[0;32m     19\u001b[0m \u001b[0mtflite_model_file\u001b[0m \u001b[1;33m=\u001b[0m \u001b[0mpathlib\u001b[0m\u001b[1;33m.\u001b[0m\u001b[0mPath\u001b[0m\u001b[1;33m(\u001b[0m\u001b[1;34m\"./tmp/model2.tflite\"\u001b[0m\u001b[1;33m)\u001b[0m     \u001b[1;31m# Change the filename here for Model2 and Model3!\u001b[0m\u001b[1;33m\u001b[0m\u001b[1;33m\u001b[0m\u001b[0m\n",
      "\u001b[1;32m~\\AppData\\Local\\Continuum\\anaconda3\\lib\\site-packages\\tensorflow\\lite\\python\\lite.py\u001b[0m in \u001b[0;36mconvert\u001b[1;34m(self)\u001b[0m\n\u001b[0;32m   1056\u001b[0m \u001b[1;33m\u001b[0m\u001b[0m\n\u001b[0;32m   1057\u001b[0m     result = super(TFLiteKerasModelConverterV2,\n\u001b[1;32m-> 1058\u001b[1;33m                    self).convert(graph_def, input_tensors, output_tensors)\n\u001b[0m\u001b[0;32m   1059\u001b[0m     \u001b[0mself\u001b[0m\u001b[1;33m.\u001b[0m\u001b[0m_increase_conversion_success_metric\u001b[0m\u001b[1;33m(\u001b[0m\u001b[0mresult\u001b[0m\u001b[1;33m)\u001b[0m\u001b[1;33m\u001b[0m\u001b[1;33m\u001b[0m\u001b[0m\n\u001b[0;32m   1060\u001b[0m     \u001b[1;32mreturn\u001b[0m \u001b[0mresult\u001b[0m\u001b[1;33m\u001b[0m\u001b[1;33m\u001b[0m\u001b[0m\n",
      "\u001b[1;32m~\\AppData\\Local\\Continuum\\anaconda3\\lib\\site-packages\\tensorflow\\lite\\python\\lite.py\u001b[0m in \u001b[0;36mconvert\u001b[1;34m(self, graph_def, input_tensors, output_tensors)\u001b[0m\n\u001b[0;32m    793\u001b[0m \u001b[1;33m\u001b[0m\u001b[0m\n\u001b[0;32m    794\u001b[0m     \u001b[1;32mif\u001b[0m \u001b[0mcalibrate_and_quantize\u001b[0m\u001b[1;33m:\u001b[0m\u001b[1;33m\u001b[0m\u001b[1;33m\u001b[0m\u001b[0m\n\u001b[1;32m--> 795\u001b[1;33m       \u001b[0mresult\u001b[0m \u001b[1;33m=\u001b[0m \u001b[0mself\u001b[0m\u001b[1;33m.\u001b[0m\u001b[0m_calibrate_quantize_model\u001b[0m\u001b[1;33m(\u001b[0m\u001b[0mresult\u001b[0m\u001b[1;33m,\u001b[0m \u001b[1;33m**\u001b[0m\u001b[0mflags\u001b[0m\u001b[1;33m)\u001b[0m\u001b[1;33m\u001b[0m\u001b[1;33m\u001b[0m\u001b[0m\n\u001b[0m\u001b[0;32m    796\u001b[0m \u001b[1;33m\u001b[0m\u001b[0m\n\u001b[0;32m    797\u001b[0m     flags_modify_model_io_type = quant_mode.flags_modify_model_io_type(\n",
      "\u001b[1;32m~\\AppData\\Local\\Continuum\\anaconda3\\lib\\site-packages\\tensorflow\\lite\\python\\lite.py\u001b[0m in \u001b[0;36m_calibrate_quantize_model\u001b[1;34m(self, result, inference_input_type, inference_output_type, activations_type, allow_float)\u001b[0m\n\u001b[0;32m    517\u001b[0m     calibrate_quantize = _calibrator.Calibrator(result,\n\u001b[0;32m    518\u001b[0m                                                 \u001b[0mcustom_op_registerers_by_name\u001b[0m\u001b[1;33m,\u001b[0m\u001b[1;33m\u001b[0m\u001b[1;33m\u001b[0m\u001b[0m\n\u001b[1;32m--> 519\u001b[1;33m                                                 custom_op_registerers_by_func)\n\u001b[0m\u001b[0;32m    520\u001b[0m     \u001b[1;32mif\u001b[0m \u001b[0mself\u001b[0m\u001b[1;33m.\u001b[0m\u001b[0m_experimental_calibrate_only\u001b[0m \u001b[1;32mor\u001b[0m \u001b[0mself\u001b[0m\u001b[1;33m.\u001b[0m\u001b[0mexperimental_new_quantizer\u001b[0m\u001b[1;33m:\u001b[0m\u001b[1;33m\u001b[0m\u001b[1;33m\u001b[0m\u001b[0m\n\u001b[0;32m    521\u001b[0m       calibrated = calibrate_quantize.calibrate(\n",
      "\u001b[1;32m~\\AppData\\Local\\Continuum\\anaconda3\\lib\\site-packages\\tensorflow\\lite\\python\\optimize\\calibrator.py\u001b[0m in \u001b[0;36m__init__\u001b[1;34m(self, model_content, custom_op_registerers_by_name, custom_op_registerers_by_func)\u001b[0m\n\u001b[0;32m     71\u001b[0m               custom_op_registerers_by_func))\n\u001b[0;32m     72\u001b[0m     \u001b[1;32mexcept\u001b[0m \u001b[0mException\u001b[0m \u001b[1;32mas\u001b[0m \u001b[0me\u001b[0m\u001b[1;33m:\u001b[0m\u001b[1;33m\u001b[0m\u001b[1;33m\u001b[0m\u001b[0m\n\u001b[1;32m---> 73\u001b[1;33m       \u001b[1;32mraise\u001b[0m \u001b[0mValueError\u001b[0m\u001b[1;33m(\u001b[0m\u001b[1;34m\"Failed to parse the model: %s.\"\u001b[0m \u001b[1;33m%\u001b[0m \u001b[0me\u001b[0m\u001b[1;33m)\u001b[0m\u001b[1;33m\u001b[0m\u001b[1;33m\u001b[0m\u001b[0m\n\u001b[0m\u001b[0;32m     74\u001b[0m     \u001b[1;32mif\u001b[0m \u001b[1;32mnot\u001b[0m \u001b[0mself\u001b[0m\u001b[1;33m.\u001b[0m\u001b[0m_calibrator\u001b[0m\u001b[1;33m:\u001b[0m\u001b[1;33m\u001b[0m\u001b[1;33m\u001b[0m\u001b[0m\n\u001b[0;32m     75\u001b[0m       \u001b[1;32mraise\u001b[0m \u001b[0mValueError\u001b[0m\u001b[1;33m(\u001b[0m\u001b[1;34m\"Failed to parse the model.\"\u001b[0m\u001b[1;33m)\u001b[0m\u001b[1;33m\u001b[0m\u001b[1;33m\u001b[0m\u001b[0m\n",
      "\u001b[1;31mValueError\u001b[0m: Failed to parse the model: pybind11::init(): factory function returned nullptr."
     ]
    }
   ],
   "source": [
    "import pathlib\n",
    "converter = tf.lite.TFLiteConverter.from_keras_model(model)\n",
    "\n",
    "# These options are for converter optimizaitons\n",
    "# Try the converter without them and explore model size and accuracy\n",
    "# Then use them and reconvert the model and explore model\n",
    "# size an accuracy at that point.\n",
    "\n",
    "converter.optimizations = [tf.lite.Optimize.DEFAULT]    # Uncomment this line for Model 2 and Model 3\n",
    "\n",
    "def representative_data_gen():                          # Uncomment the following 5 lines for Model 3\n",
    "     for input_value, _ in X_test.take(100):\n",
    "         yield [input_value]\n",
    "converter.representative_dataset = representative_data_gen\n",
    "#converter.target_spec.supported_ops = [tf.lite.OpsSet.TFLITE_BUILTINS_INT8]\n",
    "\n",
    "tflite_model = converter.convert()\n",
    "#tflite_models_file = pathlib.Path(\"./tmp/model1.tflite\")\n",
    "tflite_model_file = pathlib.Path(\"./tmp/model2.tflite\")     # Change the filename here for Model2 and Model3!\n",
    "tflite_model_file.write_bytes(tflite_model)\n",
    "# Without any optimizations I got\n",
    "# 87840  (model1.tflite) - the model that was created with 5 epochs from the full dataset\n",
    "# With the .optimizations property set I got\n",
    "# 53000(model2.tflite)\n",
    "# With the .optimizations Int8 property set I got\n",
    "#  (model3.tflite)\n"
   ]
  },
  {
   "cell_type": "code",
   "execution_count": null,
   "metadata": {},
   "outputs": [],
   "source": [
    "@tf.function\n",
    "def call(x, states):\n",
    "    x, states = model([x,states])\n",
    "    return x, states\n",
    "\n",
    "batch_size = 1\n",
    "concrete_func = call.get_concrete_function(\n",
    "    x = tf.TensorSpec(shape=[batch_size,1,128], dtype=tf.float32), \n",
    "    states = tf.TensorSpec(shape=[batch_size,1,128, 2], dtype=tf.float32))\n",
    "export_dir = '/saved_model'\n",
    "model.save(export_dir, save_format=\"tf\", signatures=concrete_func)\n",
    "\n",
    "converter = tf.lite.TFLiteConverter.from_saved_model(export_dir)\n",
    "converter.optimizations = [tf.lite.Optimize.DEFAULT]\n",
    "tflite_model2 = converter.convert()"
   ]
  },
  {
   "cell_type": "code",
   "execution_count": 32,
   "metadata": {},
   "outputs": [
    {
     "name": "stdout",
     "output_type": "stream",
     "text": [
      "WARNING:tensorflow:Compiled the loaded model, but the compiled metrics have yet to be built. `model.compile_metrics` will be empty until you train or evaluate the model.\n"
     ]
    },
    {
     "name": "stderr",
     "output_type": "stream",
     "text": [
      "WARNING:tensorflow:Compiled the loaded model, but the compiled metrics have yet to be built. `model.compile_metrics` will be empty until you train or evaluate the model.\n",
      "WARNING:absl:Found untraced functions such as lstm_cell_2_layer_call_fn, lstm_cell_2_layer_call_and_return_conditional_losses, lstm_cell_2_layer_call_fn, lstm_cell_2_layer_call_and_return_conditional_losses, lstm_cell_2_layer_call_and_return_conditional_losses while saving (showing 5 of 5). These functions will not be directly callable after loading.\n"
     ]
    },
    {
     "name": "stdout",
     "output_type": "stream",
     "text": [
      "INFO:tensorflow:Assets written to: C:\\Users\\svetl\\AppData\\Local\\Temp\\tmpcqn_774w\\assets\n"
     ]
    },
    {
     "name": "stderr",
     "output_type": "stream",
     "text": [
      "INFO:tensorflow:Assets written to: C:\\Users\\svetl\\AppData\\Local\\Temp\\tmpcqn_774w\\assets\n"
     ]
    },
    {
     "ename": "NameError",
     "evalue": "name 'tflite_model2' is not defined",
     "output_type": "error",
     "traceback": [
      "\u001b[1;31m---------------------------------------------------------------------------\u001b[0m",
      "\u001b[1;31mNameError\u001b[0m                                 Traceback (most recent call last)",
      "\u001b[1;32m<ipython-input-32-3faf7ad75c97>\u001b[0m in \u001b[0;36m<module>\u001b[1;34m\u001b[0m\n\u001b[0;32m     20\u001b[0m \u001b[0mtflite_model\u001b[0m \u001b[1;33m=\u001b[0m \u001b[0mconverter\u001b[0m\u001b[1;33m.\u001b[0m\u001b[0mconvert\u001b[0m\u001b[1;33m(\u001b[0m\u001b[1;33m)\u001b[0m\u001b[1;33m\u001b[0m\u001b[1;33m\u001b[0m\u001b[0m\n\u001b[0;32m     21\u001b[0m \u001b[1;32mwith\u001b[0m \u001b[0mtf\u001b[0m\u001b[1;33m.\u001b[0m\u001b[0mio\u001b[0m\u001b[1;33m.\u001b[0m\u001b[0mgfile\u001b[0m\u001b[1;33m.\u001b[0m\u001b[0mGFile\u001b[0m\u001b[1;33m(\u001b[0m\u001b[1;34m'test_model.tflite'\u001b[0m\u001b[1;33m,\u001b[0m \u001b[1;34m'wb'\u001b[0m\u001b[1;33m)\u001b[0m \u001b[1;32mas\u001b[0m \u001b[0mf\u001b[0m\u001b[1;33m:\u001b[0m\u001b[1;33m\u001b[0m\u001b[1;33m\u001b[0m\u001b[0m\n\u001b[1;32m---> 22\u001b[1;33m       \u001b[0mf\u001b[0m\u001b[1;33m.\u001b[0m\u001b[0mwrite\u001b[0m\u001b[1;33m(\u001b[0m\u001b[0mtflite_model2\u001b[0m\u001b[1;33m)\u001b[0m\u001b[1;33m\u001b[0m\u001b[1;33m\u001b[0m\u001b[0m\n\u001b[0m\u001b[0;32m     23\u001b[0m \u001b[1;33m\u001b[0m\u001b[0m\n\u001b[0;32m     24\u001b[0m \u001b[0minterpreter\u001b[0m \u001b[1;33m=\u001b[0m \u001b[0mtf\u001b[0m\u001b[1;33m.\u001b[0m\u001b[0mlite\u001b[0m\u001b[1;33m.\u001b[0m\u001b[0mInterpreter\u001b[0m\u001b[1;33m(\u001b[0m\u001b[0mmodel_path\u001b[0m\u001b[1;33m=\u001b[0m\u001b[1;34m'./test_model.tflite2'\u001b[0m\u001b[1;33m)\u001b[0m\u001b[1;33m\u001b[0m\u001b[1;33m\u001b[0m\u001b[0m\n",
      "\u001b[1;31mNameError\u001b[0m: name 'tflite_model2' is not defined"
     ]
    }
   ],
   "source": [
    "import pathlib\n",
    "from tensorflow.keras.layers import  LSTM, Input\n",
    "\n",
    "in_dat = Input(batch_shape=(1,1,128))\n",
    "in_states = Input(batch_shape=(1,1,128,2))\n",
    "\n",
    "\n",
    "in_state = [in_states[:,0,:,0], in_states[:,0,:,1]]\n",
    "out_dat, state_h, state_c = LSTM(128, \n",
    "                                 return_sequences=True, \n",
    "                                 return_state=True)(in_dat, initial_state=in_state)\n",
    "\n",
    "out_states = tf.stack([state_h, state_c],axis=-1)\n",
    "\n",
    "model = Model(inputs=[in_dat, in_states], \n",
    "                           outputs=[out_dat, out_states])\n",
    "\n",
    "\n",
    "converter = tf.lite.TFLiteConverter.from_keras_model(model)\n",
    "converter.optimizations = [tf.lite.Optimize.DEFAULT]\n",
    "tflite_model = converter.convert()\n",
    "with tf.io.gfile.GFile('test_model.tflite', 'wb') as f:\n",
    "      #f.write(tflite_model2)\n",
    "        f.write(netmodels)\n",
    "\n",
    "interpreter = tf.lite.Interpreter(model_path='./test_model.tflite2')"
   ]
  },
  {
   "cell_type": "code",
   "execution_count": 39,
   "metadata": {},
   "outputs": [
    {
     "name": "stdout",
     "output_type": "stream",
     "text": [
      "0\n",
      "31\n"
     ]
    },
    {
     "name": "stderr",
     "output_type": "stream",
     "text": [
      "100%|██████████| 100/100 [00:00<00:00, 365.89it/s]\n"
     ]
    },
    {
     "ename": "ValueError",
     "evalue": "The truth value of an array with more than one element is ambiguous. Use a.any() or a.all()",
     "output_type": "error",
     "traceback": [
      "\u001b[1;31m---------------------------------------------------------------------------\u001b[0m",
      "\u001b[1;31mValueError\u001b[0m                                Traceback (most recent call last)",
      "\u001b[1;32m<ipython-input-39-3f517cc5bc7c>\u001b[0m in \u001b[0;36m<module>\u001b[1;34m\u001b[0m\n\u001b[0;32m     35\u001b[0m   \u001b[0mprediction\u001b[0m\u001b[1;33m=\u001b[0m\u001b[0mnp\u001b[0m\u001b[1;33m.\u001b[0m\u001b[0margmax\u001b[0m\u001b[1;33m(\u001b[0m\u001b[0mpredictions\u001b[0m\u001b[1;33m[\u001b[0m\u001b[0mitem\u001b[0m\u001b[1;33m]\u001b[0m\u001b[1;33m)\u001b[0m\u001b[1;33m\u001b[0m\u001b[1;33m\u001b[0m\u001b[0m\n\u001b[0;32m     36\u001b[0m   \u001b[0mlabel\u001b[0m \u001b[1;33m=\u001b[0m \u001b[0mY_test\u001b[0m\u001b[1;33m[\u001b[0m\u001b[0mitem\u001b[0m\u001b[1;33m]\u001b[0m\u001b[1;33m\u001b[0m\u001b[1;33m\u001b[0m\u001b[0m\n\u001b[1;32m---> 37\u001b[1;33m   \u001b[1;32mif\u001b[0m \u001b[0mprediction\u001b[0m\u001b[1;33m==\u001b[0m\u001b[0mlabel\u001b[0m\u001b[1;33m:\u001b[0m\u001b[1;33m\u001b[0m\u001b[1;33m\u001b[0m\u001b[0m\n\u001b[0m\u001b[0;32m     38\u001b[0m     \u001b[0mscore\u001b[0m\u001b[1;33m=\u001b[0m\u001b[0mscore\u001b[0m\u001b[1;33m+\u001b[0m\u001b[1;36m1\u001b[0m\u001b[1;33m\u001b[0m\u001b[1;33m\u001b[0m\u001b[0m\n\u001b[0;32m     39\u001b[0m \u001b[1;33m\u001b[0m\u001b[0m\n",
      "\u001b[1;32m~\\AppData\\Local\\Continuum\\anaconda3\\lib\\site-packages\\tensorflow\\python\\framework\\ops.py\u001b[0m in \u001b[0;36m__bool__\u001b[1;34m(self)\u001b[0m\n\u001b[0;32m   1005\u001b[0m \u001b[1;33m\u001b[0m\u001b[0m\n\u001b[0;32m   1006\u001b[0m   \u001b[1;32mdef\u001b[0m \u001b[0m__bool__\u001b[0m\u001b[1;33m(\u001b[0m\u001b[0mself\u001b[0m\u001b[1;33m)\u001b[0m\u001b[1;33m:\u001b[0m\u001b[1;33m\u001b[0m\u001b[1;33m\u001b[0m\u001b[0m\n\u001b[1;32m-> 1007\u001b[1;33m     \u001b[1;32mreturn\u001b[0m \u001b[0mbool\u001b[0m\u001b[1;33m(\u001b[0m\u001b[0mself\u001b[0m\u001b[1;33m.\u001b[0m\u001b[0m_numpy\u001b[0m\u001b[1;33m(\u001b[0m\u001b[1;33m)\u001b[0m\u001b[1;33m)\u001b[0m\u001b[1;33m\u001b[0m\u001b[1;33m\u001b[0m\u001b[0m\n\u001b[0m\u001b[0;32m   1008\u001b[0m \u001b[1;33m\u001b[0m\u001b[0m\n\u001b[0;32m   1009\u001b[0m   \u001b[0m__nonzero__\u001b[0m \u001b[1;33m=\u001b[0m \u001b[0m__bool__\u001b[0m\u001b[1;33m\u001b[0m\u001b[1;33m\u001b[0m\u001b[0m\n",
      "\u001b[1;31mValueError\u001b[0m: The truth value of an array with more than one element is ambiguous. Use a.any() or a.all()"
     ]
    }
   ],
   "source": [
    "#Run this cell each time to test your model's accuracy (make sure to change the filename). \n",
    "#Tqdm is a Python library used to display smart progress bars that show the progress of Python code execution.\n",
    "from tqdm import tqdm\n",
    "# Load TFLite model and allocate tensors.\n",
    "tflite_model_file = './tmp/model1.tflite'                 # Change the filename here for Model 2 and 3 with optimisations\n",
    "interpreter = tf.lite.Interpreter(model_path=tflite_model_file)\n",
    "interpreter.allocate_tensors()\n",
    "\n",
    "input_index = interpreter.get_input_details()[0][\"index\"]\n",
    "output_index = interpreter.get_output_details()[0][\"index\"]\n",
    "print(input_index)\n",
    "print(output_index)\n",
    "\n",
    "predictions = []\n",
    "\n",
    "for i in tqdm(range(0,100)):\n",
    "    data = X_test[i]\n",
    "    data = data.reshape(1, data.shape[0], data.shape[1])#, data.shape[2]) \n",
    "    #print(data.shape)\n",
    "    label = Y_test[i]\n",
    "    interpreter.set_tensor(input_index, data)\n",
    "    interpreter.invoke()\n",
    "    predictions.append(interpreter.get_tensor(output_index))\n",
    "    \n",
    "#    Y_test_labels.append(label.numpy()[0])\n",
    "#    X_test.append(X_test)\n",
    "\n",
    "# For model 1, \n",
    "# For model 2, \n",
    "# For model 3, \n",
    "# Note: since the it/s will depend on the computer on which the model instance is running -- it would vary a bit.\n",
    "\n",
    "score = 0\n",
    "for item in range(0,100):\n",
    "  prediction=np.argmax(predictions[item])\n",
    "  label = Y_test[item]\n",
    "  if prediction==label:\n",
    "    score=score+1\n",
    "\n",
    "print(\"Out of 100 predictions I got \" + str(score) + \" correct\")\n",
    "\n",
    "# Model 1 - 100 Correct\n",
    "# Model 2 - 99 Correct\n",
    "# Model 3 - 99 Correct\n",
    "# Note: training starts from a random intialization the result could be off by 1 or 2 correct."
   ]
  },
  {
   "cell_type": "code",
   "execution_count": null,
   "metadata": {},
   "outputs": [],
   "source": []
  }
 ],
 "metadata": {
  "kernelspec": {
   "display_name": "Python 3",
   "language": "python",
   "name": "python3"
  },
  "language_info": {
   "codemirror_mode": {
    "name": "ipython",
    "version": 3
   },
   "file_extension": ".py",
   "mimetype": "text/x-python",
   "name": "python",
   "nbconvert_exporter": "python",
   "pygments_lexer": "ipython3",
   "version": "3.7.4"
  }
 },
 "nbformat": 4,
 "nbformat_minor": 2
}
